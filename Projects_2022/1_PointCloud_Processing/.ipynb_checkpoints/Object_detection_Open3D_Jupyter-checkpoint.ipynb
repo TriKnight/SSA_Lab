{
 "cells": [
  {
   "cell_type": "code",
   "execution_count": 1,
   "id": "ea0a8dac",
   "metadata": {},
   "outputs": [],
   "source": [
    "#Install the open3d version 0.15.2\n",
    "#pip install open3d==0.15.2"
   ]
  },
  {
   "cell_type": "code",
   "execution_count": 2,
   "id": "fa18c498",
   "metadata": {},
   "outputs": [
    {
     "name": "stdout",
     "output_type": "stream",
     "text": [
      "Jupyter environment detected. Enabling Open3D WebVisualizer.\n",
      "[Open3D INFO] WebRTC GUI backend enabled.\n",
      "[Open3D INFO] WebRTCWindowSystem: HTTP handshake server disabled.\n",
      "[Open3D INFO] Resetting default logger to print to terminal.\n",
      "0.15.2\n"
     ]
    }
   ],
   "source": [
    "import numpy as np\n",
    "import matplotlib.pyplot as plt\n",
    "import numpy as np\n",
    "import open3d as o3d\n",
    "from open3d.web_visualizer import draw\n",
    "# Verify installation\n",
    "import open3d as o3d; print(o3d.__version__)\n"
   ]
  },
  {
   "cell_type": "markdown",
   "id": "f811bb32",
   "metadata": {},
   "source": [
    "# Visualization\n",
    "## 1. draw function\n",
    "draw function in open3d.web_visualizer using to plot drirectly on Juppyter notebook. "
   ]
  },
  {
   "cell_type": "code",
   "execution_count": 3,
   "id": "bf683908",
   "metadata": {
    "scrolled": true
   },
   "outputs": [
    {
     "name": "stdout",
     "output_type": "stream",
     "text": [
      "[Open3D INFO] Window window_0 created.\n",
      "[Open3D INFO] EGL headless mode enabled.\n",
      "[Open3D INFO] ICE servers: {\"stun:stun.l.google.com:19302\", \"turn:user:password@34.69.27.100:3478\", \"turn:user:password@34.69.27.100:3478?transport=tcp\"}\n",
      "FEngine (64 bits) created at 0x7fc222478010 (threading is enabled)\n",
      "[Open3D INFO] Set WEBRTC_STUN_SERVER environment variable add a customized WebRTC STUN server.\n",
      "[Open3D INFO] WebRTC Jupyter handshake mode enabled.\n"
     ]
    },
    {
     "data": {
      "application/vnd.jupyter.widget-view+json": {
       "model_id": "d742eaea9f124750b8d90d8ed12703e1",
       "version_major": 2,
       "version_minor": 0
      },
      "text/plain": [
       "WebVisualizer(window_uid='window_0')"
      ]
     },
     "metadata": {},
     "output_type": "display_data"
    },
    {
     "name": "stdout",
     "output_type": "stream",
     "text": [
      "EGL(1.5)\n",
      "OpenGL(4.1)\n",
      "[Open3D INFO] [Called HTTP API (custom handshake)] /api/getIceServers\n",
      "[Open3D INFO] [Called HTTP API (custom handshake)] /api/call\n",
      "[Open3D INFO] [Called HTTP API (custom handshake)] /api/addIceCandidate\n",
      "[Open3D INFO] [Called HTTP API (custom handshake)] /api/addIceCandidate\n",
      "[Open3D INFO] [Called HTTP API (custom handshake)] /api/addIceCandidate\n",
      "[Open3D INFO] [Called HTTP API (custom handshake)] /api/addIceCandidate\n",
      "[Open3D INFO] [Called HTTP API (custom handshake)] /api/addIceCandidate\n",
      "[Open3D INFO] [Called HTTP API (custom handshake)] /api/addIceCandidate\n",
      "[Open3D INFO] [Called HTTP API (custom handshake)] /api/addIceCandidate\n",
      "[Open3D INFO] [Called HTTP API (custom handshake)] /api/addIceCandidate\n",
      "[Open3D INFO] [Called HTTP API (custom handshake)] /api/addIceCandidate\n",
      "[Open3D INFO] [Called HTTP API (custom handshake)] /api/addIceCandidate\n",
      "[Open3D INFO] [Called HTTP API (custom handshake)] /api/getIceCandidate\n",
      "[Open3D INFO] DataChannelObserver::OnStateChange label: ServerDataChannel, state: open, peerid: 0.8672570353957276\n",
      "[Open3D INFO] [Called HTTP API (custom handshake)] /api/addIceCandidate\n",
      "[Open3D INFO] DataChannelObserver::OnStateChange label: ClientDataChannel, state: open, peerid: 0.8672570353957276\n",
      "[Open3D INFO] Sending init frames to window_0.\n",
      "[Open3D INFO] [Called HTTP API (custom handshake)] /api/addIceCandidate\n"
     ]
    }
   ],
   "source": [
    "pcd = o3d.io.read_point_cloud(\"./data/MPTVKD/1656066956.048526525.pcd\")\n",
    "draw(pcd)"
   ]
  },
  {
   "cell_type": "markdown",
   "id": "a544ac7f",
   "metadata": {},
   "source": [
    "## Visualization with Open3D tab"
   ]
  },
  {
   "cell_type": "code",
   "execution_count": 4,
   "id": "9625cd3f",
   "metadata": {},
   "outputs": [],
   "source": [
    "# papers data: \n",
    "# Scene 1:  4 Trucks: 1656066956.048526525.pcd\n",
    "# Scene 2:  8 vehicle (4wd: 3, 2wd: 5): 1656066968.535995960.pcd\n",
    "# Scene 3:  10 vehicle (4wd: 8, 2wd: 2): 1656066960.544644356.pcd\n",
    "# Scene 4:  11 vehicle (4wd: 6, 2wd: 5): 1656066965.437746525.pcd\n",
    "# Scene 5:  12 vehicle (4wd: 8, 2wd: 4): 1656066971.431890965.pcd\n",
    "# Scene 6:  12 vehicle (4wd: 8, 2wd: 4): 1656066968.535995960.pcd\n"
   ]
  },
  {
   "cell_type": "code",
   "execution_count": 89,
   "id": "66d8a91b",
   "metadata": {},
   "outputs": [
    {
     "name": "stdout",
     "output_type": "stream",
     "text": [
      "Load a ply point cloud, print it, and render it\n",
      "PointCloud with 69504 points.\n"
     ]
    }
   ],
   "source": [
    "print(\"Load a ply point cloud, print it, and render it\")\n",
    "pcd = o3d.io.read_point_cloud(\"./data/MPTVKD/1656066974.428308964.pcd\")\n",
    "o3d.visualization.draw_geometries([pcd],\n",
    "                                  zoom=0.3412,\n",
    "                                  front=[0.4257, -0.2125, -0.8795],\n",
    "                                  lookat=[2.6172, 2.0475, 1.532],\n",
    "                                  up=[-0.0694, -0.9768, 0.2024])\n",
    "print(pcd)"
   ]
  },
  {
   "cell_type": "markdown",
   "id": "280bd929",
   "metadata": {},
   "source": [
    "## Interactive visualization (Crop Manual)\n",
    "http://www.open3d.org/docs/release/tutorial/visualization/interactive_visualization.html?highlight=crop\n",
    "\n",
    "The user must be aligned to an orthogonal_axis (by pressing x, y, z) to prevent the null value in the Json file (https://github.com/isl-org/Open3D/issues/404)\n"
   ]
  },
  {
   "cell_type": "code",
   "execution_count": 71,
   "id": "f8a7052f",
   "metadata": {
    "scrolled": true
   },
   "outputs": [
    {
     "name": "stdout",
     "output_type": "stream",
     "text": [
      "Demo for manual geometry cropping\n",
      "1) Press 'Z' to align geometry with positive direction or twice for negative direction of y-axis\n",
      "2) Press 'K' to lock screen and to switch to selection mode\n",
      "3) Drag for rectangle selection,\n",
      "   or use ctrl + left click for polygon selection\n",
      "4) Press 'C' to get a selected geometry and to save it\n",
      "5) Press 'F' to switch to freeview mode\n"
     ]
    }
   ],
   "source": [
    "def demo_crop_geometry():\n",
    "    print(\"Demo for manual geometry cropping\")\n",
    "    print(\n",
    "        \"1) Press 'Z' to align geometry with positive direction or twice for negative direction of y-axis\"\n",
    "    )\n",
    "    print(\"2) Press 'K' to lock screen and to switch to selection mode\")\n",
    "    print(\"3) Drag for rectangle selection,\")\n",
    "    print(\"   or use ctrl + left click for polygon selection\")\n",
    "    print(\"4) Press 'C' to get a selected geometry and to save it\")\n",
    "    print(\"5) Press 'F' to switch to freeview mode\")\n",
    "    pcd_data = o3d.data.DemoICPPointClouds()\n",
    "    pcd = o3d.io.read_point_cloud(\"./data/MPTVKD/1656066968.535995960.pcd\")\n",
    "    o3d.visualization.draw_geometries_with_editing([pcd])\n",
    "demo_crop_geometry()"
   ]
  },
  {
   "cell_type": "markdown",
   "id": "77221302",
   "metadata": {},
   "source": [
    "# Voxel downsampling"
   ]
  },
  {
   "cell_type": "code",
   "execution_count": 116,
   "id": "a3daed82",
   "metadata": {},
   "outputs": [
    {
     "name": "stdout",
     "output_type": "stream",
     "text": [
      "Load a polygon volume and use it to crop the original point cloud\n",
      "PointCloud with 26325 points.\n"
     ]
    }
   ],
   "source": [
    "print(\"Load a polygon volume and use it to crop the original point cloud\")\n",
    "# 3 truck \n",
    "# pcd = o3d.io.read_point_cloud(\"./data/MPTVKD/1656066956.048526525.pcd\")\n",
    "\n",
    "pcd = o3d.io.read_point_cloud(\"./data/MPTVKD/1656066971.431890965.pcd\")\n",
    "\n",
    "downpcd = pcd.voxel_down_sample(voxel_size=0.05)\n",
    "o3d.visualization.draw_geometries([downpcd],\n",
    "                                  zoom=0.3412,\n",
    "                                  front=[0.4257, -0.2125, -0.8795],\n",
    "                                  lookat=[2.6172, 2.0475, 1.532],\n",
    "                                  up=[-0.0694, -0.9768, 0.2024])\n",
    "print(downpcd)"
   ]
  },
  {
   "cell_type": "markdown",
   "id": "4e2d98eb",
   "metadata": {},
   "source": [
    "## Crop point cloud with json file in Y and Z direction\n"
   ]
  },
  {
   "cell_type": "code",
   "execution_count": 117,
   "id": "85cf75ae",
   "metadata": {},
   "outputs": [],
   "source": [
    "#Crop in the Y Direction\n",
    "# downpcd is the input point cloud\n",
    "vol_y = o3d.visualization.read_selection_polygon_volume(\"./data/crop/vehicle_crop_y.json\")\n",
    "vehicle_y = vol_y.crop_point_cloud(downpcd)\n",
    "\n",
    "#Crop in the Z direction \n",
    "\n",
    "vol = o3d.visualization.read_selection_polygon_volume(\"./data/crop/vehicle_crop_z_2.json\")\n",
    "vehicle_raw = vol.crop_point_cloud(vehicle_y)\n",
    "o3d.visualization.draw_geometries([vehicle_raw],\n",
    "                                  zoom=0.7,\n",
    "                                  front=[0.5439, -0.2333, -0.8060],\n",
    "                                  lookat=[2.4615, 2.1331, 1.338],\n",
    "                                  up=[-0.1781, -0.9708, 0.1608])\n",
    "\n",
    "\n",
    "#draw(vehicle)"
   ]
  },
  {
   "cell_type": "markdown",
   "id": "137931ce",
   "metadata": {},
   "source": [
    "## Point cloud distance \n",
    "\n",
    "Remove the center of the road"
   ]
  },
  {
   "cell_type": "markdown",
   "id": "563046ee",
   "metadata": {},
   "source": [
    "Open3D provides the method ```compute_point_cloud_distance``` to compute the distance from a source point cloud to a target point cloud. I.e., it computes for each point in the source point cloud the distance to the closest point in the target point cloud."
   ]
  },
  {
   "cell_type": "code",
   "execution_count": 92,
   "id": "8a1d9e2f",
   "metadata": {},
   "outputs": [
    {
     "name": "stdout",
     "output_type": "stream",
     "text": [
      "PointCloud with 21212 points.\n"
     ]
    }
   ],
   "source": [
    "print(vehicle_raw)"
   ]
  },
  {
   "cell_type": "code",
   "execution_count": 124,
   "id": "db904322",
   "metadata": {},
   "outputs": [],
   "source": [
    "# Load data\n",
    "# vehicle_raw is input point cloud\n",
    "center_road = o3d.visualization.read_selection_polygon_volume(\"./data/crop/center_road.json\")\n",
    "vehicle = center_road.crop_point_cloud(vehicle_raw)\n",
    "\n",
    "dists = vehicle_raw.compute_point_cloud_distance(vehicle)\n",
    "\n",
    "dists = np.asarray(dists)\n",
    "\n",
    "ind = np.where(dists > 0.01)[0]\n",
    "pcd_vehicle = vehicle_raw.select_by_index(ind)\n",
    "o3d.visualization.draw_geometries([pcd_vehicle],\n",
    "                                  zoom=0.3412,\n",
    "                                  front=[0.4257, -0.2125, -0.8795],\n",
    "                                  lookat=[2.6172, 2.0475, 1.532],\n",
    "                                  up=[-0.0694, -0.9768, 0.2024])"
   ]
  },
  {
   "cell_type": "markdown",
   "id": "79ad5c3d",
   "metadata": {},
   "source": [
    "## Plane Segmentation\n",
    "Plane segmentation with RANSAC"
   ]
  },
  {
   "cell_type": "code",
   "execution_count": 129,
   "id": "e59c9c77",
   "metadata": {},
   "outputs": [
    {
     "name": "stdout",
     "output_type": "stream",
     "text": [
      "Plane equation: -0.06x + 0.02y + 1.00z + 1.96 = 0\n",
      "PointCloud with 5054 points.\n"
     ]
    }
   ],
   "source": [
    "# pcd_vehicle is the point cloud input\n",
    "plane_model, inliers = pcd_vehicle.segment_plane(distance_threshold=0.2,\n",
    "                                         ransac_n=5,\n",
    "                                         num_iterations=1000)\n",
    "[a, b, c, d] = plane_model\n",
    "print(f\"Plane equation: {a:.2f}x + {b:.2f}y + {c:.2f}z + {d:.2f} = 0\")\n",
    "\n",
    "inlier_cloud = pcd_vehicle.select_by_index(inliers)\n",
    "inlier_cloud.paint_uniform_color([1.0, 0, 0])\n",
    "outlier_cloud = pcd_vehicle.select_by_index(inliers, invert=True)\n",
    "o3d.visualization.draw_geometries([outlier_cloud],\n",
    "                                  zoom=0.8,\n",
    "                                  front=[-0.4999, -0.1659, -0.8499],\n",
    "                                  lookat=[2.1813, 2.0619, 2.0999],\n",
    "                                  up=[0.1204, -0.9852, 0.1215])\n",
    "print(outlier_cloud)"
   ]
  },
  {
   "cell_type": "markdown",
   "id": "78085789",
   "metadata": {},
   "source": [
    "## DBScan\n",
    "https://www.aaai.org/Papers/KDD/1996/KDD96-037.pdf"
   ]
  },
  {
   "cell_type": "code",
   "execution_count": null,
   "id": "8dcff8a6",
   "metadata": {},
   "outputs": [],
   "source": [
    "#Filtering\n",
    "#outlier_cloud is the point cloud input\n",
    "print(\"Load a ply point cloud, print it, and render it\")\n",
    "labels = np.array(outlier_cloud.cluster_dbscan(eps=3.0, min_points=10, print_progress=True))\n",
    "max_label = labels.max()\n",
    "print(f\"point cloud has {max_label + 1} clusters\")\n",
    "\n",
    "colors = plt.get_cmap(\"tab20\")(labels / (max_label if max_label > 0 else 1))\n",
    "colors[labels < 0] = 0\n",
    "outlier_cloud.colors = o3d.utility.Vector3dVector(colors[:, :3])\n",
    "o3d.visualization.draw_geometries([outlier_cloud],\n",
    "                                  zoom=0.3412,\n",
    "                                  front=[0.4257, -0.2125, -0.8795],\n",
    "                                  lookat=[2.6172, 2.0475, 1.532],\n",
    "                                  up=[-0.0694, -0.9768, 0.2024])"
   ]
  },
  {
   "cell_type": "code",
   "execution_count": 107,
   "id": "0360436d",
   "metadata": {},
   "outputs": [
    {
     "name": "stdout",
     "output_type": "stream",
     "text": [
      "PointCloud with 8276 points.\n",
      "[-1 -1 -1 ...  1  1  1]\n",
      "(8276,)\n",
      "6\n"
     ]
    }
   ],
   "source": [
    "print(outlier_cloud)\n",
    "#label =-1 noise \n",
    "print(labels)\n",
    "print(labels.shape)\n",
    "#Maximum value\n",
    "print(np.amax(labels))\n"
   ]
  },
  {
   "cell_type": "markdown",
   "id": "298724a0",
   "metadata": {},
   "source": [
    "## Plot all vehicles"
   ]
  },
  {
   "cell_type": "code",
   "execution_count": 110,
   "id": "4f2289b2",
   "metadata": {},
   "outputs": [],
   "source": [
    "lidar_obj=[]\n",
    "pcd_obj=[]\n",
    "\n",
    "for i in range(max_label+1):\n",
    "    obj = np.asarray(outlier_cloud.points)[labels==i]\n",
    "    lidar_obj.append(obj)\n",
    "\n",
    "#get point cloud the object with label 0\n",
    "pcd_obj_0 = o3d.geometry.PointCloud()\n",
    "pcd_obj_0.points = o3d.utility.Vector3dVector(lidar_obj[0])\n",
    "#get bounding box of point cloud 0\n",
    "box_0 = pcd_obj_0.get_axis_aligned_bounding_box()\n",
    "box_0.color = (1,0,0)\n",
    "\n",
    "#get point cloud the object with label 1\n",
    "pcd_obj_1 = o3d.geometry.PointCloud()\n",
    "pcd_obj_1.points = o3d.utility.Vector3dVector(lidar_obj[1])\n",
    "box_1 = pcd_obj_1.get_axis_aligned_bounding_box()\n",
    "box_1.color = (1,0,0)\n",
    "\n",
    "#get point cloud the object with label 2\n",
    "pcd_obj_2 = o3d.geometry.PointCloud()\n",
    "pcd_obj_2.points = o3d.utility.Vector3dVector(lidar_obj[2])\n",
    "box_2 = pcd_obj_2.get_axis_aligned_bounding_box()\n",
    "box_2.color = (1,0,0)\n",
    "\n",
    "#get point cloud the object with label 3\n",
    "pcd_obj_3 = o3d.geometry.PointCloud()\n",
    "pcd_obj_3.points = o3d.utility.Vector3dVector(lidar_obj[3])\n",
    "box_3 = pcd_obj_3.get_axis_aligned_bounding_box()\n",
    "box_3.color = (1,0,0)\n",
    "\n",
    "#get point cloud the object with label 4\n",
    "pcd_obj_4 = o3d.geometry.PointCloud()\n",
    "pcd_obj_4.points = o3d.utility.Vector3dVector(lidar_obj[4])\n",
    "box_4 = pcd_obj_4.get_axis_aligned_bounding_box()\n",
    "box_4.color = (1,0,0)\n",
    "\n",
    "#get point cloud the object with label 5\n",
    "pcd_obj_5 = o3d.geometry.PointCloud()\n",
    "pcd_obj_5.points = o3d.utility.Vector3dVector(lidar_obj[5])\n",
    "box_5 = pcd_obj_5.get_axis_aligned_bounding_box()\n",
    "box_5.color = (1,0,0)\n",
    "\n",
    "# #get point cloud the object with label 6\n",
    "pcd_obj_6 = o3d.geometry.PointCloud()\n",
    "pcd_obj_6.points = o3d.utility.Vector3dVector(lidar_obj[6])\n",
    "box_6 = pcd_obj_6.get_axis_aligned_bounding_box()\n",
    "box_6.color = (1,0,0)\n",
    "\n",
    "# #get point cloud the object with label 7\n",
    "# pcd_obj_7 = o3d.geometry.PointCloud()\n",
    "# pcd_obj_7.points = o3d.utility.Vector3dVector(lidar_obj[7])\n",
    "# box_7 = pcd_obj_7.get_axis_aligned_bounding_box()\n",
    "# box_7.color = (1,0,0)\n",
    "\n",
    "# #get point cloud the object with label 8\n",
    "# pcd_obj_8 = o3d.geometry.PointCloud()\n",
    "# pcd_obj_8.points = o3d.utility.Vector3dVector(lidar_obj[8])\n",
    "# box_8 = pcd_obj_8.get_axis_aligned_bounding_box()\n",
    "# box_8.color = (1,0,0)\n",
    "\n",
    "# # #get point cloud the object with label 9\n",
    "# pcd_obj_9 = o3d.geometry.PointCloud()\n",
    "# pcd_obj_9.points = o3d.utility.Vector3dVector(lidar_obj[9])\n",
    "# box_9 = pcd_obj_9.get_axis_aligned_bounding_box()\n",
    "# box_9.color = (1,0,0)\n",
    "\n",
    "# #get point cloud the object with label 10\n",
    "# pcd_obj_10 = o3d.geometry.PointCloud()\n",
    "# pcd_obj_10.points = o3d.utility.Vector3dVector(lidar_obj[10])\n",
    "# box_10 = pcd_obj_10.get_axis_aligned_bounding_box()\n",
    "# box_10.color = (1,0,0)\n",
    "\n",
    "\n",
    "\n",
    "o3d.visualization.draw_geometries([pcd_obj_0,box_0, pcd_obj_1,box_1, pcd_obj_2, box_2, \n",
    "                                   pcd_obj_3, box_3, pcd_obj_4, box_4, pcd_obj_5, box_5, pcd_obj_6, box_6],\n",
    "                                  zoom=0.3412,\n",
    "                                  front=[0.4257, -0.2125, -0.8795],\n",
    "                                  lookat=[2.6172, 2.0475, 1.532],\n",
    "                                  up=[-0.0694, -0.9768, 0.2024])\n"
   ]
  },
  {
   "cell_type": "markdown",
   "id": "bcb90f9a",
   "metadata": {},
   "source": [
    "# Running the PointNet"
   ]
  },
  {
   "cell_type": "code",
   "execution_count": 128,
   "id": "c788fc68",
   "metadata": {},
   "outputs": [],
   "source": [
    "import os\n",
    "import numpy as np\n",
    "import math\n",
    "import random\n",
    "import os\n",
    "import torch\n",
    "import scipy.spatial.distance\n",
    "from torch.utils.data import Dataset, DataLoader\n",
    "from torchvision import transforms, utils\n",
    "\n",
    "import plotly.graph_objects as go\n",
    "import torch.nn.functional as F\n",
    "import matplotlib.pyplot as plt\n",
    "import open3d as o3d\n",
    "\n",
    "from path import Path\n"
   ]
  },
  {
   "cell_type": "code",
   "execution_count": 129,
   "id": "b104a4fd",
   "metadata": {},
   "outputs": [],
   "source": [
    "#Visualize data\n",
    "def visualize_rotate(data):\n",
    "    x_eye, y_eye, z_eye = 1.25, 1.25, 0.8\n",
    "    frames=[]\n",
    "\n",
    "    def rotate_z(x, y, z, theta):\n",
    "        w = x+1j*y\n",
    "        return np.real(np.exp(1j*theta)*w), np.imag(np.exp(1j*theta)*w), z\n",
    "\n",
    "    for t in np.arange(0, 10.26, 0.1):\n",
    "        xe, ye, ze = rotate_z(x_eye, y_eye, z_eye, -t)\n",
    "        frames.append(dict(layout=dict(scene=dict(camera=dict(eye=dict(x=xe, y=ye, z=ze))))))\n",
    "    fig = go.Figure(data=data,\n",
    "                    layout=go.Layout(\n",
    "                        updatemenus=[dict(type='buttons',\n",
    "                                    showactive=False,\n",
    "                                    y=1,\n",
    "                                    x=0.8,\n",
    "                                    xanchor='left',\n",
    "                                    yanchor='bottom',\n",
    "                                    pad=dict(t=45, r=10),\n",
    "                                    buttons=[dict(label='Play',\n",
    "                                                    method='animate',\n",
    "                                                    args=[None, dict(frame=dict(duration=50, redraw=True),\n",
    "                                                                    transition=dict(duration=0),\n",
    "                                                                    fromcurrent=True,\n",
    "                                                                    mode='immediate'\n",
    "                                                                    )]\n",
    "                                                    )\n",
    "                                            ]\n",
    "                                    )\n",
    "                                ]\n",
    "                    ),\n",
    "                    frames=frames\n",
    "            )\n",
    "\n",
    "    return fig\n",
    "\n",
    "\n",
    "def pcshow(xs,ys,zs):\n",
    "    data=[go.Scatter3d(x=xs, y=ys, z=zs,\n",
    "                                   mode='markers')]\n",
    "    fig = visualize_rotate(data)\n",
    "    fig.update_traces(marker=dict(size=2,\n",
    "                      line=dict(width=2,\n",
    "                      color='DarkSlateGrey')),\n",
    "                      selector=dict(mode='markers'))\n",
    "    fig.show()\n"
   ]
  },
  {
   "cell_type": "code",
   "execution_count": 130,
   "id": "30994c23",
   "metadata": {},
   "outputs": [
    {
     "name": "stdout",
     "output_type": "stream",
     "text": [
      "point cloud object 1:  PointCloud with 1591 points.\n",
      "point cloud object 2:  PointCloud with 56 points.\n",
      "point cloud object 3:  PointCloud with 560 points.\n"
     ]
    }
   ],
   "source": [
    "#Show the pcd object \n",
    "print(\"point cloud object 1: \", pcd_obj_0)\n",
    "print(\"point cloud object 2: \", pcd_obj_1)\n",
    "print(\"point cloud object 3: \", pcd_obj_2)\n"
   ]
  },
  {
   "cell_type": "code",
   "execution_count": 131,
   "id": "d7609950",
   "metadata": {},
   "outputs": [],
   "source": [
    "class RandRotation_z(object):\n",
    "    def __call__(self, pointcloud):\n",
    "        assert len(pointcloud.shape)==2\n",
    "\n",
    "        theta = random.random() * 2. * math.pi\n",
    "        rot_matrix = np.array([[ math.cos(theta), -math.sin(theta),    0],\n",
    "                               [ math.sin(theta),  math.cos(theta),    0],\n",
    "                               [0,                             0,      1]])\n",
    "        \n",
    "        rot_pointcloud = rot_matrix.dot(pointcloud.T).T\n",
    "        return  rot_pointcloud\n",
    "    \n",
    "class RandomNoise(object):\n",
    "    def __call__(self, pointcloud):\n",
    "        assert len(pointcloud.shape)==2\n",
    "\n",
    "        noise = np.random.normal(0, 0.02, (pointcloud.shape))\n",
    "    \n",
    "        noisy_pointcloud = pointcloud + noise\n",
    "        return  noisy_pointcloud"
   ]
  },
  {
   "cell_type": "code",
   "execution_count": 132,
   "id": "8913ab2a",
   "metadata": {},
   "outputs": [],
   "source": [
    "class ToTensor(object):\n",
    "    def __call__(self, pointcloud):\n",
    "        assert len(pointcloud.shape)==2\n",
    "\n",
    "        return torch.from_numpy(pointcloud)"
   ]
  },
  {
   "cell_type": "code",
   "execution_count": 133,
   "id": "fed2ae24",
   "metadata": {},
   "outputs": [],
   "source": [
    "class PointSampler(object):\n",
    "    def __init__(self, output_size):\n",
    "        assert isinstance(output_size, int)\n",
    "        self.output_size = output_size\n",
    "        \n",
    "    \n",
    "    def __call__(self, pcd):\n",
    "            \n",
    "        sampled_faces = (random.choices(pcd, \n",
    "                                      cum_weights=None,\n",
    "                                      k=self.output_size))\n",
    "        \n",
    "        sampled_points = np.zeros((self.output_size, 3))\n",
    "\n",
    "        sampled_points = np.asarray(sampled_faces)\n",
    "        \n",
    "        return sampled_points\n",
    "    "
   ]
  },
  {
   "cell_type": "code",
   "execution_count": 134,
   "id": "da345b8c",
   "metadata": {},
   "outputs": [],
   "source": [
    "class Normalize(object):\n",
    "    def __call__(self, pointcloud):\n",
    "        assert len(pointcloud.shape)==2\n",
    "        \n",
    "        norm_pointcloud = pointcloud - np.mean(pointcloud, axis=0) \n",
    "        norm_pointcloud /= np.max(np.linalg.norm(norm_pointcloud, axis=1))\n",
    "\n",
    "        return  norm_pointcloud"
   ]
  },
  {
   "cell_type": "code",
   "execution_count": 135,
   "id": "9b20d4ee",
   "metadata": {},
   "outputs": [
    {
     "name": "stdout",
     "output_type": "stream",
     "text": [
      "[[ 1.75684702  3.2710216  -1.44986379]\n",
      " [ 1.75807726  3.2967391  -1.35987198]\n",
      " [ 1.75386477  3.33354974 -1.27278507]\n",
      " ...\n",
      " [-0.36398321  3.48060203 -1.09200883]\n",
      " [ 1.55054426  3.25037897 -0.8532999 ]\n",
      " [ 1.65401018  3.48018781 -0.81903354]]\n",
      "(1024, 3)\n"
     ]
    }
   ],
   "source": [
    "pcd_array=np.asarray(pcd_obj_0.points)\n",
    "print(pcd_array)\n",
    "rot_pointcloud = RandRotation_z()(pcd_array)\n",
    "noisy_rot_pointcloud = RandomNoise()(rot_pointcloud)\n",
    "ToTensor()(noisy_rot_pointcloud)\n",
    "sample_pointcloud_1 = PointSampler(output_size=1024)(noisy_rot_pointcloud)\n",
    "print(sample_pointcloud_1.shape)"
   ]
  },
  {
   "cell_type": "code",
   "execution_count": 136,
   "id": "a38c3c6e",
   "metadata": {},
   "outputs": [
    {
     "data": {
      "application/vnd.plotly.v1+json": {
       "config": {
        "plotlyServerURL": "https://plot.ly"
       },
       "data": [
        {
         "marker": {
          "line": {
           "color": "DarkSlateGrey",
           "width": 2
          },
          "size": 2
         },
         "mode": "markers",
         "type": "scatter3d",
         "x": [
          3.0225450488869585,
          3.0278753002344594,
          3.0091660165583933,
          3.3694687323088535,
          2.999440361038671,
          3.4137931361494123,
          3.6317716280545755,
          3.06056256261476,
          3.979027714901508,
          4.627698691349693,
          3.4229177616107953,
          3.0138504537853312,
          3.5376725998266223,
          3.361861404135098,
          3.026136456963747,
          3.0881349535093263,
          3.1595828992087807,
          3.034966547705526,
          3.5378285471128357,
          3.015493849518226,
          2.9938629363940255,
          3.5376725998266223,
          2.987717853549024,
          3.3209426115798273,
          3.5038473885317263,
          3.100740505877152,
          2.9922480117383987,
          2.998533093699188,
          3.921802193153935,
          3.059586889873294,
          3.0002729857652004,
          3.0416288486009195,
          3.0408372483445323,
          3.057128768892091,
          3.8923336424498785,
          2.982082455977431,
          3.001668228688196,
          2.992045171092813,
          3.0925855918561473,
          3.088398861701292,
          3.0678464183629166,
          2.9591419516651842,
          3.031526581119358,
          2.929428764634212,
          3.1858402768478187,
          3.336146559760144,
          2.972822593743463,
          3.0626185888604622,
          3.017561417891975,
          3.8653676877075123,
          3.0213207371006816,
          3.2592423473488,
          2.992873877088351,
          3.1403854537094897,
          3.117643021614971,
          3.078763317321415,
          3.223647686815817,
          2.974444597417007,
          4.072988431010055,
          3.169542228577375,
          3.119773492101128,
          3.097137821091841,
          3.070757565293963,
          3.006938343897855,
          3.051557303300506,
          3.495091703818001,
          3.017605152000795,
          3.2666435327506824,
          3.078549676460667,
          3.304653748306991,
          3.1085904569459135,
          3.0786127974421404,
          3.8610031591170473,
          3.2172559684043742,
          3.0305029237235606,
          3.6159284396682905,
          3.2350710334787265,
          3.0256928927317848,
          3.033930782304131,
          3.6648765350471866,
          3.029357393632767,
          3.0564686125110714,
          3.471314071574316,
          4.182642924140082,
          3.031218883027456,
          3.197971006131519,
          3.06247822122717,
          2.997921715354141,
          4.087432946790626,
          3.737760351519016,
          3.2636632233684115,
          2.9304297702554027,
          3.2020997953587935,
          3.095378366776515,
          3.1372284335168357,
          3.232194656233069,
          4.612268307477296,
          3.0089055102660853,
          3.085766400774266,
          3.006697482841125,
          3.140104160575857,
          3.5136120895489222,
          3.0698951132780734,
          3.2122257862530716,
          3.184325333560545,
          3.0447657032316524,
          3.0182520376080038,
          3.0388034022868604,
          3.0801355371536974,
          3.1886741650562955,
          3.187550870088341,
          3.0290641163129393,
          3.02627933369236,
          3.0812084439579874,
          3.21657117948062,
          3.007181651078489,
          3.102117513105806,
          2.9928241514462237,
          3.006938343897855,
          3.134148396606435,
          3.1370992271461824,
          3.070757565293963,
          3.011577243680189,
          3.160136619863628,
          3.0528931250318974,
          2.9765120495199637,
          3.24618638511551,
          3.2532051400053876,
          4.553570963858971,
          3.6373263970497205,
          4.618302007846438,
          3.0695984444168833,
          3.197971006131519,
          2.994379145016333,
          2.9902519357290624,
          3.1886741650562955,
          3.922069911968263,
          3.7221175989334654,
          3.094396719724901,
          3.0008990735599848,
          3.0125316766426096,
          4.196232232277332,
          3.0048570327481507,
          3.0197190709550403,
          3.923276765831127,
          3.2510041098050886,
          3.287068908409675,
          3.016276007379188,
          3.651068369842858,
          3.0353964170140237,
          2.9673817544084367,
          3.0507149220260645,
          3.1688564959352954,
          3.3029405577912505,
          3.109452478856647,
          3.0002330764008063,
          2.992045171092813,
          3.0378408804566703,
          3.399168141613678,
          3.0229660416226247,
          3.0953451675105543,
          3.2120617038010746,
          2.9471368365599995,
          3.1253192383227133,
          2.979364968643007,
          3.092404926359111,
          4.553570963858971,
          3.8183736324458373,
          2.9949635297773307,
          3.0339335728314207,
          3.1020123910217006,
          3.149460966717422,
          3.056248688431599,
          3.0953451675105543,
          3.3967499138052637,
          2.957819372079262,
          3.415368655651115,
          3.092355785966537,
          3.1040407431761525,
          3.0591477107706977,
          3.030585611427589,
          3.0937205999260424,
          3.086060134439809,
          3.0388034022868604,
          3.000033788177113,
          3.068829617177544,
          3.0842696492585517,
          4.60348566778742,
          2.989442120662968,
          3.3584530891165327,
          3.1148812754983632,
          4.601258050384368,
          3.078763317321415,
          3.4127421499369364,
          3.102117513105806,
          4.581913203569326,
          2.9555793864482824,
          3.2510041098050886,
          3.926713272166588,
          3.105954516106278,
          3.2877929293443935,
          3.0367901766664267,
          3.1301165687174737,
          3.208798756190004,
          3.095795910015985,
          2.9875248682660493,
          3.144939084938965,
          4.205322707361332,
          3.0008990735599848,
          2.9908678141161174,
          3.0872761324606706,
          3.0927145648887735,
          3.0845532455083267,
          3.0088607287798395,
          3.055132240784957,
          3.524475397687815,
          3.026136456963747,
          3.2905073310012267,
          3.2726874241300505,
          3.057013187540389,
          3.007181651078489,
          3.567558408341695,
          2.9916917696301053,
          4.144995601999996,
          4.604169536924695,
          3.0065432486323833,
          3.5174835835227842,
          3.926713272166588,
          3.4702603441036057,
          2.987634328282803,
          2.9910528028671735,
          3.1515516354096205,
          3.081745860313107,
          3.149460966717422,
          3.055346072903468,
          3.127216153658933,
          3.1778322751071952,
          3.0336219428198232,
          3.031895250513375,
          3.6427123727291733,
          2.9673817544084367,
          3.170393077110078,
          3.0325031234382664,
          3.0796132277446566,
          3.1198128474034,
          3.0408372483445323,
          2.9727617620684197,
          3.1301165687174737,
          3.05414089593796,
          3.097137821091841,
          4.0482477841701465,
          3.0663622582214543,
          3.932029068716761,
          3.0903516055556715,
          3.1363046752380686,
          3.7019098686179417,
          3.21657117948062,
          3.0549529526172323,
          3.2448688193772077,
          3.1526438745392853,
          3.3029405577912505,
          3.743801252942249,
          3.1227480909073333,
          2.9922480117383987,
          3.297450297044236,
          3.0184017788486055,
          3.009277372142885,
          3.1561292303198076,
          3.051109854911365,
          3.152004852138209,
          3.134997780034262,
          3.249959980029002,
          3.770428878307756,
          3.352701898985241,
          3.0031648395119213,
          3.0125316766426096,
          3.041228971448528,
          3.0801355371536974,
          3.219543109241436,
          2.9794895754875363,
          3.013771467339852,
          2.996006805095545,
          3.143154140328287,
          4.192791689813478,
          3.0367901766664267,
          3.0424737713285226,
          3.1074501347286763,
          3.6526759123184056,
          3.7832165835705114,
          3.094396719724901,
          3.071173933403827,
          3.855357791291416,
          3.189142072484983,
          2.999596981759334,
          3.0690150285774487,
          3.1963610112623724,
          3.020153652470313,
          3.109452478856647,
          3.007425128977864,
          3.013907576051224,
          3.0942954013634307,
          3.0210888274074224,
          3.095378366776515,
          3.857455850674875,
          3.048008043102837,
          3.0937334587617737,
          3.0902958984168003,
          3.134997780034262,
          3.166648466393428,
          3.2323980432783834,
          2.9991165963791873,
          3.6526759123184056,
          3.4127421499369364,
          3.312186731099788,
          3.1436088814244134,
          3.46224680510597,
          3.0690150285774487,
          4.651815543400489,
          3.4343159870992435,
          3.134148396606435,
          2.9986659446688475,
          3.000033788177113,
          3.1051589080408593,
          3.312186731099788,
          4.196405715649603,
          3.0336219428198232,
          3.0416288486009195,
          2.996006805095545,
          3.2860253076712094,
          3.2814788640645247,
          3.028540675748678,
          3.1370377107157394,
          3.1288475347124445,
          3.02486737220448,
          3.1040407431761525,
          3.0715260143837044,
          3.1701125685337996,
          2.986603054249904,
          3.110350344892859,
          3.277818337104693,
          3.695751751335071,
          3.174226353867167,
          3.0101768499247235,
          3.406230696901381,
          3.117643021614971,
          3.0230394274798527,
          3.19266519153015,
          3.0364336681739803,
          3.325015056029082,
          3.0773893724900896,
          3.1363046752380686,
          3.2814788640645247,
          3.2420773019421776,
          3.2058289877452673,
          2.988926517343023,
          4.622923975979215,
          3.005604468610507,
          3.2087086414570973,
          3.5524345285672863,
          3.2880165243055375,
          3.6317716280545755,
          3.221253811630132,
          3.3666194243373706,
          3.015728491275429,
          3.8181419732973603,
          3.026136456963747,
          3.084526209847388,
          3.015728491275429,
          3.0717324772617944,
          3.016276007379188,
          3.2676336222651967,
          3.418219410512764,
          3.1549832064633074,
          3.094396719724901,
          3.325015056029082,
          3.1857455796305456,
          2.960512763847536,
          3.038575848022718,
          3.0088607287798395,
          2.991255790750649,
          2.989442120662968,
          3.0365402995599458,
          2.966941217619853,
          3.0603711696889966,
          3.276376412328284,
          3.0725864306893333,
          3.1701125685337996,
          3.2075846579891776,
          3.006697482841125,
          3.1218447867996484,
          3.3676686308260604,
          3.0517897013156756,
          2.9759359953704876,
          3.0310982737580026,
          3.1016160943957476,
          3.0866095963025852,
          3.129174911742859,
          3.0065432486323833,
          3.058252066262417,
          3.2350710334787265,
          3.2636632233684115,
          3.095795910015985,
          3.724352802987865,
          2.980002029616942,
          3.6651717300616378,
          3.9346695878463165,
          2.9666963574508896,
          3.4489666635933944,
          2.9902519357290624,
          3.0602376657998254,
          3.128547204730462,
          3.207410850333162,
          3.089696403785936,
          4.123967159188586,
          3.3178670571478843,
          3.007425128977864,
          3.017464218634104,
          3.5136120895489222,
          4.592618142403793,
          3.264993909002953,
          2.9777009670157284,
          4.604324255157689,
          3.055274054593517,
          2.980171955697822,
          3.050178250467252,
          3.0831850510909025,
          3.097218748408099,
          3.26365865176367,
          3.1593080502092223,
          3.140495473379799,
          2.9594825472269886,
          3.770428878307756,
          4.042969986865425,
          3.0866095963025852,
          4.59589887040728,
          3.027806412891517,
          3.2075846579891776,
          3.1771875088070605,
          3.5376725998266223,
          3.108086707041707,
          3.0568030495137744,
          3.2350710334787265,
          2.9777243742490493,
          3.1797873825699923,
          3.028545401010951,
          3.039626139432466,
          3.144939084938965,
          3.2988072260649552,
          3.243325622561218,
          3.6132992041650827,
          3.129412413170486,
          3.1863026912512202,
          3.062029621754822,
          3.1383547202718645,
          3.141585467361151,
          3.0751390959362115,
          3.0194796391828747,
          3.2532051400053876,
          3.0001258763844154,
          3.1778322751071952,
          3.0252133643572643,
          3.213812700082156,
          3.360117782016646,
          3.0517897013156756,
          2.958412371101103,
          3.913343053096601,
          3.0435020445034255,
          3.1081870687548685,
          3.081745860313107,
          3.0602376657998254,
          3.189448568993149,
          2.993593453211783,
          3.092404926359111,
          3.0562739288720104,
          2.993642144674143,
          3.127216153658933,
          3.1942050904642,
          3.3060816533636794,
          3.051109854911365,
          3.0586290782034595,
          3.037534663979615,
          3.134997780034262,
          3.2880165243055375,
          3.069095878046806,
          3.149830433778917,
          3.0126516093951654,
          2.9941622526227745,
          3.027806412891517,
          3.065600981089452,
          3.0982916152977844,
          2.9938629363940255,
          3.208214998179714,
          3.9682870841763607,
          3.3841589563942813,
          3.0801355371536974,
          3.0999921934315195,
          2.998102482543339,
          3.0772238613423037,
          2.9831933263865777,
          3.040798917348851,
          3.7271263094644107,
          3.269505993538946,
          3.017561417891975,
          3.062029621754822,
          3.470523037440964,
          3.1436088814244134,
          3.187951999545126,
          3.429911306659567,
          3.0420504680588456,
          3.4250236859782164,
          3.0632478766568805,
          3.15351586809523,
          3.922069911968263,
          3.10876281682921,
          3.378542229235034,
          3.0219879313771467,
          2.984009042812398,
          3.352592915423006,
          3.0444012130305484,
          3.102155892502169,
          3.047250840649783,
          2.982534041623789,
          3.0525852745743656,
          3.2908853495836485,
          3.335331092950777,
          2.9528441580116485,
          2.994947146875147,
          3.1895659743956015,
          3.007268428970387,
          3.0306030023936503,
          2.975944893837218,
          3.0399327160078364,
          3.1868386100785786,
          3.0288450215139813,
          3.045028434264135,
          3.016700532987921,
          3.1081870687548685,
          3.0310982737580026,
          3.171834787763511,
          2.976788263859379,
          3.028046868756142,
          3.0424737713285226,
          3.105954516106278,
          3.2526554332124324,
          3.0096127643901425,
          3.1565503976832674,
          3.1798430645557136,
          3.0904084580776225,
          3.01546528129551,
          3.0716580584534867,
          3.6373263970497205,
          3.7277241336095726,
          3.000033788177113,
          3.0002330764008063,
          3.1311175876985438,
          3.0773893724900896,
          4.626595321918361,
          3.1403854537094897,
          3.1121140991483784,
          3.139840655655629,
          3.2435757361616515,
          4.056952953996449,
          3.2532843998223524,
          3.0197190709550403,
          3.0305029237235606,
          3.2941578484417415,
          3.003137200404633,
          3.223501358906957,
          3.1000608172532655,
          3.068829617177544,
          2.9356493021515426,
          3.0842696492585517,
          2.994711278000594,
          3.0466009342742124,
          3.8923336424498785,
          3.051109854911365,
          3.1704482347213037,
          3.031727153077151,
          3.221253811630132,
          3.062029621754822,
          3.207410850333162,
          3.083116494989107,
          3.0048570327481507,
          2.9852675478712527,
          3.1595828992087807,
          3.0860127229428214,
          3.0626185888604622,
          2.9876328183246117,
          3.017683886519767,
          3.092404926359111,
          3.082496725483476,
          3.424854577343455,
          3.3477140259464697,
          3.1370377107157394,
          3.2884440655800344,
          3.0138434839342705,
          3.4206164844567652,
          3.0119509930720625,
          4.577838675818066,
          3.0879847472010855,
          2.9922480117383987,
          3.1759704215168973,
          3.2006568642521427,
          3.0845532455083267,
          3.013771467339852,
          3.375306007751131,
          3.0634265047673757,
          3.01650552306512,
          2.984009042812398,
          3.1121140991483784,
          3.335732621669073,
          3.2149714989281413,
          3.1598465680652144,
          3.1601874345084893,
          3.0546439141869484,
          3.424854577343455,
          3.042798453106259,
          3.0053295159202844,
          3.2087086414570973,
          3.3971348159205275,
          3.0570345945652435,
          3.7057271927532827,
          3.0705087916953504,
          2.9942853024175244,
          3.144939084938965,
          3.067483266873294,
          3.3320632905191676,
          3.1436079734829137,
          3.0430589643468995,
          3.1308169811235484,
          3.070282378638084,
          3.181278712624168,
          3.360958626763917,
          3.0466009342742124,
          3.152710480430344,
          3.0184017788486055,
          3.251756535191739,
          3.4008592039131345,
          3.1301165687174737,
          3.059992242148583,
          3.3666194243373706,
          3.144939084938965,
          2.9941622526227745,
          2.97315857398282,
          3.2027591758606078,
          3.00726837085787,
          3.094596369351055,
          3.5947935375778157,
          3.1963610112623724,
          2.998533093699188,
          3.0252342638570853,
          2.980524220124181,
          3.1595828992087807,
          3.0461826493463455,
          2.983863620459575,
          3.0491043983730877,
          3.2988072260649552,
          3.0562739288720104,
          3.545668373672065,
          2.986712832001877,
          2.994379145016333,
          3.1081870687548685,
          3.0118365401334604,
          4.618745798427949,
          3.495091703818001,
          3.312154207520736,
          3.0460739019059244,
          3.0202131485267882,
          4.553570963858971,
          3.5217375538796114,
          3.266525217219034,
          3.7477846849774314,
          3.236085941467809,
          3.335331092950777,
          3.065600981089452,
          3.0698951132780734,
          3.031052709911633,
          3.0229660416226247,
          3.2257360179818697,
          3.0586290782034595,
          3.051557303300506,
          3.0881349535093263,
          3.360117782016646,
          3.549868538452294,
          3.0363734980436914,
          2.984009042812398,
          3.107346727765719,
          3.6159284396682905,
          3.1515516354096205,
          3.8923336424498785,
          3.3666194243373706,
          3.006610837859914,
          3.3841589563942813,
          3.0305029237235606,
          3.186024196992338,
          3.724352802987865,
          3.9940915687954153,
          3.388787826527207,
          3.241801395720857,
          3.1541845196207765,
          3.0591477107706977,
          3.0570221282576586,
          3.341936980065458,
          3.0674819479197573,
          3.8181419732973603,
          3.02668069550291,
          3.0568030495137744,
          3.006938343897855,
          3.076420113918883,
          3.2149714989281413,
          3.0902958984168003,
          3.076862306071455,
          3.1863026912512202,
          3.0649171761330507,
          4.087432946790626,
          3.0925855918561473,
          3.929896426808899,
          3.3147797210688084,
          3.6799208967552484,
          3.2125649308009936,
          3.1701125685337996,
          3.2057875193556993,
          3.429911306659567,
          3.06013625357254,
          3.378452136079259,
          3.2510041098050886,
          3.2865054981380344,
          3.028472988894239,
          3.2020997953587935,
          4.604324255157689,
          4.159485041352774,
          2.994947146875147,
          3.2592423473488,
          3.997677244969681,
          3.786477336731159,
          3.458652678012121,
          3.032498829312528,
          3.857455850674875,
          3.129412413170486,
          3.857455850674875,
          3.0469461528900728,
          3.2058289877452673,
          3.171834787763511,
          4.072988431010055,
          3.5133179814292643,
          2.9969882767036307,
          3.1601874345084893,
          3.115905235382064,
          3.188512656282154,
          3.0430589643468995,
          3.593762515609727,
          3.926713272166588,
          2.972822593743463,
          3.062029621754822,
          3.0192849500970182,
          3.584420777576245,
          2.978051612194552,
          3.1408258648253615,
          3.1308169811235484,
          3.05414089593796,
          3.032498829312528,
          3.036133042109192,
          3.0612389108605624,
          3.456449336650538,
          3.1862693975607637,
          3.2031971789456617,
          3.050178250467252,
          3.424854577343455,
          2.988926517343023,
          3.4071032343557768,
          2.9969882767036307,
          4.557782085711522,
          3.070148634949225,
          3.08277376761043,
          3.1148812754983632,
          3.0517897013156756,
          3.2835071513162797,
          3.078763317321415,
          3.312154207520736,
          3.0731678414382038,
          3.1290366572618145,
          3.035322894842528,
          3.248210380917939,
          3.094166479886773,
          3.2031971789456617,
          3.0878429734540465,
          3.0192753698414374,
          3.3060816533636794,
          3.0586684476072947,
          3.0292299260375493,
          2.982082455977431,
          3.3057908748585496,
          3.0288450215139813,
          3.1000934422082,
          2.9532062253792724,
          3.6651717300616378,
          3.0012900095212283,
          3.1775238355780506,
          3.0600687107463007,
          2.9783867788274123,
          3.1895659743956015,
          3.5199734709744943,
          2.960512763847536,
          2.998533093699188,
          3.0358006178422157,
          3.091678722282617,
          3.2611867239685686,
          3.430209283359348,
          3.097218748408099,
          3.0784832891207397,
          3.17595428791978,
          3.004398744290025,
          3.919555851208553,
          3.13353759275469,
          4.580088811927479,
          3.075589141874091,
          3.472292622904888,
          3.1857455796305456,
          3.1701125685337996,
          3.291443387664129,
          4.613430002275888,
          3.0138504537853312,
          3.830844295878803,
          3.0507149220260645,
          3.000354114637398,
          3.143682015913533,
          3.0237719393699654,
          3.12764375756552,
          3.0543323762504153,
          3.8181419732973603,
          3.3600794233240445,
          3.1105034268769995,
          3.4137931361494123,
          3.020153652470313,
          3.471314071574316,
          3.0010800041473114,
          3.0646920263810524,
          3.878179774081303,
          3.0210888274074224,
          3.145765106921441,
          3.0641683013338916,
          3.090654087193857,
          3.100694067620798,
          3.0408372483445323,
          3.840811974248547,
          3.0202131485267882,
          2.9763096941249545,
          3.1895659743956015,
          2.9874270618933285,
          3.4017679678202413,
          3.0900459008312313,
          4.042969986865425,
          3.0252133643572643,
          4.660285193162335,
          3.0740604187517575,
          3.207410850333162,
          3.1813408080921377,
          3.243325622561218,
          4.622923975979215,
          3.135838458474489,
          4.606860733816098,
          3.287249897296145,
          3.005998811379132,
          3.162218988181779,
          3.1549832064633074,
          3.0388331329728717,
          3.190359087284381,
          4.574544782508478,
          3.22500123871075,
          3.312154207520736,
          3.0677513405654055,
          3.023684992616096,
          3.134997780034262,
          3.8164095600676333,
          3.000025143010358,
          3.069095489849173,
          4.056952953996449,
          3.26419993292958,
          3.297450297044236,
          3.0790395826070505,
          3.0879554218933225,
          3.1078315694645386,
          3.120337094312613,
          2.9315977010091743,
          2.9561343977677397,
          3.0114960229100967,
          3.223753374299093,
          3.0310982737580026,
          3.052757863575057,
          3.945856357282757,
          3.184325333560545,
          3.297450297044236,
          3.039626139432466,
          4.664141161900955,
          3.4071032343557768,
          3.109038899517401,
          3.361861404135098,
          3.2982755401739605,
          3.005604468610507,
          3.05414089593796,
          3.117643021614971,
          3.208214998179714,
          2.9528441580116485,
          3.002795940741293,
          3.185562593921439,
          2.977986225581981,
          3.1777228512671747,
          2.990232658287643,
          3.1902760905342196,
          3.207512359202113,
          3.0192753698414374,
          3.4845189460243216,
          3.003034435282246,
          3.152710480430344,
          3.0796132277446566,
          3.427738011657867,
          3.5391356679849535,
          3.0953529179543904,
          3.3801431245503384,
          3.1051589080408593,
          3.0292299260375493,
          3.0604241812119186,
          2.957819372079262,
          3.586573609108719,
          3.0717324772617944,
          3.0460739019059244,
          3.0544209802388504,
          2.9991165963791873,
          3.045665539059038,
          2.983863620459575,
          3.026136456963747,
          2.9978088180664404,
          4.042969986865425,
          3.1805657487366803,
          2.9938629363940255,
          3.2007843543103065,
          2.998682725076707,
          4.5617249004442,
          3.0614002769285356,
          3.3611018775666506,
          3.321475024780066,
          2.982534041623789,
          3.2199081034047055,
          3.3131586868384346,
          3.0451214936418083,
          3.0233232941125,
          3.1595828992087807,
          3.5174835835227842,
          3.549868538452294,
          3.059596561616188,
          3.878179774081303,
          4.584319042380939,
          3.058741506448215,
          3.453394007179979,
          4.628282497856369,
          4.642980890401801,
          3.031178611491409,
          3.6159284396682905,
          3.105824761714832,
          3.154945494932917,
          4.40694863450832,
          2.985930897715454,
          3.0918903568736167,
          3.218427965348129,
          4.25936083555864,
          3.126580056978708,
          3.1237661998204813,
          3.057013187540389,
          3.0948206170453583,
          3.7969921530605286,
          3.0580989267812355,
          3.6782759467910995,
          4.664141161900955,
          3.00726837085787,
          3.508659003771951,
          3.0883663706816673,
          3.0127124550523505,
          3.982547715796385,
          3.105954516106278,
          4.601258050384368,
          3.2309673485630537,
          4.618302007846438,
          3.097218748408099,
          3.176583196442422,
          3.091716034503648,
          3.1374904990216232,
          3.028472988894239,
          3.108086707041707,
          3.4348657417081307,
          3.1481215129222946,
          3.0626185888604622,
          3.1064890195101764,
          3.02627933369236,
          2.9875248682660493,
          3.0547678655503154,
          2.9555793864482824,
          3.232194656233069,
          3.319857987322705,
          3.346863191457981,
          3.340439463855464,
          2.9996057973557972,
          3.1172958000300888,
          3.1783624624998232,
          3.361861404135098,
          2.988926517343023,
          3.005604468610507,
          2.972822593743463,
          3.0976737248463433,
          3.0878429734540465,
          3.070757565293963,
          3.1403854537094897,
          3.4496489189507247,
          3.0480075149521526,
          3.1481215129222946,
          3.7214383296512215,
          3.0914715789767686,
          3.923795293832522,
          3.083715276449463,
          2.993031340111515,
          3.069095489849173,
          3.2032080347379677,
          3.082452647074891,
          3.0049170314006894,
          3.9860609322203366
         ],
         "y": [
          -1.1874207569892388,
          0.571492429224771,
          -1.357424782689522,
          0.03659340500415153,
          1.1005540542455585,
          0.6169555868217315,
          0.13272772538401795,
          1.1560572198064663,
          -1.5922929259599958,
          0.003150626768165833,
          0.18899876963711779,
          -1.4307782106626359,
          0.21881030363939982,
          0.49760798160773323,
          -0.8625927093498305,
          -0.3588937069991657,
          0.632795586324852,
          -1.0035435385726537,
          0.7466372461141959,
          0.8839606774489649,
          -0.7114886286135178,
          0.21881030363939982,
          -0.250276855286003,
          -1.1320401910763593,
          0.15789353733062006,
          0.8379343766041982,
          -0.9698277189006159,
          -0.8030173318792231,
          -1.7997688381391812,
          -1.7541386115500135,
          -0.8401320682903365,
          0.3434414747147846,
          0.5004465967837571,
          0.48424701784287844,
          1.29728909313578,
          -1.138543308923517,
          -0.5624645644578674,
          -1.1720069095754881,
          -0.4267512104668497,
          1.6698067590871022,
          1.4244510430500708,
          -1.3409215253246067,
          0.11639456197154799,
          -1.3016831716063288,
          1.5758527379403973,
          -0.18524249095703507,
          -1.0430152834376354,
          0.39677831623085763,
          -1.4716223226085974,
          1.651515303443536,
          -0.03224621272040487,
          -0.5896038775061497,
          -0.7367711220306568,
          -1.4169317574927114,
          0.1845541551398333,
          -1.6381361025563603,
          -1.786500618392501,
          -0.7192139495833136,
          1.9477755582151375,
          -1.2600175493410197,
          0.669780603128929,
          1.0406790204024874,
          -1.6469723387039406,
          -0.1537024424339134,
          0.49369914058877684,
          0.17723264162897423,
          -0.04707012516131297,
          -1.9248688723357779,
          -1.2296520534642021,
          0.5278292916053976,
          -0.7542170299808012,
          1.2233011127310789,
          0.9398176257007638,
          -1.9119862988010348,
          -0.09408676493594126,
          -0.8919018625680705,
          0.7218246429162617,
          -0.04187203084763379,
          -0.7352643041133918,
          1.9444009537346623,
          -1.3796769624336083,
          -1.5948334609140493,
          -1.2831572070196455,
          -0.8707179654783805,
          -0.7978429839982629,
          -1.6714845896097188,
          -0.03402949225144222,
          -1.4415593585108497,
          0.06125103457282047,
          0.5533400458222212,
          -0.06974228827141635,
          -0.9654792834660162,
          -1.7924304838064375,
          -1.44728347118333,
          1.0334616898828952,
          1.7410424646638585,
          -0.6137356738391195,
          -0.3224776956618844,
          -1.560435794313133,
          0.30529187638768923,
          1.1255843398771619,
          -0.9856254013233849,
          -1.6707644465641653,
          -1.4823060740912855,
          -0.4176070339587038,
          0.6862955027691993,
          -0.8206112916788822,
          0.9458589641189499,
          0.8067327633590431,
          -0.8371632837085677,
          1.6956282678263586,
          1.4757675764989113,
          0.14268435307699157,
          -0.5890213571530439,
          -0.8440477054193432,
          -0.7483960523795723,
          -1.3739655525354335,
          -0.4657400606661352,
          -0.1537024424339134,
          -1.0259375692261756,
          1.346514536243337,
          -1.6469723387039406,
          -0.6316742988951511,
          1.571583192465744,
          0.295406528723437,
          -1.2721211246023794,
          0.7041359795988591,
          -1.403421363988589,
          -0.8172592858497949,
          -1.0315310606023749,
          1.1174698031581998,
          -0.7193295262296352,
          -1.6714845896097188,
          -0.026669383576246895,
          -0.6451753590344604,
          -0.8371632837085677,
          -1.790075504390217,
          -1.0975817513410424,
          -1.7771229318585957,
          -0.0019386238762188375,
          -0.35900248313530386,
          1.3045539448000356,
          -0.289924325082242,
          0.526916873073586,
          0.5911741648627294,
          -0.763799949526491,
          1.5864277918916205,
          -1.213668109780656,
          0.4808053100008555,
          -1.1098726462385535,
          -0.40317287464806395,
          0.3524881565604223,
          -1.3786611523433352,
          -0.34220126807991835,
          1.4701595826042018,
          -0.699105019453258,
          -1.1720069095754881,
          -0.7531627059580549,
          0.7395147885553367,
          -1.0576351048309152,
          -0.36196230245892647,
          -0.15853680959117425,
          0.809654621602407,
          -1.2827142471772872,
          -1.512810176954094,
          -1.7460580877088685,
          -0.8172592858497949,
          1.3436616576013718,
          -0.7909880431524335,
          0.35354328057177165,
          1.6607269565840301,
          1.8219129878250775,
          -0.04090104868238013,
          -0.36196230245892647,
          -1.4369756170657428,
          -1.1836292312162409,
          0.16575874556635395,
          -1.7242194330626912,
          -1.756299229305739,
          1.3002361848082546,
          -1.1364281664336937,
          -0.3199224171096573,
          0.5675363563648907,
          0.9458589641189499,
          -1.0981520653494758,
          -0.466188666212061,
          1.6000151920291292,
          0.0009635977899438236,
          -0.9932734851238357,
          -0.0013437208435282018,
          -1.5216650289505649,
          0.8342024751151357,
          -1.6381361025563603,
          -0.11954294305219455,
          -1.3739655525354335,
          -0.908070033445358,
          -1.3263523459007864,
          -0.763799949526491,
          1.7402910479875857,
          0.8870049720872082,
          0.766677228124005,
          -0.2678847111103266,
          -0.7058952716863516,
          -0.08216906846903257,
          1.6740989640794042,
          -0.9253474159964917,
          1.6933206351616361,
          1.3824517310945579,
          -0.0019386238762188375,
          0.49521499388972456,
          0.7683667283091761,
          1.0333055532337778,
          1.1096891437681466,
          -1.405490273731823,
          -1.1971322216720488,
          1.0781205011950106,
          -0.8625927093498305,
          -0.9473180736868305,
          -0.7365194533133321,
          0.8258520454004404,
          -0.7483960523795723,
          0.16348986085321224,
          -0.9461111804505219,
          -0.8812778229583443,
          1.0334112491879024,
          -0.4108655429765024,
          0.5421454421951116,
          1.7402910479875857,
          0.2540304841405786,
          -0.567555063065944,
          -1.026976955258695,
          1.511710329749117,
          0.9506060509369335,
          1.8219129878250775,
          -0.006758461029009316,
          1.0015067680446177,
          1.959120344937975,
          -0.8599899765680831,
          0.25066352840266193,
          -1.3727233434287645,
          -0.40317287464806395,
          -1.1560347110997864,
          -1.061289455505946,
          1.1112679312452645,
          0.24076627472195244,
          0.5004465967837571,
          -0.7519168883042746,
          -0.7058952716863516,
          1.6047698590339365,
          1.0406790204024874,
          1.1993704727328272,
          0.15931377840464975,
          0.4048550472671425,
          1.3772073303504704,
          1.7756302864934186,
          0.22278423062723274,
          -0.8440477054193432,
          0.3763626300607157,
          0.7658075172508373,
          -0.7954706133880504,
          -0.34220126807991835,
          -1.4232653680091956,
          0.1214932625502018,
          -0.9698277189006159,
          0.3481853120876227,
          -1.2121393357051637,
          0.9547645390297261,
          1.8269373093735217,
          0.615332933589386,
          1.6942626100200018,
          -0.1250733668392714,
          -0.8374347371802027,
          -1.4609537192044542,
          0.6871162372443416,
          -0.4132713979141571,
          -0.35900248313530386,
          0.586595859529658,
          0.8067327633590431,
          1.7732863227163096,
          -1.3454213475629628,
          -0.7571835603797462,
          -0.43087844084628935,
          -0.9658993499830838,
          1.311438908739903,
          -0.2678847111103266,
          -0.01586184976143927,
          -1.5074936774272507,
          -1.38580637346686,
          -0.3020730715998432,
          -1.7771229318585957,
          -0.7752278228650513,
          0.4093636399417225,
          -0.4346828933455426,
          -0.9258878978530211,
          -0.29150062886675915,
          -0.9721760006495221,
          -0.4796535054867462,
          1.4701595826042018,
          -0.14835475324173983,
          -0.8886885957113816,
          0.5236499457787915,
          0.5090698482588428,
          -1.44728347118333,
          -0.8703165095895743,
          0.1473977527683759,
          1.1812498223176224,
          1.4323945588787828,
          -0.1250733668392714,
          -1.7313282314664844,
          1.753464668052384,
          -1.6765991546173211,
          -1.38580637346686,
          -0.11954294305219455,
          -1.0877875369985974,
          1.1529613154197913,
          0.056671296327874404,
          -0.29150062886675915,
          0.47271260715036223,
          1.448740321877896,
          -1.0259375692261756,
          -0.8438080644043104,
          -1.0981520653494758,
          1.5329787213583974,
          -1.0877875369985974,
          1.3337126041409235,
          -0.8599899765680831,
          0.3434414747147846,
          -0.43087844084628935,
          -0.9915270606565499,
          1.7362062915815777,
          0.7406795809425729,
          1.7425685299878346,
          -1.811851287156935,
          -1.1294856733237377,
          -1.756299229305739,
          1.2660986864696253,
          -1.9651709828814743,
          -1.3633790174708968,
          -0.09250462552805014,
          0.25667002824579643,
          2.0350797712659747,
          1.6041999761193881,
          0.5587603410354792,
          -1.813004833786263,
          0.1845541551398333,
          0.2838265695449137,
          -0.18813471872095366,
          -0.9991861144933458,
          1.8195816829486449,
          0.8657188097478933,
          1.7756302864934186,
          1.7362062915815777,
          0.39107287235497407,
          0.30602409808847186,
          -1.4145796836546647,
          0.5020758164292219,
          -1.2587796350052773,
          1.3358084471559517,
          0.4362258485227432,
          0.2286115908705124,
          0.13272772538401795,
          -0.2481863580302188,
          0.5216233278352925,
          -0.4256990429956187,
          -0.2640936387992249,
          -0.8625927093498305,
          1.1862266910981603,
          -0.4256990429956187,
          1.0850054416047958,
          -1.213668109780656,
          -1.8528920704025023,
          -1.2097168170137313,
          1.6583772485844304,
          -1.7771229318585957,
          1.8195816829486449,
          -1.2310362166901223,
          -0.6244449967003809,
          -0.27970728649573895,
          -1.405490273731823,
          -0.9284854909814668,
          -0.9932734851238357,
          0.3514899517047093,
          -0.8930402648720865,
          1.2649453734708362,
          1.928229819884071,
          -1.3473854316466787,
          -1.9651709828814743,
          -0.23013220131883724,
          0.30529187638768923,
          1.7828905708064378,
          0.5440069193267376,
          -0.7282544626361898,
          -0.4154564814775035,
          0.5301956266979312,
          1.3817680767215879,
          -0.02543630939259306,
          1.6061146999792468,
          -0.4108655429765024,
          1.375353168343138,
          0.7218246429162617,
          -0.06974228827141635,
          1.6740989640794042,
          -1.1503727215949247,
          -0.34386040942669005,
          1.1927358903393561,
          1.7587309153713424,
          -0.9847541714553895,
          -1.5836904872834783,
          -0.6451753590344604,
          0.0806238476023112,
          -1.1944369386151565,
          1.6794657552004701,
          0.20390125911295875,
          1.236070000192789,
          -0.6924206176573157,
          -0.14835475324173983,
          -1.543488844836783,
          -0.9856254013233849,
          -0.2905723879456199,
          -0.2684424778060083,
          -1.3600147809074723,
          -0.7051868398722749,
          -1.445923557318263,
          -0.45024610908309376,
          -1.3373250067461238,
          1.1690944739901425,
          1.417988195019465,
          0.4989015986864889,
          1.0680882230979487,
          -1.5149096104948778,
          -0.8991075793198728,
          -1.4609537192044542,
          -1.565867182237686,
          -0.02543630939259306,
          -0.7227555350004163,
          0.26773929705787963,
          -0.23013220131883724,
          1.910134065733029,
          0.21881030363939982,
          -0.025452094747776058,
          1.2438579193703538,
          0.7218246429162617,
          -0.24409003722193512,
          -0.07198990394836047,
          -0.8590239508117563,
          0.8875537026906996,
          1.6933206351616361,
          0.6868230746163172,
          -0.14860532663363515,
          0.19038361706500506,
          -0.9903343172965582,
          1.6007816281123477,
          0.7706540040510427,
          -0.8555475841259337,
          1.2966702336697333,
          -1.2770671255975439,
          -1.131817972618213,
          -1.403421363988589,
          -1.332532791575178,
          1.959120344937975,
          -0.5259448220326288,
          -0.8957947591485533,
          -1.401002496909656,
          -0.7282544626361898,
          -1.2734411710044091,
          -0.1527482473031515,
          -0.6525071013962284,
          0.9022689946384577,
          0.9506060509369335,
          0.0806238476023112,
          -0.8710774177817835,
          0.07072025877667688,
          -1.7460580877088685,
          -0.8160937967855252,
          0.8250426083085562,
          1.0015067680446177,
          1.9401009909930746,
          0.14026150681586647,
          0.615332933589386,
          -0.4526187933592773,
          -0.7433577457412356,
          -0.1250733668392714,
          0.2286115908705124,
          0.703989577958374,
          0.4337327648536864,
          -0.20045289156868978,
          -0.32092495647203895,
          0.26773929705787963,
          1.286939309214226,
          -0.5105224863272743,
          -0.7114886286135178,
          1.9985652596374408,
          0.9517695419705946,
          1.3758252821353776,
          0.8067327633590431,
          1.2559369458990235,
          -1.2870447292461138,
          0.5810690470926851,
          -1.4055111789512338,
          0.39488107041001075,
          2.0417323218419288,
          -0.10337149377386133,
          -1.4716223226085974,
          0.7706540040510427,
          1.5038251814549641,
          1.1529613154197913,
          0.5122700651056533,
          -0.1512658394249448,
          1.039225709648359,
          -0.08323070458078084,
          0.11968247958628132,
          1.4713861718118006,
          -1.790075504390217,
          -1.4672894601510194,
          1.3340582929767641,
          0.03886841759302096,
          -1.4661617547502144,
          1.1673062107732977,
          -0.8292500000976677,
          -1.6467725360851675,
          -1.556261348070879,
          -1.035030496632895,
          0.8235409036907331,
          0.07627531098536179,
          2.083665645816339,
          -1.30255289033666,
          0.07529680107471373,
          0.9863426572325481,
          -0.7920164665818501,
          -0.9931762539009561,
          -0.9657393236098855,
          -0.7038076442686555,
          1.246708456060184,
          -1.1164265875197716,
          -1.6020677768911489,
          -0.5517272562360653,
          0.9022689946384577,
          0.5301956266979312,
          1.4567719134617951,
          -1.3650661012247252,
          0.32835663848528296,
          -0.01586184976143927,
          0.8870049720872082,
          1.590213375485653,
          -1.6296341933937146,
          0.021516548187119268,
          0.7418862368782432,
          -1.270628801674332,
          0.03594263018535699,
          1.145633288363568,
          -1.0315310606023749,
          1.3338742571970001,
          -1.0981520653494758,
          -0.699105019453258,
          -1.716340311676582,
          0.8657188097478933,
          0.49789220669925743,
          -1.4169317574927114,
          -0.2004582860786112,
          1.541376988388872,
          0.641288493233393,
          1.182262764278779,
          0.06461327121084445,
          0.526916873073586,
          -0.09408676493594126,
          1.8838034336782015,
          -0.4054887628985267,
          -0.08208374033824928,
          1.70570159208701,
          -0.466188666212061,
          -1.20802590155652,
          1.6000151920291292,
          -1.0086895148358077,
          0.779543509281466,
          1.29728909313578,
          0.615332933589386,
          1.7525193028021102,
          1.1392912483361184,
          -0.2481863580302188,
          0.7706540040510427,
          1.6794657552004701,
          1.312983407485951,
          -0.289924325082242,
          -0.8473798065911703,
          0.632795586324852,
          -1.7938878368193354,
          0.39677831623085763,
          -1.603332830482009,
          0.8416471999469107,
          -1.7460580877088685,
          -0.7497789750527177,
          0.6236515400513665,
          0.5213003544877911,
          1.7425685299878346,
          0.7251854394949453,
          -0.7647817273461627,
          1.4246030266226677,
          0.268915824543573,
          0.7806575028871894,
          -1.4548298446006072,
          -0.9698277189006159,
          -0.9596478500620758,
          0.20472230057997334,
          1.1096891437681466,
          -0.7571835603797462,
          0.79812026455134,
          -1.582607308956389,
          -0.25627868177272406,
          -1.4661617547502144,
          -0.2004582860786112,
          0.5246445614378987,
          -1.8527096037576893,
          1.4185428510947695,
          1.7617581615347997,
          -0.22930937095626855,
          0.6236515400513665,
          -1.6264414689051043,
          -0.29351825045826024,
          1.3358084471559517,
          -1.8282558551111354,
          -0.9675998294827018,
          0.5140446036793275,
          1.2048055355232936,
          -1.008870872579558,
          1.6933206351616361,
          -0.15825148892728105,
          -1.0925431783497266,
          -1.7802481848386333,
          1.185315236333308,
          1.2618052508477373,
          -1.3538256229962238,
          -0.06501854359488185,
          1.824349085299882,
          0.779543509281466,
          -0.8147861040456749,
          -1.2121393357051637,
          0.9592603757365343,
          0.025717560434230343,
          -0.7058952716863516,
          -1.479601470303484,
          0.5216233278352925,
          1.6933206351616361,
          -0.32092495647203895,
          -1.4335691488357927,
          0.7923905951356986,
          -1.6436139791926976,
          1.686991902992528,
          1.8403134482330556,
          -0.9721760006495221,
          -0.8030173318792231,
          -0.46836233590744636,
          -1.0537155235014726,
          0.632795586324852,
          0.25517656798527877,
          -0.990726326942768,
          -0.30774986560229717,
          0.6868230746163172,
          -0.8160937967855252,
          1.7855793517600396,
          -0.3246777920318111,
          -0.026669383576246895,
          0.9022689946384577,
          -0.7053335943772773,
          -0.4565777694789586,
          0.17723264162897423,
          1.7422707902953254,
          -1.6844413192630965,
          0.9105098602790679,
          -0.8172592858497949,
          0.18881805236853125,
          1.9961287545734259,
          -0.6336985125766209,
          -1.3628023241444063,
          2.083665645816339,
          1.286939309214226,
          -1.6707644465641653,
          0.1367090038378251,
          -1.0576351048309152,
          0.8182444781950213,
          -0.4526187933592773,
          0.49369914058877684,
          -0.3588937069991657,
          -1.401002496909656,
          -1.3238354162908605,
          -0.6990349297310159,
          -1.4661617547502144,
          -1.7331977329346573,
          -0.8919018625680705,
          1.511710329749117,
          1.29728909313578,
          0.5216233278352925,
          -0.9245831042151756,
          1.3758252821353776,
          -0.09408676493594126,
          -1.4226782337553399,
          -1.1503727215949247,
          1.848394778800246,
          0.05217651790570325,
          -1.3490664533229753,
          -0.09546004331192123,
          1.3002361848082546,
          1.0674994964348925,
          -0.4452935508308552,
          -0.6002469709942951,
          -0.2640936387992249,
          -0.9084027853944239,
          1.2438579193703538,
          -0.1537024424339134,
          1.372557036309991,
          -1.8527096037576893,
          1.4323945588787828,
          -1.4261851746210872,
          1.6007816281123477,
          0.7405298733132076,
          0.06125103457282047,
          -0.4267512104668497,
          -1.2237386635886471,
          1.644805330334719,
          0.5893219305410883,
          0.7071281004718939,
          -1.9651709828814743,
          1.9630373762654159,
          -0.1512658394249448,
          1.423396997006084,
          0.6217670759121161,
          -0.763799949526491,
          -1.3899461658983874,
          -1.0817591358844056,
          -1.7924304838064375,
          -0.7051868398722749,
          -0.8980388225551313,
          0.07529680107471373,
          -0.5896038775061497,
          1.8509223007956839,
          1.3503226529984307,
          -1.5742780877510048,
          -0.5806163929360224,
          -0.8703165095895743,
          -0.9903343172965582,
          -0.8703165095895743,
          1.2721044125130836,
          0.30602409808847186,
          1.4567719134617951,
          1.9477755582151375,
          0.05033372929762135,
          -1.4505860583965562,
          1.7617581615347997,
          -1.6958564660342246,
          0.62460450347746,
          1.185315236333308,
          0.5136374002853002,
          1.7402910479875857,
          -1.0430152834376354,
          0.7706540040510427,
          -0.07351314524186434,
          0.5666294483144889,
          -0.6694729943782624,
          1.275913575158499,
          1.2618052508477373,
          1.6047698590339365,
          -0.5806163929360224,
          -0.5496542497758545,
          1.189664433845722,
          0.3989046908664239,
          0.3166895025682249,
          -1.0035014185768776,
          -1.3373250067461238,
          0.6236515400513665,
          -1.4145796836546647,
          1.1607211218245197,
          -1.4505860583965562,
          -0.6737112161674292,
          0.7805058588101724,
          1.0145215274399,
          -1.5216650289505649,
          -0.7282544626361898,
          0.26946749226319905,
          -1.6381361025563603,
          1.7422707902953254,
          -1.0690568627073074,
          1.7689926434919447,
          0.11065363022904237,
          1.5927849281904976,
          1.2938371538988742,
          -1.0035014185768776,
          0.917683401645527,
          -0.8566720720025988,
          0.14026150681586647,
          0.3511678590382593,
          0.283912198836002,
          -1.138543308923517,
          -0.006709607327679147,
          -1.1164265875197716,
          -0.27484394578476523,
          -1.2878908333281105,
          1.1927358903393561,
          -0.3244428725213598,
          -0.4866317304499681,
          -0.4803451566130631,
          -0.8607343096189904,
          0.9863426572325481,
          1.6236250044082043,
          -0.6244449967003809,
          -0.8030173318792231,
          0.8033970213245332,
          1.155229012384767,
          0.20615793458250917,
          1.6436652693731242,
          1.417988195019465,
          -0.5905585385318215,
          -1.4397095627068799,
          -1.0637465887003354,
          -0.07781184566669924,
          -1.7436957196964187,
          -0.3889020453532098,
          0.9044750657294446,
          0.6054963476252401,
          -1.2310362166901223,
          -1.9651709828814743,
          0.3087314498505057,
          -0.2912762484603273,
          -1.4307782106626359,
          -0.7773292190098514,
          0.3524881565604223,
          -0.552779695162555,
          -0.18370745610689662,
          0.9864346987989957,
          1.523265925730652,
          -1.713463136500474,
          -0.2640936387992249,
          1.1180377575463922,
          -1.8817517988991725,
          0.6169555868217315,
          -0.4796535054867462,
          -1.2831572070196455,
          -1.0849388954576769,
          -1.4541337557697245,
          -0.8151474557417413,
          0.5090698482588428,
          1.8711534542517907,
          1.1474766855720293,
          0.9465454822840481,
          -1.4723732784413524,
          0.5004465967837571,
          1.6164162780009321,
          0.9105098602790679,
          -1.3986355348089752,
          0.9863426572325481,
          -0.47414079826250494,
          2.055649126806474,
          0.16692468802876662,
          -1.565867182237686,
          -0.5259448220326288,
          0.5242034691202614,
          -1.644225168896493,
          1.6794657552004701,
          -0.7310960553382653,
          -0.14860532663363515,
          0.5020758164292219,
          1.1243342045735727,
          -0.635561746520479,
          1.9221608501948237,
          -0.6729587956901022,
          1.492405497011869,
          1.6583772485844304,
          -1.4707446790308345,
          -1.7956366468652278,
          -0.5704417747564906,
          1.9083056698508951,
          1.7422707902953254,
          0.9339280237041488,
          0.9474356092463604,
          -0.1250733668392714,
          -0.7827295832255271,
          -0.07171206402331848,
          1.015113226344614,
          1.182262764278779,
          -0.1562518839834403,
          0.3481853120876227,
          1.5490471577880656,
          1.5444132087363012,
          1.062866146709284,
          1.0993203089213401,
          -1.2622032428659178,
          -0.36504272254238596,
          -1.1479872101292101,
          -0.6907258039167363,
          0.5301956266979312,
          -1.1923104377288163,
          -0.04214496223897204,
          -0.4176070339587038,
          0.3481853120876227,
          0.8875537026906996,
          0.4161576002378755,
          1.1607211218245197,
          1.4888985282770217,
          0.49760798160773323,
          0.45041278909365823,
          -1.2587796350052773,
          1.6047698590339365,
          0.1845541551398333,
          1.9985652596374408,
          -1.30255289033666,
          -1.5993556733913634,
          -1.5712870555867935,
          -0.138282154680047,
          0.7814191774041672,
          -0.7003333731738106,
          -0.8938717924891498,
          -1.758378597600791,
          -0.8566720720025988,
          0.0004070512778479715,
          -0.27765044261241506,
          -0.8147861040456749,
          1.1112679312452645,
          -1.1971950440742318,
          0.4722654062356518,
          -0.3102959219326899,
          0.2537147491582714,
          1.5329787213583974,
          0.283912198836002,
          -1.3368330105311148,
          -1.1836292312162409,
          -1.3156488677746812,
          1.0850054416047958,
          -1.6844413192630965,
          0.1793723707039484,
          -1.6765991546173211,
          -0.31305533865492824,
          -0.990726326942768,
          -0.8625927093498305,
          -1.3201907908216253,
          -1.565867182237686,
          1.9067309226135352,
          -0.7114886286135178,
          0.8981803817621884,
          -0.43586678698452175,
          -0.5055664724658414,
          -1.0318045527583706,
          2.0615512514498233,
          0.19632953424069471,
          -1.035030496632895,
          0.7365040136866172,
          0.13504465990183825,
          0.38126621828552254,
          1.2590557614892823,
          0.632795586324852,
          0.5421454421951116,
          -1.3238354162908605,
          0.6851224794577057,
          -0.8151474557417413,
          -0.8161158727623647,
          1.460241695009458,
          0.1708457609097042,
          0.9285817456592845,
          -0.01746200510427992,
          -0.21612004411304178,
          -0.8919018625680705,
          -0.4749674113704673,
          -1.0993646079326131,
          1.5938805880337321,
          -1.1309305234321427,
          0.8282080201483754,
          1.8759090128335278,
          1.3033266330392552,
          -1.8519846678276493,
          0.3029177824340207,
          0.8258520454004404,
          0.6057328973178165,
          -1.1869354984280998,
          0.07197397128642763,
          1.1948540112856054,
          0.4161576002378755,
          -1.6436139791926976,
          0.12766114894557054,
          -0.36654212875608655,
          -0.5377806972769017,
          1.1185628383090238,
          0.8870049720872082,
          0.8342024751151357,
          1.9087137959089437,
          1.1174698031581998,
          1.417988195019465,
          1.8737247102304913,
          -1.3386985785292136,
          0.1284167668011867,
          -1.0817591358844056,
          -0.025452094747776058,
          0.06553363693887856,
          1.56043290334798,
          0.39677831623085763,
          -0.874669408015667,
          0.14268435307699157,
          -0.9253474159964917,
          0.9302812414447608,
          -1.3263523459007864,
          1.7410424646638585,
          -0.2912428957190356,
          2.047381526275913,
          -0.014886089435706015,
          -0.17795387198815488,
          -1.6645377068682579,
          1.7290429771329825,
          0.49760798160773323,
          -1.4145796836546647,
          -1.2587796350052773,
          -1.0430152834376354,
          1.1164902361586222,
          0.917683401645527,
          -1.6469723387039406,
          -1.4169317574927114,
          -1.6639057852285042,
          -1.6997574581056214,
          1.56043290334798,
          0.31542218765919755,
          -1.7877349291786013,
          0.5827443672895939,
          -1.276370965240946,
          -0.18136903738002513,
          1.015113226344614,
          1.4423342261146714,
          1.170618455799497,
          -1.488132566395161,
          -1.6104313840517688
         ],
         "z": [
          -1.3700657957540756,
          -1.3912850295662054,
          -1.3676978133485438,
          -0.8555465037967261,
          -1.5007687627854485,
          -1.1980505783103959,
          -0.99766747325126,
          -1.479856879458239,
          -0.8016362377050964,
          -1.1986665140648893,
          -1.0050822429866406,
          -1.149161437780332,
          -0.8280224416608838,
          -1.1491561938080324,
          -1.006841642685052,
          -1.0228805212482057,
          -0.88167308055323,
          -1.6062719717063707,
          -1.1375491473766184,
          -1.323843532310092,
          -1.3836177179148328,
          -0.8280224416608838,
          -1.369392934104424,
          -0.6755871098736053,
          -0.8445391680878022,
          -1.7247315235858158,
          -1.3955611167570714,
          -1.212515463733528,
          -0.757476657057547,
          -1.443653346332701,
          -1.2063254214332557,
          -1.2672527478603846,
          -1.2948298990924718,
          -1.4419152558997301,
          -1.172232818331294,
          -1.553918876913775,
          -1.4611230902264938,
          -1.3535581791518412,
          -1.0784152806064928,
          -1.7483104112831296,
          -1.3895382233807871,
          -1.272294817218602,
          -1.302510549000974,
          -1.6479139365247852,
          -1.7705140201055358,
          -0.5327076752414365,
          -1.680166900948432,
          -1.6992070075063794,
          -1.4008829466427444,
          -1.23981177772765,
          -1.7153598800047785,
          -0.620513426273636,
          -1.151575615239509,
          -1.5259422373540565,
          -1.043108259755366,
          -1.6838026194973346,
          -0.9516859837429398,
          -1.1332093776397174,
          -1.2992811693781603,
          -0.8103190051818987,
          -1.7752713383156415,
          -1.7392988618684078,
          -1.0896278323427548,
          -1.3133772037199207,
          -1.2821307899892564,
          -0.9636845182878142,
          -1.2654180987471175,
          -1.2746078352899641,
          -0.8808288938981205,
          -1.0416990542149296,
          -0.9280852328434772,
          -1.2966931173712695,
          -0.9692503772395558,
          -1.3548575086161432,
          -1.3445425041957584,
          -0.9664835016726576,
          -0.9843104533775102,
          -1.2432705815937928,
          -1.5303273700964033,
          -1.3023501832660187,
          -1.5787532145022747,
          -1.520436179069629,
          -0.7023640604681637,
          -1.147710922728133,
          -1.5082311225380445,
          -0.8470229764769165,
          -1.5873026225600388,
          -1.2103617012552168,
          -0.584101300353738,
          -0.7171108443146346,
          -0.7034128765171543,
          -1.7756774867495124,
          -1.0367900753823216,
          -0.8908651539403185,
          -1.1411235711766938,
          -1.748176977448668,
          -1.060064481727225,
          -1.340119833076729,
          -1.021342002849365,
          -1.3380904607663553,
          -1.1620264133102132,
          -0.5797852868431923,
          -1.104968640573871,
          -0.8367699212813499,
          -0.9440203509360543,
          -1.301345637537998,
          -1.300540769328919,
          -1.7237784248161103,
          -1.3533250829859038,
          -0.7831661631797895,
          -1.949599011941052,
          -1.8951920203284318,
          -1.252867252014287,
          -1.0306800622127514,
          -0.7198444855640149,
          -1.4482107265537048,
          -0.9011248131040176,
          -1.1692446145582525,
          -1.3133772037199207,
          -0.8511265480913931,
          -1.2315118035773347,
          -1.0896278323427548,
          -1.5444225371401725,
          -1.282748312157841,
          -1.1267879232025866,
          -1.7115325120446558,
          -0.8855125671311032,
          -0.7257883269951095,
          -1.0890655569781702,
          -0.6215272883106239,
          -1.151957934246892,
          -0.9735939439100708,
          -0.8470229764769165,
          -1.2028510522037958,
          -1.2845056174696083,
          -0.7831661631797895,
          -0.8081669350527394,
          -0.6297870817457082,
          -1.4926719006325022,
          -1.4837004482862706,
          -1.2695000200981452,
          -1.1650616629967656,
          -1.1114695468153353,
          -1.3045712447656757,
          -0.7236460106128668,
          -0.6717758632049584,
          -1.2169575812805733,
          -1.4539061709606167,
          -0.6977082153717973,
          -0.9063986138576628,
          -1.3916843864289536,
          -1.387498633406411,
          -0.8261524874183345,
          -0.5518213453922383,
          -1.2522974793691284,
          -1.2036509682779577,
          -1.3535581791518412,
          -1.0613316743282877,
          -1.0935764852937262,
          -1.5255221255738811,
          -1.7526005072862765,
          -0.860901687268402,
          -1.0410930874962143,
          -0.8706949627249703,
          -1.2870429519101687,
          -1.3722514186312258,
          -1.0890655569781702,
          -1.1705164823704248,
          -1.1539488238190145,
          -1.4166456527467375,
          -1.4784082708832194,
          -1.5322205787531187,
          -1.634879747943052,
          -1.7526005072862765,
          -0.7683402092410914,
          -1.6118050037533462,
          -1.0493810380327298,
          -1.277499897376182,
          -1.1051112520209208,
          -1.497483321656208,
          -1.0957433805160195,
          -0.9569059351268251,
          -1.1333150685489115,
          -1.7237784248161103,
          -1.5087031052596713,
          -1.0409261445848512,
          -1.7672106780333439,
          -1.0924248143089292,
          -1.1549431603057747,
          -0.6865732814280257,
          -0.8831995577056837,
          -0.9638961280764639,
          -1.6838026194973346,
          -0.606329071973611,
          -0.9011248131040176,
          -0.9933372748960794,
          -1.7067809583433156,
          -0.6717758632049584,
          -1.249152007047838,
          -1.8058767788021621,
          -1.138098347171644,
          -1.2682367135200336,
          -0.9187186274678336,
          -0.7937732530610349,
          -1.4606100212271789,
          -1.6417064707907105,
          -1.5702756006906733,
          -1.1657990928045787,
          -1.4837004482862706,
          -1.5308605343428683,
          -1.6670875545514294,
          -1.4218330943408455,
          -1.184845411871294,
          -1.3611285607116774,
          -1.0965918200109648,
          -1.0487864924693364,
          -1.006841642685052,
          -0.6351604429137525,
          -0.6341683210447808,
          -1.3238564171860217,
          -1.4482107265537048,
          -0.6072774021082498,
          -1.2066805850597981,
          -1.121946693637648,
          -1.0832321768322906,
          -1.1031522290552969,
          -1.0144457533421811,
          -1.249152007047838,
          -0.9292371481937846,
          -1.4309910412517302,
          -1.2895509258790143,
          -1.266031820362073,
          -1.4156493243535875,
          -1.5322205787531187,
          -1.6263818593476587,
          -1.8461283922154927,
          -1.5593854475427105,
          -1.5052531594260579,
          -1.280541134193423,
          -0.7049094912873042,
          -1.3916843864289536,
          -0.8195689977406972,
          -0.9809975626120767,
          -1.5891172215600173,
          -1.0080825679542476,
          -1.2948298990924718,
          -1.394805617613852,
          -0.9187186274678336,
          -1.7524039688926534,
          -1.7392988618684078,
          -1.0732490552140292,
          -1.0713123712803345,
          -0.6124599975398967,
          -1.4341588179988465,
          -1.5063467482925104,
          -0.6039814792381415,
          -0.7198444855640149,
          -1.2815879796453877,
          -0.8624871171510936,
          -0.8808091274583862,
          -0.5518213453922383,
          -0.7273900365480502,
          -1.0526458469126203,
          -1.3955611167570714,
          -0.7106355795161636,
          -1.1643120217755323,
          -1.6140265420482032,
          -1.601639910136481,
          -1.2937060705915981,
          -1.4026952478878483,
          -0.9632460252539685,
          -0.8594387991142575,
          -0.7959600851806039,
          -1.1492090465587517,
          -1.6708665371254465,
          -1.2695000200981452,
          -1.3832683242454007,
          -1.3533250829859038,
          -1.3496308849699215,
          -1.1585554762011356,
          -1.0867816373900825,
          -1.1832106273777276,
          -0.8581362707113165,
          -1.1609590997056458,
          -1.2682367135200336,
          -1.7163831388731763,
          -0.894873921707748,
          -0.7471921680382767,
          -0.5336196275688994,
          -1.4926719006325022,
          -1.0346855724123258,
          -0.623946463888737,
          -0.9368862526604494,
          -1.5042001681889137,
          -1.0416584946288445,
          -1.6781768483758515,
          -1.5546744794616094,
          -1.2522974793691284,
          -1.2727448176864988,
          -1.3007602332009212,
          -1.5944968561907344,
          -1.2036793457850878,
          -0.8908651539403185,
          -0.5628067087310185,
          -1.7201844519068061,
          -1.469733378673851,
          -1.6208814992409186,
          -0.9632460252539685,
          -1.0472550182226286,
          -1.7626666284045645,
          -1.3823443653002547,
          -0.7471921680382767,
          -0.606329071973611,
          -0.6761704250999706,
          -1.1404051122958387,
          -0.8514559987300127,
          -1.0416584946288445,
          -1.2140107355515515,
          -1.1773585249181755,
          -0.8511265480913931,
          -1.707942047426461,
          -1.5087031052596713,
          -1.6654892689011334,
          -0.6761704250999706,
          -1.1531046416260826,
          -1.5052531594260579,
          -1.2672527478603846,
          -1.1832106273777276,
          -0.6509889590130853,
          -1.6768032980715764,
          -1.4920290304924748,
          -1.468173182326325,
          -1.3168850537738817,
          -1.149213403542495,
          -1.1051112520209208,
          -1.4002456504077685,
          -1.4730555783266128,
          -1.1819522038745132,
          -1.052914727631315,
          -0.7170326609616942,
          -1.2891301690666865,
          -1.3003985126239737,
          -1.483514577339741,
          -0.8284668010677871,
          -1.043108259755366,
          -1.1795907460333526,
          -0.8974282831750914,
          -0.988613367490047,
          -1.2701425372321797,
          -1.1901258177040357,
          -1.5063467482925104,
          -1.6768032980715764,
          -0.7515887802172714,
          -0.929615122521207,
          -1.6470983957197303,
          -1.207767864489503,
          -1.353054319277797,
          -1.1977621799745697,
          -0.66231343157254,
          -0.9826327930601898,
          -0.99766747325126,
          -0.8302462596602903,
          -1.1701932700943964,
          -1.3233506045507901,
          -0.5058120708307797,
          -1.006841642685052,
          -1.579775850194327,
          -1.3233506045507901,
          -1.439067327422176,
          -1.4539061709606167,
          -1.271038054933585,
          -0.6693026937511246,
          -1.2948687880472518,
          -1.4926719006325022,
          -1.2701425372321797,
          -0.7889873023871606,
          -1.4610952355707363,
          -1.3361105594043126,
          -1.3611285607116774,
          -1.7445484744843103,
          -1.1549431603057747,
          -1.5203523847592548,
          -1.7473803193415547,
          -1.401078919636553,
          -1.4041844613560102,
          -0.9781144647842182,
          -1.4730555783266128,
          -0.837745260022035,
          -1.3380904607663553,
          -1.699237187193349,
          -1.1223567535661005,
          -0.932183647880842,
          -1.4387904892584231,
          -1.5666189593051496,
          -1.2661349137790898,
          -1.0342879840898127,
          -1.5676175540980992,
          -1.1031522290552969,
          -1.313155500901399,
          -0.9843104533775102,
          -0.7034128765171543,
          -1.4606100212271789,
          -0.6403770475779766,
          -1.3864373086793644,
          -1.1079843772179008,
          -1.2346966620947937,
          -1.2061495247167378,
          -0.8160158835222169,
          -1.2845056174696083,
          -1.718238990336365,
          -0.7921528228718648,
          -1.3130749650070976,
          -1.037588500053388,
          -1.1286718876904658,
          -0.7060228430324821,
          -1.2727448176864988,
          -1.22777706638183,
          -0.5797852868431923,
          -1.2265526471894546,
          -0.6195784557804267,
          -1.5393145422200902,
          -1.0004092974423187,
          -1.0361615696089475,
          -1.4306744951766603,
          -1.1063602931515033,
          -1.2472506892769772,
          -1.5408333889228485,
          -0.763515919094348,
          -1.7669149384954204,
          -0.7990585666693605,
          -1.5926503253643376,
          -0.7959600851806039,
          -0.8295441036066546,
          -1.0342879840898127,
          -1.200775424371679,
          -1.339196222407509,
          -0.837745260022035,
          -1.7297193935537343,
          -0.8280224416608838,
          -0.9881251406448398,
          -1.27954530859461,
          -0.9843104533775102,
          -1.3526611290176989,
          -0.8376383940018293,
          -1.4751083343401248,
          -1.6132421098144791,
          -1.5702756006906733,
          -1.149433370594437,
          -0.8673947282166584,
          -0.632228712222462,
          -1.7582652356505266,
          -1.3026891237837925,
          -1.1525078019819386,
          -0.8528384398916334,
          -1.5358977359745511,
          -1.5457741121730386,
          -1.3586543525928056,
          -0.7257883269951095,
          -1.6352664708870253,
          -1.5593854475427105,
          -1.172222476884594,
          -0.7130170531541778,
          -0.7684229889815657,
          -0.932183647880842,
          -1.1645777331223603,
          -0.5442938316480896,
          -1.656207095895197,
          -1.729556348225861,
          -1.4156493243535875,
          -1.718238990336365,
          -0.7558873141495078,
          -1.1618274664344144,
          -1.3722514186312258,
          -1.5959020814369023,
          -1.0026456234152192,
          -1.8461283922154927,
          -1.7506652072799296,
          -0.633723933165711,
          -1.2937060705915981,
          -1.7642237256240856,
          -1.5512817678523863,
          -0.9632460252539685,
          -0.9826327930601898,
          -1.2897599758687415,
          -1.0418792942950799,
          -1.4985330136855906,
          -1.4211760879084285,
          -1.339196222407509,
          -1.2996570860212582,
          -0.9755983380496733,
          -1.3836177179148328,
          -1.6756587510084504,
          -0.9797927283999398,
          -1.109281324173185,
          -1.3533250829859038,
          -1.8049422676431313,
          -1.5346513274734175,
          -1.6356182189594957,
          -1.2061211919697803,
          -1.2041981587943285,
          -1.3428570015290135,
          -0.6699881767814717,
          -1.4008829466427444,
          -1.1525078019819386,
          -1.1889174840009453,
          -1.1404051122958387,
          -1.1130180191079024,
          -0.5331767891440107,
          -1.6269247268012514,
          -0.567707671690473,
          -1.7454991344396311,
          -1.45786945596071,
          -0.8081669350527394,
          -1.6492074286729328,
          -1.1230285733393535,
          -1.0992780727480251,
          -1.6696135338857592,
          -1.1034808460573728,
          -0.9497770442620279,
          -0.8842511668119826,
          -1.0689640873285953,
          -1.5091090201797104,
          -1.4014146150986344,
          -1.0520062439285671,
          -1.659544943715963,
          -1.70971568733109,
          -1.411477320341799,
          -0.958201416985804,
          -1.6485635187829624,
          -1.4108541683079943,
          -1.5200986163208985,
          -1.6621909090853328,
          -1.13546581229452,
          -1.008418709092914,
          -1.061242457045044,
          -1.3520899806872846,
          -1.729556348225861,
          -1.5666189593051496,
          -1.4720183870784906,
          -1.2921343168274833,
          -1.240232484995908,
          -1.7163831388731763,
          -1.8058767788021621,
          -1.7820725806918867,
          -1.462864341693316,
          -0.9757307919061038,
          -0.9547416847439948,
          -0.9435084095412204,
          -1.4418828442487555,
          -1.804599890947608,
          -0.6215272883106239,
          -1.1629691097438057,
          -1.5087031052596713,
          -1.2036509682779577,
          -0.9493859564645302,
          -1.1901258177040357,
          -1.3591463950232,
          -1.5259422373540565,
          -1.0898561166253258,
          -1.4712472210855867,
          -0.7660626242015096,
          -1.1463686341908235,
          -1.0266761926422834,
          -1.3045712447656757,
          -1.3445425041957584,
          -1.3899770732703667,
          -1.2618731018430787,
          -0.7336589509139657,
          -1.5538798498122381,
          -1.0409261445848512,
          -1.7041779479117345,
          -1.7672106780333439,
          -1.4003683255221562,
          -1.3960311861026218,
          -1.172232818331294,
          -1.2937060705915981,
          -1.8418235651513233,
          -1.5712940707527892,
          -0.8302462596602903,
          -1.1525078019819386,
          -1.3130749650070976,
          -1.3106531161992059,
          -1.1114695468153353,
          -1.5568476962051485,
          -0.88167308055323,
          -1.238463992851717,
          -1.6992070075063794,
          -1.2253072820164506,
          -1.0741550539631122,
          -1.3722514186312258,
          -0.9436698833437887,
          -1.0551915007802697,
          -1.1539317010684778,
          -1.468173182326325,
          -1.1640522875892354,
          -1.4693562899099901,
          -1.1851680200908246,
          -1.502715586440997,
          -0.9839769261025532,
          -1.5195595317199098,
          -1.3955611167570714,
          -0.7486580610645804,
          -1.0058786628738097,
          -1.184845411871294,
          -1.0867816373900825,
          -1.0600987051274966,
          -1.1538580992781349,
          -1.3763201364857487,
          -1.6696135338857592,
          -1.0898561166253258,
          -0.672878963700078,
          -1.1477858820573699,
          -1.2551959004194273,
          -1.7661563530426116,
          -1.7093517077352318,
          -1.0551915007802697,
          -1.0993190812971436,
          -1.2648666787995098,
          -1.1977621799745697,
          -0.8292046241130481,
          -1.3342899868920042,
          -1.1379247851003134,
          -1.661849106787862,
          -1.414836797860967,
          -1.5702756006906733,
          -1.632197222647808,
          -0.6673668270007947,
          -1.6001154199588556,
          -1.4655683208555996,
          -1.2395859630447734,
          -1.3821784656323173,
          -0.9117262353934849,
          -1.2782630519381206,
          -1.3960311861026218,
          -1.6523709790238288,
          -1.1643120217755323,
          -0.9514745742095778,
          -0.9461275184212501,
          -0.9187186274678336,
          -1.1136040211355414,
          -1.1701932700943964,
          -1.5702756006906733,
          -1.4211760879084285,
          -1.5390501709348563,
          -1.1103600212273743,
          -1.4316125546451555,
          -1.6895602999919002,
          -1.298774842399694,
          -1.6781768483758515,
          -1.212515463733528,
          -1.4237016609135427,
          -1.677049433301169,
          -0.88167308055323,
          -1.6983893030822212,
          -1.6375067284165967,
          -1.6110531253582931,
          -1.149433370594437,
          -1.5959020814369023,
          -1.203926275208074,
          -1.4211314589813575,
          -1.2028510522037958,
          -1.729556348225861,
          -1.6638262807241129,
          -1.206779725842693,
          -0.9636845182878142,
          -1.6525002332125034,
          -1.4438249568532686,
          -1.505947098762902,
          -1.0890655569781702,
          -0.8286175020987886,
          -1.4985171274892344,
          -0.5603707211858004,
          -1.4808590116097182,
          -1.659544943715963,
          -1.2996570860212582,
          -1.104968640573871,
          -1.200252794519463,
          -1.5255221255738811,
          -0.8742435040869595,
          -1.7642237256240856,
          -1.2821307899892564,
          -1.0228805212482057,
          -0.7684229889815657,
          -0.7062691580094083,
          -1.6547260745068202,
          -1.6696135338857592,
          -1.1704173669405897,
          -0.9664835016726576,
          -1.266031820362073,
          -1.172232818331294,
          -1.1701932700943964,
          -1.3213139867543633,
          -1.109281324173185,
          -1.3445425041957584,
          -0.8293347089493351,
          -0.6403770475779766,
          -1.2045420921007803,
          -0.6840656486161794,
          -0.728473698881849,
          -0.911408446108412,
          -1.497483321656208,
          -1.3495896084712826,
          -0.5323007386121296,
          -1.016300435909278,
          -0.5058120708307797,
          -1.58830273992629,
          -1.27954530859461,
          -1.3133772037199207,
          -1.5226016044102935,
          -1.1477858820573699,
          -1.6208814992409186,
          -0.9502940100938847,
          -1.3026891237837925,
          -1.3186290526499038,
          -0.584101300353738,
          -1.0784152806064928,
          -0.6711422808247165,
          -1.2393844758164154,
          -1.0554403407365651,
          -0.866983441048727,
          -1.4730555783266128,
          -1.5566073822603401,
          -0.5331767891440107,
          -1.3036619344006593,
          -1.1831957648573173,
          -0.6717758632049584,
          -0.8039787120168135,
          -1.3158139071513562,
          -1.0367900753823216,
          -1.0004092974423187,
          -0.9785720273537536,
          -1.411477320341799,
          -0.620513426273636,
          -1.2587148152465475,
          -1.1646729415776675,
          -0.8238887522159062,
          -1.0674515833647928,
          -0.5628067087310185,
          -1.7582652356505266,
          -0.5628067087310185,
          -1.6472428918352724,
          -0.929615122521207,
          -1.4720183870784906,
          -1.2992811693781603,
          -0.7362491042971051,
          -1.2868486580469567,
          -1.7661563530426116,
          -1.0029812163906995,
          -0.884298328768727,
          -1.4655683208555996,
          -0.6739820787919861,
          -1.249152007047838,
          -1.680166900948432,
          -1.1525078019819386,
          -1.1546470922160672,
          -1.0200977593064406,
          -1.5768906220033205,
          -1.505307912995435,
          -1.2395859630447734,
          -1.7524039688926534,
          -1.0674515833647928,
          -1.100259659693057,
          -1.4205055503322916,
          -0.6511834510511963,
          -1.019549379849039,
          -0.7409219760095148,
          -1.1063602931515033,
          -1.0551915007802697,
          -1.6470983957197303,
          -1.097678255801583,
          -1.2868486580469567,
          -1.125743242337884,
          -1.824156834753618,
          -1.819407325044264,
          -0.8831995577056837,
          -0.932183647880842,
          -1.0360644935378924,
          -1.6838026194973346,
          -1.6525002332125034,
          -1.5274660637298116,
          -1.618721156099853,
          -1.5379715349585064,
          -1.7218821378710303,
          -1.6675644603203217,
          -0.7409219760095148,
          -1.3559232009526756,
          -1.0773996981136518,
          -0.633723933165711,
          -1.6319682232716661,
          -1.0946376989529953,
          -1.553918876913775,
          -0.6900049249100803,
          -1.008418709092914,
          -0.98032495385259,
          -1.771640731699452,
          -1.1079843772179008,
          -1.5209212990092549,
          -0.892374463918456,
          -1.6313396727614806,
          -1.735389577564238,
          -0.958201416985804,
          -1.182266942071439,
          -1.4610952355707363,
          -1.212515463733528,
          -1.5549602955234114,
          -1.8015656991162838,
          -0.6701947770575094,
          -1.7540855303647311,
          -1.5408333889228485,
          -0.9532253811884545,
          -1.4488573012335957,
          -1.5488248742246078,
          -0.5178081729533108,
          -1.010374785800486,
          -1.0849949323322388,
          -1.4149608753029113,
          -1.0100175396273812,
          -0.7889873023871606,
          -1.4730555783266128,
          -0.723748492853529,
          -1.114670060422402,
          -1.149161437780332,
          -0.5619471958160063,
          -1.387498633406411,
          -1.4257617952536723,
          -0.985775817674524,
          -1.6165743124571865,
          -1.5462450487513488,
          -1.2037019089633418,
          -0.5058120708307797,
          -1.0973890294735118,
          -1.4114557534581893,
          -1.1980505783103959,
          -1.5546744794616094,
          -0.7023640604681637,
          -1.519038545568943,
          -0.9690179030273817,
          -0.5562571707872029,
          -1.2036793457850878,
          -1.6657941451642357,
          -1.2836257674033282,
          -1.7356978565420615,
          -0.8928263979001636,
          -1.2948298990924718,
          -1.1933018362761647,
          -1.505947098762902,
          -1.268910195216626,
          -0.958201416985804,
          -1.5144794408808875,
          -1.4325073956026737,
          -1.0457526871325669,
          -0.8295441036066546,
          -1.172222476884594,
          -1.2331783816873685,
          -0.9967134855500105,
          -1.3130749650070976,
          -0.7237929771764995,
          -0.8673947282166584,
          -1.207767864489503,
          -1.7702317908251648,
          -1.2101087694222663,
          -1.4149360140802278,
          -1.2437874048202966,
          -1.5596142453644175,
          -1.2948687880472518,
          -1.0659774777090323,
          -0.8745834724870813,
          -1.0786903317243621,
          -1.8605516482044784,
          -1.6525002332125034,
          -1.2630475260259513,
          -1.5855008250315619,
          -0.9632460252539685,
          -0.5485582421552395,
          -1.2141995433224744,
          -1.2704773524776647,
          -1.1463686341908235,
          -0.7788989445197966,
          -0.7106355795161636,
          -1.444360379713935,
          -1.3626783204072344,
          -1.3423939860517031,
          -1.8446840725922133,
          -1.5839326553501092,
          -1.0809621737980022,
          -1.713196411620617,
          -0.6822215644818308,
          -1.5666189593051496,
          -1.3477309131444812,
          -0.5998917073227001,
          -0.9440203509360543,
          -0.7106355795161636,
          -1.6132421098144791,
          -1.2177274256231012,
          -1.097678255801583,
          -1.5036217090193247,
          -1.1491561938080324,
          -0.6923526820529913,
          -1.353054319277797,
          -1.7524039688926534,
          -1.043108259755366,
          -1.6756587510084504,
          -1.70971568733109,
          -1.3996698081219732,
          -0.815041321668395,
          -1.4268535731356897,
          -1.0825812366741505,
          -1.2945160774368467,
          -0.7767153501540092,
          -0.879644274467813,
          -1.0773996981136518,
          -0.6011631481443795,
          -1.4389551073338633,
          -1.6523709790238288,
          -1.5891172215600173,
          -0.6802520850565754,
          -0.6808657761820445,
          -0.9722564463086772,
          -0.8853723256862633,
          -1.6654892689011334,
          -1.0946376989529953,
          -0.9590298589202942,
          -1.6118050037533462,
          -0.6955794161784398,
          -1.439067327422176,
          -1.4438249568532686,
          -1.266067822644988,
          -1.3823443653002547,
          -1.1486622613123119,
          -1.6375067284165967,
          -1.006841642685052,
          -1.4720575547667323,
          -0.8295441036066546,
          -1.775784171595286,
          -1.3836177179148328,
          -0.9244399437803689,
          -1.2758373608348619,
          -1.0706086039614797,
          -1.5521948368213365,
          -1.4236384928070949,
          -0.991787382597387,
          -1.5091090201797104,
          -1.0348644644115061,
          -1.0424660252065134,
          -1.1407762105638555,
          -1.673523833273155,
          -0.88167308055323,
          -1.0144457533421811,
          -0.7062691580094083,
          -1.2149152449209135,
          -0.5562571707872029,
          -1.224368158703688,
          -1.7322735367785607,
          -0.917338901729807,
          -1.1028453515033527,
          -1.1050985514338036,
          -1.5422699398533437,
          -0.9664835016726576,
          -0.9919850796869091,
          -0.8194358489592332,
          -1.245943703906929,
          -1.1526381470856273,
          -1.2407711048204213,
          -1.4359812075607932,
          -1.1793921408185932,
          -1.426806068297689,
          -1.0682386809271998,
          -1.3238564171860217,
          -1.6835896488325026,
          -0.682644435846029,
          -1.6761757742314711,
          -1.0993475825450816,
          -1.2177274256231012,
          -1.4316125546451555,
          -1.0033038652280943,
          -0.941146716722538,
          -1.6410313830000827,
          -1.110741428569677,
          -1.8058767788021621,
          -0.9638961280764639,
          -1.4392555593031882,
          -1.151957934246892,
          -1.5408333889228485,
          -1.5525524411043057,
          -0.8846587744835358,
          -1.0181140186648083,
          -1.3158139071513562,
          -0.9881251406448398,
          -0.7346327942561077,
          -1.781534837685295,
          -1.6992070075063794,
          -1.5062765530576796,
          -1.252867252014287,
          -1.6417064707907105,
          -1.6987008004263404,
          -1.7067809583433156,
          -1.748176977448668,
          -0.5699949979942974,
          -1.5317372960908644,
          -0.6341441106016895,
          -1.2192918444101866,
          -0.9427149823764099,
          -1.4505378134140499,
          -1.1491561938080324,
          -1.6470983957197303,
          -1.353054319277797,
          -1.680166900948432,
          -1.8461444500343414,
          -1.3559232009526756,
          -1.0896278323427548,
          -1.5259422373540565,
          -0.8068287111625312,
          -1.5723037150705965,
          -1.781534837685295,
          -0.5997159925458263,
          -1.40283881333841,
          -1.0404691321579747,
          -0.8932803743105574,
          -1.182810671011699,
          -1.2704773524776647,
          -1.1733142615335073,
          -1.3582587179244656,
          -1.504334701255206,
          -0.8319148272253986
         ]
        }
       ],
       "frames": [
        {
         "layout": {
          "scene": {
           "camera": {
            "eye": {
             "x": 1.25,
             "y": 1.25,
             "z": 0.8
            }
           }
          }
         }
        },
        {
         "layout": {
          "scene": {
           "camera": {
            "eye": {
             "x": 1.3685469774060675,
             "y": 1.1189634357889973,
             "z": 0.8
            }
           }
          }
         }
        },
        {
         "layout": {
          "scene": {
           "camera": {
            "eye": {
             "x": 1.4734198857953784,
             "y": 0.9767465588077254,
             "z": 0.8
            }
           }
          }
         }
        },
        {
         "layout": {
          "scene": {
           "camera": {
            "eye": {
             "x": 1.5635708697336819,
             "y": 0.824770353080333,
             "z": 0.8
            }
           }
          }
         }
        },
        {
         "layout": {
          "scene": {
           "camera": {
            "eye": {
             "x": 1.6380991703894194,
             "y": 0.6645533146177932,
             "z": 0.8
            }
           }
          }
         }
        },
        {
         "layout": {
          "scene": {
           "camera": {
            "eye": {
             "x": 1.6962601256182197,
             "y": 0.4976962791077122,
             "z": 0.8
            }
           }
          }
         }
        },
        {
         "layout": {
          "scene": {
           "camera": {
            "eye": {
             "x": 1.737472610380892,
             "y": 0.32586642689330336,
             "z": 0.8
            }
           }
          }
         }
        },
        {
         "layout": {
          "scene": {
           "camera": {
            "eye": {
             "x": 1.7613248431527242,
             "y": 0.15078062505849654,
             "z": 0.8
            }
           }
          }
         }
        },
        {
         "layout": {
          "scene": {
           "camera": {
            "eye": {
             "x": 1.7675785003083602,
             "y": -0.025811726940446755,
             "z": 0.8
            }
           }
          }
         }
        },
        {
         "layout": {
          "scene": {
           "camera": {
            "eye": {
             "x": 1.7561710973726847,
             "y": -0.20214617669602375,
             "z": 0.8
            }
           }
          }
         }
        },
        {
         "layout": {
          "scene": {
           "camera": {
            "eye": {
             "x": 1.7272166133450453,
             "y": -0.376460848674696,
             "z": 0.8
            }
           }
          }
         }
        },
        {
         "layout": {
          "scene": {
           "camera": {
            "eye": {
             "x": 1.6810043518587658,
             "y": -0.5470140482948226,
             "z": 0.8
            }
           }
          }
         }
        },
        {
         "layout": {
          "scene": {
           "camera": {
            "eye": {
             "x": 1.6179960505548747,
             "y": -0.7121016643631912,
             "z": 0.8
            }
           }
          }
         }
        },
        {
         "layout": {
          "scene": {
           "camera": {
            "eye": {
             "x": 1.5388212675522255,
             "y": -0.870074195990757,
             "z": 0.8
            }
           }
          }
         }
        },
        {
         "layout": {
          "scene": {
           "camera": {
            "eye": {
             "x": 1.4442710911108763,
             "y": -1.0193532338602744,
             "z": 0.8
            }
           }
          }
         }
        },
        {
         "layout": {
          "scene": {
           "camera": {
            "eye": {
             "x": 1.3352902353396967,
             "y": -1.1584472311704395,
             "z": 0.8
            }
           }
          }
         }
        },
        {
         "layout": {
          "scene": {
           "camera": {
            "eye": {
             "x": 1.2129676009252703,
             "y": -1.2859664066784924,
             "z": 0.8
            }
           }
          }
         }
        },
        {
         "layout": {
          "scene": {
           "camera": {
            "eye": {
             "x": 1.0785253951961797,
             "y": -1.4006366309349918,
             "z": 0.8
            }
           }
          }
         }
        },
        {
         "layout": {
          "scene": {
           "camera": {
            "eye": {
             "x": 0.9333069202313851,
             "y": -1.5013121569641028,
             "z": 0.8
            }
           }
          }
         }
        },
        {
         "layout": {
          "scene": {
           "camera": {
            "eye": {
             "x": 0.7787631510298885,
             "y": -1.5869870681886475,
             "z": 0.8
            }
           }
          }
         }
        },
        {
         "layout": {
          "scene": {
           "camera": {
            "eye": {
             "x": 0.6164382378481742,
             "y": -1.6568053292160303,
             "z": 0.8
            }
           }
          }
         }
        },
        {
         "layout": {
          "scene": {
           "camera": {
            "eye": {
             "x": 0.44795407756127026,
             "y": -1.710069339060914,
             "z": 0.8
            }
           }
          }
         }
        },
        {
         "layout": {
          "scene": {
           "camera": {
            "eye": {
             "x": 0.27499410820530534,
             "y": -1.7462469013436699,
             "z": 0.8
            }
           }
          }
         }
        },
        {
         "layout": {
          "scene": {
           "camera": {
            "eye": {
             "x": 0.09928648862111944,
             "y": -1.7649765418206806,
             "z": 0.8
            }
           }
          }
         }
        },
        {
         "layout": {
          "scene": {
           "camera": {
            "eye": {
             "x": -0.07741316873761894,
             "y": -1.7660711201154955,
             "z": 0.8
            }
           }
          }
         }
        },
        {
         "layout": {
          "scene": {
           "camera": {
            "eye": {
             "x": -0.25333933930372143,
             "y": -1.7495196995636126,
             "z": 0.8
            }
           }
          }
         }
        },
        {
         "layout": {
          "scene": {
           "camera": {
            "eye": {
             "x": -0.4267342269343539,
             "y": -1.7154876564880144,
             "z": 0.8
            }
           }
          }
         }
        },
        {
         "layout": {
          "scene": {
           "camera": {
            "eye": {
             "x": -0.5958653272290393,
             "y": -1.6643150278136138,
             "z": 0.8
            }
           }
          }
         }
        },
        {
         "layout": {
          "scene": {
           "camera": {
            "eye": {
             "x": -0.7590427381409421,
             "y": -1.5965131135307038,
             "z": 0.8
            }
           }
          }
         }
        },
        {
         "layout": {
          "scene": {
           "camera": {
            "eye": {
             "x": -0.9146360449195108,
             "y": -1.5127593679544658,
             "z": 0.8
            }
           }
          }
         }
        },
        {
         "layout": {
          "scene": {
           "camera": {
            "eye": {
             "x": -1.0610906106757227,
             "y": -1.4138906308253907,
             "z": 0.8
            }
           }
          }
         }
        },
        {
         "layout": {
          "scene": {
           "camera": {
            "eye": {
             "x": -1.196943109799986,
             "y": -1.3008947658832124,
             "z": 0.8
            }
           }
          }
         }
        },
        {
         "layout": {
          "scene": {
           "camera": {
            "eye": {
             "x": -1.3208361490279166,
             "y": -1.1749007904589663,
             "z": 0.8
            }
           }
          }
         }
        },
        {
         "layout": {
          "scene": {
           "camera": {
            "eye": {
             "x": -1.431531830065142,
             "y": -1.0371675947070202,
             "z": 0.8
            }
           }
          }
         }
        },
        {
         "layout": {
          "scene": {
           "camera": {
            "eye": {
             "x": -1.5279241182578656,
             "y": -0.8890713631907865,
             "z": 0.8
            }
           }
          }
         }
        },
        {
         "layout": {
          "scene": {
           "camera": {
            "eye": {
             "x": -1.6090498937255202,
             "y": -0.7320918245014705,
             "z": 0.8
            }
           }
          }
         }
        },
        {
         "layout": {
          "scene": {
           "camera": {
            "eye": {
             "x": -1.6740985745362496,
             "y": -0.5677974662991182,
             "z": 0.8
            }
           }
          }
         }
        },
        {
         "layout": {
          "scene": {
           "camera": {
            "eye": {
             "x": -1.7224202157736266,
             "y": -0.39782986350239324,
             "z": 0.8
            }
           }
          }
         }
        },
        {
         "layout": {
          "scene": {
           "camera": {
            "eye": {
             "x": -1.7535320035714197,
             "y": -0.22388727621462157,
             "z": 0.8
            }
           }
          }
         }
        },
        {
         "layout": {
          "scene": {
           "camera": {
            "eye": {
             "x": -1.7671230792301427,
             "y": -0.04770768127020719,
             "z": 0.8
            }
           }
          }
         }
        },
        {
         "layout": {
          "scene": {
           "camera": {
            "eye": {
             "x": -1.7630576452144253,
             "y": 0.1289485930553954,
             "z": 0.8
            }
           }
          }
         }
        },
        {
         "layout": {
          "scene": {
           "camera": {
            "eye": {
             "x": -1.741376321997099,
             "y": 0.30431645566392784,
             "z": 0.8
            }
           }
          }
         }
        },
        {
         "layout": {
          "scene": {
           "camera": {
            "eye": {
             "x": -1.7022957421928595,
             "y": 0.47664368884111097,
             "z": 0.8
            }
           }
          }
         }
        },
        {
         "layout": {
          "scene": {
           "camera": {
            "eye": {
             "x": -1.646206386036788,
             "y": 0.6442084558368493,
             "z": 0.8
            }
           }
          }
         }
        },
        {
         "layout": {
          "scene": {
           "camera": {
            "eye": {
             "x": -1.573668679834919,
             "y": 0.8053365048888708,
             "z": 0.8
            }
           }
          }
         }
        },
        {
         "layout": {
          "scene": {
           "camera": {
            "eye": {
             "x": -1.4854073963698458,
             "y": 0.9584178977928967,
             "z": 0.8
            }
           }
          }
         }
        },
        {
         "layout": {
          "scene": {
           "camera": {
            "eye": {
             "x": -1.3823044132106481,
             "y": 1.101923095873013,
             "z": 0.8
            }
           }
          }
         }
        },
        {
         "layout": {
          "scene": {
           "camera": {
            "eye": {
             "x": -1.2653899012837393,
             "y": 1.2344182426265127,
             "z": 0.8
            }
           }
          }
         }
        },
        {
         "layout": {
          "scene": {
           "camera": {
            "eye": {
             "x": -1.1358320317454915,
             "y": 1.3545794903441097,
             "z": 0.8
            }
           }
          }
         }
        },
        {
         "layout": {
          "scene": {
           "camera": {
            "eye": {
             "x": -0.9949253040021958,
             "y": 1.4612062275586353,
             "z": 0.8
            }
           }
          }
         }
        },
        {
         "layout": {
          "scene": {
           "camera": {
            "eye": {
             "x": -0.8440776114998902,
             "y": 1.553233075157956,
             "z": 0.8
            }
           }
          }
         }
        },
        {
         "layout": {
          "scene": {
           "camera": {
            "eye": {
             "x": -0.6847961745184389,
             "y": 1.6297405313008917,
             "z": 0.8
            }
           }
          }
         }
        },
        {
         "layout": {
          "scene": {
           "camera": {
            "eye": {
             "x": -0.5186724805247199,
             "y": 1.6899641587756626,
             "z": 0.8
            }
           }
          }
         }
        },
        {
         "layout": {
          "scene": {
           "camera": {
            "eye": {
             "x": -0.347366382555924,
             "y": 1.733302223003828,
             "z": 0.8
            }
           }
          }
         }
        },
        {
         "layout": {
          "scene": {
           "camera": {
            "eye": {
             "x": -0.17258951451669058,
             "y": 1.7593217043732774,
             "z": 0.8
            }
           }
          }
         }
        },
        {
         "layout": {
          "scene": {
           "camera": {
            "eye": {
             "x": 0.0039118109010850555,
             "y": 1.767762624827065,
             "z": 0.8
            }
           }
          }
         }
        },
        {
         "layout": {
          "scene": {
           "camera": {
            "eye": {
             "x": 0.18037405079741164,
             "y": 1.7585406454782138,
             "z": 0.8
            }
           }
          }
         }
        },
        {
         "layout": {
          "scene": {
           "camera": {
            "eye": {
             "x": 0.3550340528019027,
             "y": 1.7317479092959966,
             "z": 0.8
            }
           }
          }
         }
        },
        {
         "layout": {
          "scene": {
           "camera": {
            "eye": {
             "x": 0.5261466719094534,
             "y": 1.6876521204438448,
             "z": 0.8
            }
           }
          }
         }
        },
        {
         "layout": {
          "scene": {
           "camera": {
            "eye": {
             "x": 0.6920022073922499,
             "y": 1.62669386946784,
             "z": 0.8
            }
           }
          }
         }
        },
        {
         "layout": {
          "scene": {
           "camera": {
            "eye": {
             "x": 0.8509434855643001,
             "y": 1.5494822310616148,
             "z": 0.8
            }
           }
          }
         }
        },
        {
         "layout": {
          "scene": {
           "camera": {
            "eye": {
             "x": 1.001382417713112,
             "y": 1.4567886783933495,
             "z": 0.8
            }
           }
          }
         }
        },
        {
         "layout": {
          "scene": {
           "camera": {
            "eye": {
             "x": 1.1418158677571515,
             "y": 1.3495393748008924,
             "z": 0.8
            }
           }
          }
         }
        },
        {
         "layout": {
          "scene": {
           "camera": {
            "eye": {
             "x": 1.270840671084707,
             "y": 1.2288059198738308,
             "z": 0.8
            }
           }
          }
         }
        },
        {
         "layout": {
          "scene": {
           "camera": {
            "eye": {
             "x": 1.3871676545108578,
             "y": 1.0957946423846239,
             "z": 0.8
            }
           }
          }
         }
        },
        {
         "layout": {
          "scene": {
           "camera": {
            "eye": {
             "x": 1.4896345172697987,
             "y": 0.9518345470502599,
             "z": 0.8
            }
           }
          }
         }
        },
        {
         "layout": {
          "scene": {
           "camera": {
            "eye": {
             "x": 1.577217444339885,
             "y": 0.7983640355564382,
             "z": 0.8
            }
           }
          }
         }
        },
        {
         "layout": {
          "scene": {
           "camera": {
            "eye": {
             "x": 1.6490413360648972,
             "y": 0.6369165345234014,
             "z": 0.8
            }
           }
          }
         }
        },
        {
         "layout": {
          "scene": {
           "camera": {
            "eye": {
             "x": 1.7043885518605422,
             "y": 0.46910517401401974,
             "z": 0.8
            }
           }
          }
         }
        },
        {
         "layout": {
          "scene": {
           "camera": {
            "eye": {
             "x": 1.742706080641946,
             "y": 0.2966066696714459,
             "z": 0.8
            }
           }
          }
         }
        },
        {
         "layout": {
          "scene": {
           "camera": {
            "eye": {
             "x": 1.7636110663276172,
             "y": 0.12114456953064445,
             "z": 0.8
            }
           }
          }
         }
        },
        {
         "layout": {
          "scene": {
           "camera": {
            "eye": {
             "x": 1.766894633210853,
             "y": -0.05552796710383823,
             "z": 0.8
            }
           }
          }
         }
        },
        {
         "layout": {
          "scene": {
           "camera": {
            "eye": {
             "x": 1.7525239729767597,
             "y": -0.23164568664612328,
             "z": 0.8
            }
           }
          }
         }
        },
        {
         "layout": {
          "scene": {
           "camera": {
            "eye": {
             "x": 1.7206426725120867,
             "y": -0.4054488790593255,
             "z": 0.8
            }
           }
          }
         }
        },
        {
         "layout": {
          "scene": {
           "camera": {
            "eye": {
             "x": 1.6715692792325216,
             "y": -0.5752009602965458,
             "z": 0.8
            }
           }
          }
         }
        },
        {
         "layout": {
          "scene": {
           "camera": {
            "eye": {
             "x": 1.605794118262206,
             "y": -0.7392058236746413,
             "z": 0.8
            }
           }
          }
         }
        },
        {
         "layout": {
          "scene": {
           "camera": {
            "eye": {
             "x": 1.5239743932671765,
             "y": -0.8958247868115395,
             "z": 0.8
            }
           }
          }
         }
        },
        {
         "layout": {
          "scene": {
           "camera": {
            "eye": {
             "x": 1.426927619893581,
             "y": -1.04349296479892,
             "z": 0.8
            }
           }
          }
         }
        },
        {
         "layout": {
          "scene": {
           "camera": {
            "eye": {
             "x": 1.3156234574215673,
             "y": -1.180734906014945,
             "z": 0.8
            }
           }
          }
         }
        },
        {
         "layout": {
          "scene": {
           "camera": {
            "eye": {
             "x": 1.1911740202502938,
             "y": -1.3061793343491364,
             "z": 0.8
            }
           }
          }
         }
        },
        {
         "layout": {
          "scene": {
           "camera": {
            "eye": {
             "x": 1.0548227660184604,
             "y": -1.4185728505399942,
             "z": 0.8
            }
           }
          }
         }
        },
        {
         "layout": {
          "scene": {
           "camera": {
            "eye": {
             "x": 0.9079320713866189,
             "y": -1.5167924557260966,
             "z": 0.8
            }
           }
          }
         }
        },
        {
         "layout": {
          "scene": {
           "camera": {
            "eye": {
             "x": 0.7519696196199205,
             "y": -1.599856772079511,
             "z": 0.8
            }
           }
          }
         }
        },
        {
         "layout": {
          "scene": {
           "camera": {
            "eye": {
             "x": 0.5884937359820905,
             "y": -1.6669358484086425,
             "z": 0.8
            }
           }
          }
         }
        },
        {
         "layout": {
          "scene": {
           "camera": {
            "eye": {
             "x": 0.41913781746449363,
             "y": -1.7173594527562077,
             "z": 0.8
            }
           }
          }
         }
        },
        {
         "layout": {
          "scene": {
           "camera": {
            "eye": {
             "x": 0.24559401242333323,
             "y": -1.7506237691353923,
             "z": 0.8
            }
           }
          }
         }
        },
        {
         "layout": {
          "scene": {
           "camera": {
            "eye": {
             "x": 0.06959631319262605,
             "y": -1.7663964314926572,
             "z": 0.8
            }
           }
          }
         }
        },
        {
         "layout": {
          "scene": {
           "camera": {
            "eye": {
             "x": -0.10709676939402235,
             "y": -1.7645198445994774,
             "z": 0.8
            }
           }
          }
         }
        },
        {
         "layout": {
          "scene": {
           "camera": {
            "eye": {
             "x": -0.2827197764623679,
             "y": -1.745012758691772,
             "z": 0.8
            }
           }
          }
         }
        },
        {
         "layout": {
          "scene": {
           "camera": {
            "eye": {
             "x": -0.45551794097903464,
             "y": -1.7080700821237462,
             "z": 0.8
            }
           }
          }
         }
        },
        {
         "layout": {
          "scene": {
           "camera": {
            "eye": {
             "x": -0.6237647208036504,
             "y": -1.6540609339080419,
             "z": 0.8
            }
           }
          }
         }
        },
        {
         "layout": {
          "scene": {
           "camera": {
            "eye": {
             "x": -0.7857790497271997,
             "y": -1.58352495560058,
             "z": 0.8
            }
           }
          }
         }
        },
        {
         "layout": {
          "scene": {
           "camera": {
            "eye": {
             "x": -0.9399421341298975,
             "y": -1.4971669193805124,
             "z": 0.8
            }
           }
          }
         }
        },
        {
         "layout": {
          "scene": {
           "camera": {
            "eye": {
             "x": -1.0847136274319271,
             "y": -1.3958496861995813,
             "z": 0.8
            }
           }
          }
         }
        },
        {
         "layout": {
          "scene": {
           "camera": {
            "eye": {
             "x": -1.218647020727311,
             "y": -1.2805855843607052,
             "z": 0.8
            }
           }
          }
         }
        },
        {
         "layout": {
          "scene": {
           "camera": {
            "eye": {
             "x": -1.3404040958227346,
             "y": -1.1525262946682115,
             "z": 0.8
            }
           }
          }
         }
        },
        {
         "layout": {
          "scene": {
           "camera": {
            "eye": {
             "x": -1.448768296271385,
             "y": -1.0129513432139317,
             "z": 0.8
            }
           }
          }
         }
        },
        {
         "layout": {
          "scene": {
           "camera": {
            "eye": {
             "x": -1.5426568828028173,
             "y": -0.8632553167754569,
             "z": 0.8
            }
           }
          }
         }
        },
        {
         "layout": {
          "scene": {
           "camera": {
            "eye": {
             "x": -1.6211317516958519,
             "y": -0.7049339285660311,
             "z": 0.8
            }
           }
          }
         }
        },
        {
         "layout": {
          "scene": {
           "camera": {
            "eye": {
             "x": -1.6834088080008527,
             "y": -0.5395690735625494,
             "z": 0.8
            }
           }
          }
         }
        },
        {
         "layout": {
          "scene": {
           "camera": {
            "eye": {
             "x": -1.7288657999572776,
             "y": -0.3688130227338533,
             "z": 0.8
            }
           }
          }
         }
        },
        {
         "layout": {
          "scene": {
           "camera": {
            "eye": {
             "x": -1.7570485363275825,
             "y": -0.1943719140953739,
             "z": 0.8
            }
           }
          }
         }
        },
        {
         "layout": {
          "scene": {
           "camera": {
            "eye": {
             "x": -1.7676754245259283,
             "y": -0.017988705542069106,
             "z": 0.8
            }
           }
          }
         }
        }
       ],
       "layout": {
        "template": {
         "data": {
          "bar": [
           {
            "error_x": {
             "color": "#2a3f5f"
            },
            "error_y": {
             "color": "#2a3f5f"
            },
            "marker": {
             "line": {
              "color": "#E5ECF6",
              "width": 0.5
             },
             "pattern": {
              "fillmode": "overlay",
              "size": 10,
              "solidity": 0.2
             }
            },
            "type": "bar"
           }
          ],
          "barpolar": [
           {
            "marker": {
             "line": {
              "color": "#E5ECF6",
              "width": 0.5
             },
             "pattern": {
              "fillmode": "overlay",
              "size": 10,
              "solidity": 0.2
             }
            },
            "type": "barpolar"
           }
          ],
          "carpet": [
           {
            "aaxis": {
             "endlinecolor": "#2a3f5f",
             "gridcolor": "white",
             "linecolor": "white",
             "minorgridcolor": "white",
             "startlinecolor": "#2a3f5f"
            },
            "baxis": {
             "endlinecolor": "#2a3f5f",
             "gridcolor": "white",
             "linecolor": "white",
             "minorgridcolor": "white",
             "startlinecolor": "#2a3f5f"
            },
            "type": "carpet"
           }
          ],
          "choropleth": [
           {
            "colorbar": {
             "outlinewidth": 0,
             "ticks": ""
            },
            "type": "choropleth"
           }
          ],
          "contour": [
           {
            "colorbar": {
             "outlinewidth": 0,
             "ticks": ""
            },
            "colorscale": [
             [
              0,
              "#0d0887"
             ],
             [
              0.1111111111111111,
              "#46039f"
             ],
             [
              0.2222222222222222,
              "#7201a8"
             ],
             [
              0.3333333333333333,
              "#9c179e"
             ],
             [
              0.4444444444444444,
              "#bd3786"
             ],
             [
              0.5555555555555556,
              "#d8576b"
             ],
             [
              0.6666666666666666,
              "#ed7953"
             ],
             [
              0.7777777777777778,
              "#fb9f3a"
             ],
             [
              0.8888888888888888,
              "#fdca26"
             ],
             [
              1,
              "#f0f921"
             ]
            ],
            "type": "contour"
           }
          ],
          "contourcarpet": [
           {
            "colorbar": {
             "outlinewidth": 0,
             "ticks": ""
            },
            "type": "contourcarpet"
           }
          ],
          "heatmap": [
           {
            "colorbar": {
             "outlinewidth": 0,
             "ticks": ""
            },
            "colorscale": [
             [
              0,
              "#0d0887"
             ],
             [
              0.1111111111111111,
              "#46039f"
             ],
             [
              0.2222222222222222,
              "#7201a8"
             ],
             [
              0.3333333333333333,
              "#9c179e"
             ],
             [
              0.4444444444444444,
              "#bd3786"
             ],
             [
              0.5555555555555556,
              "#d8576b"
             ],
             [
              0.6666666666666666,
              "#ed7953"
             ],
             [
              0.7777777777777778,
              "#fb9f3a"
             ],
             [
              0.8888888888888888,
              "#fdca26"
             ],
             [
              1,
              "#f0f921"
             ]
            ],
            "type": "heatmap"
           }
          ],
          "heatmapgl": [
           {
            "colorbar": {
             "outlinewidth": 0,
             "ticks": ""
            },
            "colorscale": [
             [
              0,
              "#0d0887"
             ],
             [
              0.1111111111111111,
              "#46039f"
             ],
             [
              0.2222222222222222,
              "#7201a8"
             ],
             [
              0.3333333333333333,
              "#9c179e"
             ],
             [
              0.4444444444444444,
              "#bd3786"
             ],
             [
              0.5555555555555556,
              "#d8576b"
             ],
             [
              0.6666666666666666,
              "#ed7953"
             ],
             [
              0.7777777777777778,
              "#fb9f3a"
             ],
             [
              0.8888888888888888,
              "#fdca26"
             ],
             [
              1,
              "#f0f921"
             ]
            ],
            "type": "heatmapgl"
           }
          ],
          "histogram": [
           {
            "marker": {
             "pattern": {
              "fillmode": "overlay",
              "size": 10,
              "solidity": 0.2
             }
            },
            "type": "histogram"
           }
          ],
          "histogram2d": [
           {
            "colorbar": {
             "outlinewidth": 0,
             "ticks": ""
            },
            "colorscale": [
             [
              0,
              "#0d0887"
             ],
             [
              0.1111111111111111,
              "#46039f"
             ],
             [
              0.2222222222222222,
              "#7201a8"
             ],
             [
              0.3333333333333333,
              "#9c179e"
             ],
             [
              0.4444444444444444,
              "#bd3786"
             ],
             [
              0.5555555555555556,
              "#d8576b"
             ],
             [
              0.6666666666666666,
              "#ed7953"
             ],
             [
              0.7777777777777778,
              "#fb9f3a"
             ],
             [
              0.8888888888888888,
              "#fdca26"
             ],
             [
              1,
              "#f0f921"
             ]
            ],
            "type": "histogram2d"
           }
          ],
          "histogram2dcontour": [
           {
            "colorbar": {
             "outlinewidth": 0,
             "ticks": ""
            },
            "colorscale": [
             [
              0,
              "#0d0887"
             ],
             [
              0.1111111111111111,
              "#46039f"
             ],
             [
              0.2222222222222222,
              "#7201a8"
             ],
             [
              0.3333333333333333,
              "#9c179e"
             ],
             [
              0.4444444444444444,
              "#bd3786"
             ],
             [
              0.5555555555555556,
              "#d8576b"
             ],
             [
              0.6666666666666666,
              "#ed7953"
             ],
             [
              0.7777777777777778,
              "#fb9f3a"
             ],
             [
              0.8888888888888888,
              "#fdca26"
             ],
             [
              1,
              "#f0f921"
             ]
            ],
            "type": "histogram2dcontour"
           }
          ],
          "mesh3d": [
           {
            "colorbar": {
             "outlinewidth": 0,
             "ticks": ""
            },
            "type": "mesh3d"
           }
          ],
          "parcoords": [
           {
            "line": {
             "colorbar": {
              "outlinewidth": 0,
              "ticks": ""
             }
            },
            "type": "parcoords"
           }
          ],
          "pie": [
           {
            "automargin": true,
            "type": "pie"
           }
          ],
          "scatter": [
           {
            "fillpattern": {
             "fillmode": "overlay",
             "size": 10,
             "solidity": 0.2
            },
            "type": "scatter"
           }
          ],
          "scatter3d": [
           {
            "line": {
             "colorbar": {
              "outlinewidth": 0,
              "ticks": ""
             }
            },
            "marker": {
             "colorbar": {
              "outlinewidth": 0,
              "ticks": ""
             }
            },
            "type": "scatter3d"
           }
          ],
          "scattercarpet": [
           {
            "marker": {
             "colorbar": {
              "outlinewidth": 0,
              "ticks": ""
             }
            },
            "type": "scattercarpet"
           }
          ],
          "scattergeo": [
           {
            "marker": {
             "colorbar": {
              "outlinewidth": 0,
              "ticks": ""
             }
            },
            "type": "scattergeo"
           }
          ],
          "scattergl": [
           {
            "marker": {
             "colorbar": {
              "outlinewidth": 0,
              "ticks": ""
             }
            },
            "type": "scattergl"
           }
          ],
          "scattermapbox": [
           {
            "marker": {
             "colorbar": {
              "outlinewidth": 0,
              "ticks": ""
             }
            },
            "type": "scattermapbox"
           }
          ],
          "scatterpolar": [
           {
            "marker": {
             "colorbar": {
              "outlinewidth": 0,
              "ticks": ""
             }
            },
            "type": "scatterpolar"
           }
          ],
          "scatterpolargl": [
           {
            "marker": {
             "colorbar": {
              "outlinewidth": 0,
              "ticks": ""
             }
            },
            "type": "scatterpolargl"
           }
          ],
          "scatterternary": [
           {
            "marker": {
             "colorbar": {
              "outlinewidth": 0,
              "ticks": ""
             }
            },
            "type": "scatterternary"
           }
          ],
          "surface": [
           {
            "colorbar": {
             "outlinewidth": 0,
             "ticks": ""
            },
            "colorscale": [
             [
              0,
              "#0d0887"
             ],
             [
              0.1111111111111111,
              "#46039f"
             ],
             [
              0.2222222222222222,
              "#7201a8"
             ],
             [
              0.3333333333333333,
              "#9c179e"
             ],
             [
              0.4444444444444444,
              "#bd3786"
             ],
             [
              0.5555555555555556,
              "#d8576b"
             ],
             [
              0.6666666666666666,
              "#ed7953"
             ],
             [
              0.7777777777777778,
              "#fb9f3a"
             ],
             [
              0.8888888888888888,
              "#fdca26"
             ],
             [
              1,
              "#f0f921"
             ]
            ],
            "type": "surface"
           }
          ],
          "table": [
           {
            "cells": {
             "fill": {
              "color": "#EBF0F8"
             },
             "line": {
              "color": "white"
             }
            },
            "header": {
             "fill": {
              "color": "#C8D4E3"
             },
             "line": {
              "color": "white"
             }
            },
            "type": "table"
           }
          ]
         },
         "layout": {
          "annotationdefaults": {
           "arrowcolor": "#2a3f5f",
           "arrowhead": 0,
           "arrowwidth": 1
          },
          "autotypenumbers": "strict",
          "coloraxis": {
           "colorbar": {
            "outlinewidth": 0,
            "ticks": ""
           }
          },
          "colorscale": {
           "diverging": [
            [
             0,
             "#8e0152"
            ],
            [
             0.1,
             "#c51b7d"
            ],
            [
             0.2,
             "#de77ae"
            ],
            [
             0.3,
             "#f1b6da"
            ],
            [
             0.4,
             "#fde0ef"
            ],
            [
             0.5,
             "#f7f7f7"
            ],
            [
             0.6,
             "#e6f5d0"
            ],
            [
             0.7,
             "#b8e186"
            ],
            [
             0.8,
             "#7fbc41"
            ],
            [
             0.9,
             "#4d9221"
            ],
            [
             1,
             "#276419"
            ]
           ],
           "sequential": [
            [
             0,
             "#0d0887"
            ],
            [
             0.1111111111111111,
             "#46039f"
            ],
            [
             0.2222222222222222,
             "#7201a8"
            ],
            [
             0.3333333333333333,
             "#9c179e"
            ],
            [
             0.4444444444444444,
             "#bd3786"
            ],
            [
             0.5555555555555556,
             "#d8576b"
            ],
            [
             0.6666666666666666,
             "#ed7953"
            ],
            [
             0.7777777777777778,
             "#fb9f3a"
            ],
            [
             0.8888888888888888,
             "#fdca26"
            ],
            [
             1,
             "#f0f921"
            ]
           ],
           "sequentialminus": [
            [
             0,
             "#0d0887"
            ],
            [
             0.1111111111111111,
             "#46039f"
            ],
            [
             0.2222222222222222,
             "#7201a8"
            ],
            [
             0.3333333333333333,
             "#9c179e"
            ],
            [
             0.4444444444444444,
             "#bd3786"
            ],
            [
             0.5555555555555556,
             "#d8576b"
            ],
            [
             0.6666666666666666,
             "#ed7953"
            ],
            [
             0.7777777777777778,
             "#fb9f3a"
            ],
            [
             0.8888888888888888,
             "#fdca26"
            ],
            [
             1,
             "#f0f921"
            ]
           ]
          },
          "colorway": [
           "#636efa",
           "#EF553B",
           "#00cc96",
           "#ab63fa",
           "#FFA15A",
           "#19d3f3",
           "#FF6692",
           "#B6E880",
           "#FF97FF",
           "#FECB52"
          ],
          "font": {
           "color": "#2a3f5f"
          },
          "geo": {
           "bgcolor": "white",
           "lakecolor": "white",
           "landcolor": "#E5ECF6",
           "showlakes": true,
           "showland": true,
           "subunitcolor": "white"
          },
          "hoverlabel": {
           "align": "left"
          },
          "hovermode": "closest",
          "mapbox": {
           "style": "light"
          },
          "paper_bgcolor": "white",
          "plot_bgcolor": "#E5ECF6",
          "polar": {
           "angularaxis": {
            "gridcolor": "white",
            "linecolor": "white",
            "ticks": ""
           },
           "bgcolor": "#E5ECF6",
           "radialaxis": {
            "gridcolor": "white",
            "linecolor": "white",
            "ticks": ""
           }
          },
          "scene": {
           "xaxis": {
            "backgroundcolor": "#E5ECF6",
            "gridcolor": "white",
            "gridwidth": 2,
            "linecolor": "white",
            "showbackground": true,
            "ticks": "",
            "zerolinecolor": "white"
           },
           "yaxis": {
            "backgroundcolor": "#E5ECF6",
            "gridcolor": "white",
            "gridwidth": 2,
            "linecolor": "white",
            "showbackground": true,
            "ticks": "",
            "zerolinecolor": "white"
           },
           "zaxis": {
            "backgroundcolor": "#E5ECF6",
            "gridcolor": "white",
            "gridwidth": 2,
            "linecolor": "white",
            "showbackground": true,
            "ticks": "",
            "zerolinecolor": "white"
           }
          },
          "shapedefaults": {
           "line": {
            "color": "#2a3f5f"
           }
          },
          "ternary": {
           "aaxis": {
            "gridcolor": "white",
            "linecolor": "white",
            "ticks": ""
           },
           "baxis": {
            "gridcolor": "white",
            "linecolor": "white",
            "ticks": ""
           },
           "bgcolor": "#E5ECF6",
           "caxis": {
            "gridcolor": "white",
            "linecolor": "white",
            "ticks": ""
           }
          },
          "title": {
           "x": 0.05
          },
          "xaxis": {
           "automargin": true,
           "gridcolor": "white",
           "linecolor": "white",
           "ticks": "",
           "title": {
            "standoff": 15
           },
           "zerolinecolor": "white",
           "zerolinewidth": 2
          },
          "yaxis": {
           "automargin": true,
           "gridcolor": "white",
           "linecolor": "white",
           "ticks": "",
           "title": {
            "standoff": 15
           },
           "zerolinecolor": "white",
           "zerolinewidth": 2
          }
         }
        },
        "updatemenus": [
         {
          "buttons": [
           {
            "args": [
             null,
             {
              "frame": {
               "duration": 50,
               "redraw": true
              },
              "fromcurrent": true,
              "mode": "immediate",
              "transition": {
               "duration": 0
              }
             }
            ],
            "label": "Play",
            "method": "animate"
           }
          ],
          "pad": {
           "r": 10,
           "t": 45
          },
          "showactive": false,
          "type": "buttons",
          "x": 0.8,
          "xanchor": "left",
          "y": 1,
          "yanchor": "bottom"
         }
        ]
       }
      },
      "text/html": [
       "<div>                            <div id=\"7a6a77e2-d447-444b-a27f-7b6d5711b935\" class=\"plotly-graph-div\" style=\"height:525px; width:100%;\"></div>            <script type=\"text/javascript\">                require([\"plotly\"], function(Plotly) {                    window.PLOTLYENV=window.PLOTLYENV || {};                                    if (document.getElementById(\"7a6a77e2-d447-444b-a27f-7b6d5711b935\")) {                    Plotly.newPlot(                        \"7a6a77e2-d447-444b-a27f-7b6d5711b935\",                        [{\"mode\":\"markers\",\"x\":[3.0225450488869585,3.0278753002344594,3.0091660165583933,3.3694687323088535,2.999440361038671,3.4137931361494123,3.6317716280545755,3.06056256261476,3.979027714901508,4.627698691349693,3.4229177616107953,3.0138504537853312,3.5376725998266223,3.361861404135098,3.026136456963747,3.0881349535093263,3.1595828992087807,3.034966547705526,3.5378285471128357,3.015493849518226,2.9938629363940255,3.5376725998266223,2.987717853549024,3.3209426115798273,3.5038473885317263,3.100740505877152,2.9922480117383987,2.998533093699188,3.921802193153935,3.059586889873294,3.0002729857652004,3.0416288486009195,3.0408372483445323,3.057128768892091,3.8923336424498785,2.982082455977431,3.001668228688196,2.992045171092813,3.0925855918561473,3.088398861701292,3.0678464183629166,2.9591419516651842,3.031526581119358,2.929428764634212,3.1858402768478187,3.336146559760144,2.972822593743463,3.0626185888604622,3.017561417891975,3.8653676877075123,3.0213207371006816,3.2592423473488,2.992873877088351,3.1403854537094897,3.117643021614971,3.078763317321415,3.223647686815817,2.974444597417007,4.072988431010055,3.169542228577375,3.119773492101128,3.097137821091841,3.070757565293963,3.006938343897855,3.051557303300506,3.495091703818001,3.017605152000795,3.2666435327506824,3.078549676460667,3.304653748306991,3.1085904569459135,3.0786127974421404,3.8610031591170473,3.2172559684043742,3.0305029237235606,3.6159284396682905,3.2350710334787265,3.0256928927317848,3.033930782304131,3.6648765350471866,3.029357393632767,3.0564686125110714,3.471314071574316,4.182642924140082,3.031218883027456,3.197971006131519,3.06247822122717,2.997921715354141,4.087432946790626,3.737760351519016,3.2636632233684115,2.9304297702554027,3.2020997953587935,3.095378366776515,3.1372284335168357,3.232194656233069,4.612268307477296,3.0089055102660853,3.085766400774266,3.006697482841125,3.140104160575857,3.5136120895489222,3.0698951132780734,3.2122257862530716,3.184325333560545,3.0447657032316524,3.0182520376080038,3.0388034022868604,3.0801355371536974,3.1886741650562955,3.187550870088341,3.0290641163129393,3.02627933369236,3.0812084439579874,3.21657117948062,3.007181651078489,3.102117513105806,2.9928241514462237,3.006938343897855,3.134148396606435,3.1370992271461824,3.070757565293963,3.011577243680189,3.160136619863628,3.0528931250318974,2.9765120495199637,3.24618638511551,3.2532051400053876,4.553570963858971,3.6373263970497205,4.618302007846438,3.0695984444168833,3.197971006131519,2.994379145016333,2.9902519357290624,3.1886741650562955,3.922069911968263,3.7221175989334654,3.094396719724901,3.0008990735599848,3.0125316766426096,4.196232232277332,3.0048570327481507,3.0197190709550403,3.923276765831127,3.2510041098050886,3.287068908409675,3.016276007379188,3.651068369842858,3.0353964170140237,2.9673817544084367,3.0507149220260645,3.1688564959352954,3.3029405577912505,3.109452478856647,3.0002330764008063,2.992045171092813,3.0378408804566703,3.399168141613678,3.0229660416226247,3.0953451675105543,3.2120617038010746,2.9471368365599995,3.1253192383227133,2.979364968643007,3.092404926359111,4.553570963858971,3.8183736324458373,2.9949635297773307,3.0339335728314207,3.1020123910217006,3.149460966717422,3.056248688431599,3.0953451675105543,3.3967499138052637,2.957819372079262,3.415368655651115,3.092355785966537,3.1040407431761525,3.0591477107706977,3.030585611427589,3.0937205999260424,3.086060134439809,3.0388034022868604,3.000033788177113,3.068829617177544,3.0842696492585517,4.60348566778742,2.989442120662968,3.3584530891165327,3.1148812754983632,4.601258050384368,3.078763317321415,3.4127421499369364,3.102117513105806,4.581913203569326,2.9555793864482824,3.2510041098050886,3.926713272166588,3.105954516106278,3.2877929293443935,3.0367901766664267,3.1301165687174737,3.208798756190004,3.095795910015985,2.9875248682660493,3.144939084938965,4.205322707361332,3.0008990735599848,2.9908678141161174,3.0872761324606706,3.0927145648887735,3.0845532455083267,3.0088607287798395,3.055132240784957,3.524475397687815,3.026136456963747,3.2905073310012267,3.2726874241300505,3.057013187540389,3.007181651078489,3.567558408341695,2.9916917696301053,4.144995601999996,4.604169536924695,3.0065432486323833,3.5174835835227842,3.926713272166588,3.4702603441036057,2.987634328282803,2.9910528028671735,3.1515516354096205,3.081745860313107,3.149460966717422,3.055346072903468,3.127216153658933,3.1778322751071952,3.0336219428198232,3.031895250513375,3.6427123727291733,2.9673817544084367,3.170393077110078,3.0325031234382664,3.0796132277446566,3.1198128474034,3.0408372483445323,2.9727617620684197,3.1301165687174737,3.05414089593796,3.097137821091841,4.0482477841701465,3.0663622582214543,3.932029068716761,3.0903516055556715,3.1363046752380686,3.7019098686179417,3.21657117948062,3.0549529526172323,3.2448688193772077,3.1526438745392853,3.3029405577912505,3.743801252942249,3.1227480909073333,2.9922480117383987,3.297450297044236,3.0184017788486055,3.009277372142885,3.1561292303198076,3.051109854911365,3.152004852138209,3.134997780034262,3.249959980029002,3.770428878307756,3.352701898985241,3.0031648395119213,3.0125316766426096,3.041228971448528,3.0801355371536974,3.219543109241436,2.9794895754875363,3.013771467339852,2.996006805095545,3.143154140328287,4.192791689813478,3.0367901766664267,3.0424737713285226,3.1074501347286763,3.6526759123184056,3.7832165835705114,3.094396719724901,3.071173933403827,3.855357791291416,3.189142072484983,2.999596981759334,3.0690150285774487,3.1963610112623724,3.020153652470313,3.109452478856647,3.007425128977864,3.013907576051224,3.0942954013634307,3.0210888274074224,3.095378366776515,3.857455850674875,3.048008043102837,3.0937334587617737,3.0902958984168003,3.134997780034262,3.166648466393428,3.2323980432783834,2.9991165963791873,3.6526759123184056,3.4127421499369364,3.312186731099788,3.1436088814244134,3.46224680510597,3.0690150285774487,4.651815543400489,3.4343159870992435,3.134148396606435,2.9986659446688475,3.000033788177113,3.1051589080408593,3.312186731099788,4.196405715649603,3.0336219428198232,3.0416288486009195,2.996006805095545,3.2860253076712094,3.2814788640645247,3.028540675748678,3.1370377107157394,3.1288475347124445,3.02486737220448,3.1040407431761525,3.0715260143837044,3.1701125685337996,2.986603054249904,3.110350344892859,3.277818337104693,3.695751751335071,3.174226353867167,3.0101768499247235,3.406230696901381,3.117643021614971,3.0230394274798527,3.19266519153015,3.0364336681739803,3.325015056029082,3.0773893724900896,3.1363046752380686,3.2814788640645247,3.2420773019421776,3.2058289877452673,2.988926517343023,4.622923975979215,3.005604468610507,3.2087086414570973,3.5524345285672863,3.2880165243055375,3.6317716280545755,3.221253811630132,3.3666194243373706,3.015728491275429,3.8181419732973603,3.026136456963747,3.084526209847388,3.015728491275429,3.0717324772617944,3.016276007379188,3.2676336222651967,3.418219410512764,3.1549832064633074,3.094396719724901,3.325015056029082,3.1857455796305456,2.960512763847536,3.038575848022718,3.0088607287798395,2.991255790750649,2.989442120662968,3.0365402995599458,2.966941217619853,3.0603711696889966,3.276376412328284,3.0725864306893333,3.1701125685337996,3.2075846579891776,3.006697482841125,3.1218447867996484,3.3676686308260604,3.0517897013156756,2.9759359953704876,3.0310982737580026,3.1016160943957476,3.0866095963025852,3.129174911742859,3.0065432486323833,3.058252066262417,3.2350710334787265,3.2636632233684115,3.095795910015985,3.724352802987865,2.980002029616942,3.6651717300616378,3.9346695878463165,2.9666963574508896,3.4489666635933944,2.9902519357290624,3.0602376657998254,3.128547204730462,3.207410850333162,3.089696403785936,4.123967159188586,3.3178670571478843,3.007425128977864,3.017464218634104,3.5136120895489222,4.592618142403793,3.264993909002953,2.9777009670157284,4.604324255157689,3.055274054593517,2.980171955697822,3.050178250467252,3.0831850510909025,3.097218748408099,3.26365865176367,3.1593080502092223,3.140495473379799,2.9594825472269886,3.770428878307756,4.042969986865425,3.0866095963025852,4.59589887040728,3.027806412891517,3.2075846579891776,3.1771875088070605,3.5376725998266223,3.108086707041707,3.0568030495137744,3.2350710334787265,2.9777243742490493,3.1797873825699923,3.028545401010951,3.039626139432466,3.144939084938965,3.2988072260649552,3.243325622561218,3.6132992041650827,3.129412413170486,3.1863026912512202,3.062029621754822,3.1383547202718645,3.141585467361151,3.0751390959362115,3.0194796391828747,3.2532051400053876,3.0001258763844154,3.1778322751071952,3.0252133643572643,3.213812700082156,3.360117782016646,3.0517897013156756,2.958412371101103,3.913343053096601,3.0435020445034255,3.1081870687548685,3.081745860313107,3.0602376657998254,3.189448568993149,2.993593453211783,3.092404926359111,3.0562739288720104,2.993642144674143,3.127216153658933,3.1942050904642,3.3060816533636794,3.051109854911365,3.0586290782034595,3.037534663979615,3.134997780034262,3.2880165243055375,3.069095878046806,3.149830433778917,3.0126516093951654,2.9941622526227745,3.027806412891517,3.065600981089452,3.0982916152977844,2.9938629363940255,3.208214998179714,3.9682870841763607,3.3841589563942813,3.0801355371536974,3.0999921934315195,2.998102482543339,3.0772238613423037,2.9831933263865777,3.040798917348851,3.7271263094644107,3.269505993538946,3.017561417891975,3.062029621754822,3.470523037440964,3.1436088814244134,3.187951999545126,3.429911306659567,3.0420504680588456,3.4250236859782164,3.0632478766568805,3.15351586809523,3.922069911968263,3.10876281682921,3.378542229235034,3.0219879313771467,2.984009042812398,3.352592915423006,3.0444012130305484,3.102155892502169,3.047250840649783,2.982534041623789,3.0525852745743656,3.2908853495836485,3.335331092950777,2.9528441580116485,2.994947146875147,3.1895659743956015,3.007268428970387,3.0306030023936503,2.975944893837218,3.0399327160078364,3.1868386100785786,3.0288450215139813,3.045028434264135,3.016700532987921,3.1081870687548685,3.0310982737580026,3.171834787763511,2.976788263859379,3.028046868756142,3.0424737713285226,3.105954516106278,3.2526554332124324,3.0096127643901425,3.1565503976832674,3.1798430645557136,3.0904084580776225,3.01546528129551,3.0716580584534867,3.6373263970497205,3.7277241336095726,3.000033788177113,3.0002330764008063,3.1311175876985438,3.0773893724900896,4.626595321918361,3.1403854537094897,3.1121140991483784,3.139840655655629,3.2435757361616515,4.056952953996449,3.2532843998223524,3.0197190709550403,3.0305029237235606,3.2941578484417415,3.003137200404633,3.223501358906957,3.1000608172532655,3.068829617177544,2.9356493021515426,3.0842696492585517,2.994711278000594,3.0466009342742124,3.8923336424498785,3.051109854911365,3.1704482347213037,3.031727153077151,3.221253811630132,3.062029621754822,3.207410850333162,3.083116494989107,3.0048570327481507,2.9852675478712527,3.1595828992087807,3.0860127229428214,3.0626185888604622,2.9876328183246117,3.017683886519767,3.092404926359111,3.082496725483476,3.424854577343455,3.3477140259464697,3.1370377107157394,3.2884440655800344,3.0138434839342705,3.4206164844567652,3.0119509930720625,4.577838675818066,3.0879847472010855,2.9922480117383987,3.1759704215168973,3.2006568642521427,3.0845532455083267,3.013771467339852,3.375306007751131,3.0634265047673757,3.01650552306512,2.984009042812398,3.1121140991483784,3.335732621669073,3.2149714989281413,3.1598465680652144,3.1601874345084893,3.0546439141869484,3.424854577343455,3.042798453106259,3.0053295159202844,3.2087086414570973,3.3971348159205275,3.0570345945652435,3.7057271927532827,3.0705087916953504,2.9942853024175244,3.144939084938965,3.067483266873294,3.3320632905191676,3.1436079734829137,3.0430589643468995,3.1308169811235484,3.070282378638084,3.181278712624168,3.360958626763917,3.0466009342742124,3.152710480430344,3.0184017788486055,3.251756535191739,3.4008592039131345,3.1301165687174737,3.059992242148583,3.3666194243373706,3.144939084938965,2.9941622526227745,2.97315857398282,3.2027591758606078,3.00726837085787,3.094596369351055,3.5947935375778157,3.1963610112623724,2.998533093699188,3.0252342638570853,2.980524220124181,3.1595828992087807,3.0461826493463455,2.983863620459575,3.0491043983730877,3.2988072260649552,3.0562739288720104,3.545668373672065,2.986712832001877,2.994379145016333,3.1081870687548685,3.0118365401334604,4.618745798427949,3.495091703818001,3.312154207520736,3.0460739019059244,3.0202131485267882,4.553570963858971,3.5217375538796114,3.266525217219034,3.7477846849774314,3.236085941467809,3.335331092950777,3.065600981089452,3.0698951132780734,3.031052709911633,3.0229660416226247,3.2257360179818697,3.0586290782034595,3.051557303300506,3.0881349535093263,3.360117782016646,3.549868538452294,3.0363734980436914,2.984009042812398,3.107346727765719,3.6159284396682905,3.1515516354096205,3.8923336424498785,3.3666194243373706,3.006610837859914,3.3841589563942813,3.0305029237235606,3.186024196992338,3.724352802987865,3.9940915687954153,3.388787826527207,3.241801395720857,3.1541845196207765,3.0591477107706977,3.0570221282576586,3.341936980065458,3.0674819479197573,3.8181419732973603,3.02668069550291,3.0568030495137744,3.006938343897855,3.076420113918883,3.2149714989281413,3.0902958984168003,3.076862306071455,3.1863026912512202,3.0649171761330507,4.087432946790626,3.0925855918561473,3.929896426808899,3.3147797210688084,3.6799208967552484,3.2125649308009936,3.1701125685337996,3.2057875193556993,3.429911306659567,3.06013625357254,3.378452136079259,3.2510041098050886,3.2865054981380344,3.028472988894239,3.2020997953587935,4.604324255157689,4.159485041352774,2.994947146875147,3.2592423473488,3.997677244969681,3.786477336731159,3.458652678012121,3.032498829312528,3.857455850674875,3.129412413170486,3.857455850674875,3.0469461528900728,3.2058289877452673,3.171834787763511,4.072988431010055,3.5133179814292643,2.9969882767036307,3.1601874345084893,3.115905235382064,3.188512656282154,3.0430589643468995,3.593762515609727,3.926713272166588,2.972822593743463,3.062029621754822,3.0192849500970182,3.584420777576245,2.978051612194552,3.1408258648253615,3.1308169811235484,3.05414089593796,3.032498829312528,3.036133042109192,3.0612389108605624,3.456449336650538,3.1862693975607637,3.2031971789456617,3.050178250467252,3.424854577343455,2.988926517343023,3.4071032343557768,2.9969882767036307,4.557782085711522,3.070148634949225,3.08277376761043,3.1148812754983632,3.0517897013156756,3.2835071513162797,3.078763317321415,3.312154207520736,3.0731678414382038,3.1290366572618145,3.035322894842528,3.248210380917939,3.094166479886773,3.2031971789456617,3.0878429734540465,3.0192753698414374,3.3060816533636794,3.0586684476072947,3.0292299260375493,2.982082455977431,3.3057908748585496,3.0288450215139813,3.1000934422082,2.9532062253792724,3.6651717300616378,3.0012900095212283,3.1775238355780506,3.0600687107463007,2.9783867788274123,3.1895659743956015,3.5199734709744943,2.960512763847536,2.998533093699188,3.0358006178422157,3.091678722282617,3.2611867239685686,3.430209283359348,3.097218748408099,3.0784832891207397,3.17595428791978,3.004398744290025,3.919555851208553,3.13353759275469,4.580088811927479,3.075589141874091,3.472292622904888,3.1857455796305456,3.1701125685337996,3.291443387664129,4.613430002275888,3.0138504537853312,3.830844295878803,3.0507149220260645,3.000354114637398,3.143682015913533,3.0237719393699654,3.12764375756552,3.0543323762504153,3.8181419732973603,3.3600794233240445,3.1105034268769995,3.4137931361494123,3.020153652470313,3.471314071574316,3.0010800041473114,3.0646920263810524,3.878179774081303,3.0210888274074224,3.145765106921441,3.0641683013338916,3.090654087193857,3.100694067620798,3.0408372483445323,3.840811974248547,3.0202131485267882,2.9763096941249545,3.1895659743956015,2.9874270618933285,3.4017679678202413,3.0900459008312313,4.042969986865425,3.0252133643572643,4.660285193162335,3.0740604187517575,3.207410850333162,3.1813408080921377,3.243325622561218,4.622923975979215,3.135838458474489,4.606860733816098,3.287249897296145,3.005998811379132,3.162218988181779,3.1549832064633074,3.0388331329728717,3.190359087284381,4.574544782508478,3.22500123871075,3.312154207520736,3.0677513405654055,3.023684992616096,3.134997780034262,3.8164095600676333,3.000025143010358,3.069095489849173,4.056952953996449,3.26419993292958,3.297450297044236,3.0790395826070505,3.0879554218933225,3.1078315694645386,3.120337094312613,2.9315977010091743,2.9561343977677397,3.0114960229100967,3.223753374299093,3.0310982737580026,3.052757863575057,3.945856357282757,3.184325333560545,3.297450297044236,3.039626139432466,4.664141161900955,3.4071032343557768,3.109038899517401,3.361861404135098,3.2982755401739605,3.005604468610507,3.05414089593796,3.117643021614971,3.208214998179714,2.9528441580116485,3.002795940741293,3.185562593921439,2.977986225581981,3.1777228512671747,2.990232658287643,3.1902760905342196,3.207512359202113,3.0192753698414374,3.4845189460243216,3.003034435282246,3.152710480430344,3.0796132277446566,3.427738011657867,3.5391356679849535,3.0953529179543904,3.3801431245503384,3.1051589080408593,3.0292299260375493,3.0604241812119186,2.957819372079262,3.586573609108719,3.0717324772617944,3.0460739019059244,3.0544209802388504,2.9991165963791873,3.045665539059038,2.983863620459575,3.026136456963747,2.9978088180664404,4.042969986865425,3.1805657487366803,2.9938629363940255,3.2007843543103065,2.998682725076707,4.5617249004442,3.0614002769285356,3.3611018775666506,3.321475024780066,2.982534041623789,3.2199081034047055,3.3131586868384346,3.0451214936418083,3.0233232941125,3.1595828992087807,3.5174835835227842,3.549868538452294,3.059596561616188,3.878179774081303,4.584319042380939,3.058741506448215,3.453394007179979,4.628282497856369,4.642980890401801,3.031178611491409,3.6159284396682905,3.105824761714832,3.154945494932917,4.40694863450832,2.985930897715454,3.0918903568736167,3.218427965348129,4.25936083555864,3.126580056978708,3.1237661998204813,3.057013187540389,3.0948206170453583,3.7969921530605286,3.0580989267812355,3.6782759467910995,4.664141161900955,3.00726837085787,3.508659003771951,3.0883663706816673,3.0127124550523505,3.982547715796385,3.105954516106278,4.601258050384368,3.2309673485630537,4.618302007846438,3.097218748408099,3.176583196442422,3.091716034503648,3.1374904990216232,3.028472988894239,3.108086707041707,3.4348657417081307,3.1481215129222946,3.0626185888604622,3.1064890195101764,3.02627933369236,2.9875248682660493,3.0547678655503154,2.9555793864482824,3.232194656233069,3.319857987322705,3.346863191457981,3.340439463855464,2.9996057973557972,3.1172958000300888,3.1783624624998232,3.361861404135098,2.988926517343023,3.005604468610507,2.972822593743463,3.0976737248463433,3.0878429734540465,3.070757565293963,3.1403854537094897,3.4496489189507247,3.0480075149521526,3.1481215129222946,3.7214383296512215,3.0914715789767686,3.923795293832522,3.083715276449463,2.993031340111515,3.069095489849173,3.2032080347379677,3.082452647074891,3.0049170314006894,3.9860609322203366],\"y\":[-1.1874207569892388,0.571492429224771,-1.357424782689522,0.03659340500415153,1.1005540542455585,0.6169555868217315,0.13272772538401795,1.1560572198064663,-1.5922929259599958,0.003150626768165833,0.18899876963711779,-1.4307782106626359,0.21881030363939982,0.49760798160773323,-0.8625927093498305,-0.3588937069991657,0.632795586324852,-1.0035435385726537,0.7466372461141959,0.8839606774489649,-0.7114886286135178,0.21881030363939982,-0.250276855286003,-1.1320401910763593,0.15789353733062006,0.8379343766041982,-0.9698277189006159,-0.8030173318792231,-1.7997688381391812,-1.7541386115500135,-0.8401320682903365,0.3434414747147846,0.5004465967837571,0.48424701784287844,1.29728909313578,-1.138543308923517,-0.5624645644578674,-1.1720069095754881,-0.4267512104668497,1.6698067590871022,1.4244510430500708,-1.3409215253246067,0.11639456197154799,-1.3016831716063288,1.5758527379403973,-0.18524249095703507,-1.0430152834376354,0.39677831623085763,-1.4716223226085974,1.651515303443536,-0.03224621272040487,-0.5896038775061497,-0.7367711220306568,-1.4169317574927114,0.1845541551398333,-1.6381361025563603,-1.786500618392501,-0.7192139495833136,1.9477755582151375,-1.2600175493410197,0.669780603128929,1.0406790204024874,-1.6469723387039406,-0.1537024424339134,0.49369914058877684,0.17723264162897423,-0.04707012516131297,-1.9248688723357779,-1.2296520534642021,0.5278292916053976,-0.7542170299808012,1.2233011127310789,0.9398176257007638,-1.9119862988010348,-0.09408676493594126,-0.8919018625680705,0.7218246429162617,-0.04187203084763379,-0.7352643041133918,1.9444009537346623,-1.3796769624336083,-1.5948334609140493,-1.2831572070196455,-0.8707179654783805,-0.7978429839982629,-1.6714845896097188,-0.03402949225144222,-1.4415593585108497,0.06125103457282047,0.5533400458222212,-0.06974228827141635,-0.9654792834660162,-1.7924304838064375,-1.44728347118333,1.0334616898828952,1.7410424646638585,-0.6137356738391195,-0.3224776956618844,-1.560435794313133,0.30529187638768923,1.1255843398771619,-0.9856254013233849,-1.6707644465641653,-1.4823060740912855,-0.4176070339587038,0.6862955027691993,-0.8206112916788822,0.9458589641189499,0.8067327633590431,-0.8371632837085677,1.6956282678263586,1.4757675764989113,0.14268435307699157,-0.5890213571530439,-0.8440477054193432,-0.7483960523795723,-1.3739655525354335,-0.4657400606661352,-0.1537024424339134,-1.0259375692261756,1.346514536243337,-1.6469723387039406,-0.6316742988951511,1.571583192465744,0.295406528723437,-1.2721211246023794,0.7041359795988591,-1.403421363988589,-0.8172592858497949,-1.0315310606023749,1.1174698031581998,-0.7193295262296352,-1.6714845896097188,-0.026669383576246895,-0.6451753590344604,-0.8371632837085677,-1.790075504390217,-1.0975817513410424,-1.7771229318585957,-0.0019386238762188375,-0.35900248313530386,1.3045539448000356,-0.289924325082242,0.526916873073586,0.5911741648627294,-0.763799949526491,1.5864277918916205,-1.213668109780656,0.4808053100008555,-1.1098726462385535,-0.40317287464806395,0.3524881565604223,-1.3786611523433352,-0.34220126807991835,1.4701595826042018,-0.699105019453258,-1.1720069095754881,-0.7531627059580549,0.7395147885553367,-1.0576351048309152,-0.36196230245892647,-0.15853680959117425,0.809654621602407,-1.2827142471772872,-1.512810176954094,-1.7460580877088685,-0.8172592858497949,1.3436616576013718,-0.7909880431524335,0.35354328057177165,1.6607269565840301,1.8219129878250775,-0.04090104868238013,-0.36196230245892647,-1.4369756170657428,-1.1836292312162409,0.16575874556635395,-1.7242194330626912,-1.756299229305739,1.3002361848082546,-1.1364281664336937,-0.3199224171096573,0.5675363563648907,0.9458589641189499,-1.0981520653494758,-0.466188666212061,1.6000151920291292,0.0009635977899438236,-0.9932734851238357,-0.0013437208435282018,-1.5216650289505649,0.8342024751151357,-1.6381361025563603,-0.11954294305219455,-1.3739655525354335,-0.908070033445358,-1.3263523459007864,-0.763799949526491,1.7402910479875857,0.8870049720872082,0.766677228124005,-0.2678847111103266,-0.7058952716863516,-0.08216906846903257,1.6740989640794042,-0.9253474159964917,1.6933206351616361,1.3824517310945579,-0.0019386238762188375,0.49521499388972456,0.7683667283091761,1.0333055532337778,1.1096891437681466,-1.405490273731823,-1.1971322216720488,1.0781205011950106,-0.8625927093498305,-0.9473180736868305,-0.7365194533133321,0.8258520454004404,-0.7483960523795723,0.16348986085321224,-0.9461111804505219,-0.8812778229583443,1.0334112491879024,-0.4108655429765024,0.5421454421951116,1.7402910479875857,0.2540304841405786,-0.567555063065944,-1.026976955258695,1.511710329749117,0.9506060509369335,1.8219129878250775,-0.006758461029009316,1.0015067680446177,1.959120344937975,-0.8599899765680831,0.25066352840266193,-1.3727233434287645,-0.40317287464806395,-1.1560347110997864,-1.061289455505946,1.1112679312452645,0.24076627472195244,0.5004465967837571,-0.7519168883042746,-0.7058952716863516,1.6047698590339365,1.0406790204024874,1.1993704727328272,0.15931377840464975,0.4048550472671425,1.3772073303504704,1.7756302864934186,0.22278423062723274,-0.8440477054193432,0.3763626300607157,0.7658075172508373,-0.7954706133880504,-0.34220126807991835,-1.4232653680091956,0.1214932625502018,-0.9698277189006159,0.3481853120876227,-1.2121393357051637,0.9547645390297261,1.8269373093735217,0.615332933589386,1.6942626100200018,-0.1250733668392714,-0.8374347371802027,-1.4609537192044542,0.6871162372443416,-0.4132713979141571,-0.35900248313530386,0.586595859529658,0.8067327633590431,1.7732863227163096,-1.3454213475629628,-0.7571835603797462,-0.43087844084628935,-0.9658993499830838,1.311438908739903,-0.2678847111103266,-0.01586184976143927,-1.5074936774272507,-1.38580637346686,-0.3020730715998432,-1.7771229318585957,-0.7752278228650513,0.4093636399417225,-0.4346828933455426,-0.9258878978530211,-0.29150062886675915,-0.9721760006495221,-0.4796535054867462,1.4701595826042018,-0.14835475324173983,-0.8886885957113816,0.5236499457787915,0.5090698482588428,-1.44728347118333,-0.8703165095895743,0.1473977527683759,1.1812498223176224,1.4323945588787828,-0.1250733668392714,-1.7313282314664844,1.753464668052384,-1.6765991546173211,-1.38580637346686,-0.11954294305219455,-1.0877875369985974,1.1529613154197913,0.056671296327874404,-0.29150062886675915,0.47271260715036223,1.448740321877896,-1.0259375692261756,-0.8438080644043104,-1.0981520653494758,1.5329787213583974,-1.0877875369985974,1.3337126041409235,-0.8599899765680831,0.3434414747147846,-0.43087844084628935,-0.9915270606565499,1.7362062915815777,0.7406795809425729,1.7425685299878346,-1.811851287156935,-1.1294856733237377,-1.756299229305739,1.2660986864696253,-1.9651709828814743,-1.3633790174708968,-0.09250462552805014,0.25667002824579643,2.0350797712659747,1.6041999761193881,0.5587603410354792,-1.813004833786263,0.1845541551398333,0.2838265695449137,-0.18813471872095366,-0.9991861144933458,1.8195816829486449,0.8657188097478933,1.7756302864934186,1.7362062915815777,0.39107287235497407,0.30602409808847186,-1.4145796836546647,0.5020758164292219,-1.2587796350052773,1.3358084471559517,0.4362258485227432,0.2286115908705124,0.13272772538401795,-0.2481863580302188,0.5216233278352925,-0.4256990429956187,-0.2640936387992249,-0.8625927093498305,1.1862266910981603,-0.4256990429956187,1.0850054416047958,-1.213668109780656,-1.8528920704025023,-1.2097168170137313,1.6583772485844304,-1.7771229318585957,1.8195816829486449,-1.2310362166901223,-0.6244449967003809,-0.27970728649573895,-1.405490273731823,-0.9284854909814668,-0.9932734851238357,0.3514899517047093,-0.8930402648720865,1.2649453734708362,1.928229819884071,-1.3473854316466787,-1.9651709828814743,-0.23013220131883724,0.30529187638768923,1.7828905708064378,0.5440069193267376,-0.7282544626361898,-0.4154564814775035,0.5301956266979312,1.3817680767215879,-0.02543630939259306,1.6061146999792468,-0.4108655429765024,1.375353168343138,0.7218246429162617,-0.06974228827141635,1.6740989640794042,-1.1503727215949247,-0.34386040942669005,1.1927358903393561,1.7587309153713424,-0.9847541714553895,-1.5836904872834783,-0.6451753590344604,0.0806238476023112,-1.1944369386151565,1.6794657552004701,0.20390125911295875,1.236070000192789,-0.6924206176573157,-0.14835475324173983,-1.543488844836783,-0.9856254013233849,-0.2905723879456199,-0.2684424778060083,-1.3600147809074723,-0.7051868398722749,-1.445923557318263,-0.45024610908309376,-1.3373250067461238,1.1690944739901425,1.417988195019465,0.4989015986864889,1.0680882230979487,-1.5149096104948778,-0.8991075793198728,-1.4609537192044542,-1.565867182237686,-0.02543630939259306,-0.7227555350004163,0.26773929705787963,-0.23013220131883724,1.910134065733029,0.21881030363939982,-0.025452094747776058,1.2438579193703538,0.7218246429162617,-0.24409003722193512,-0.07198990394836047,-0.8590239508117563,0.8875537026906996,1.6933206351616361,0.6868230746163172,-0.14860532663363515,0.19038361706500506,-0.9903343172965582,1.6007816281123477,0.7706540040510427,-0.8555475841259337,1.2966702336697333,-1.2770671255975439,-1.131817972618213,-1.403421363988589,-1.332532791575178,1.959120344937975,-0.5259448220326288,-0.8957947591485533,-1.401002496909656,-0.7282544626361898,-1.2734411710044091,-0.1527482473031515,-0.6525071013962284,0.9022689946384577,0.9506060509369335,0.0806238476023112,-0.8710774177817835,0.07072025877667688,-1.7460580877088685,-0.8160937967855252,0.8250426083085562,1.0015067680446177,1.9401009909930746,0.14026150681586647,0.615332933589386,-0.4526187933592773,-0.7433577457412356,-0.1250733668392714,0.2286115908705124,0.703989577958374,0.4337327648536864,-0.20045289156868978,-0.32092495647203895,0.26773929705787963,1.286939309214226,-0.5105224863272743,-0.7114886286135178,1.9985652596374408,0.9517695419705946,1.3758252821353776,0.8067327633590431,1.2559369458990235,-1.2870447292461138,0.5810690470926851,-1.4055111789512338,0.39488107041001075,2.0417323218419288,-0.10337149377386133,-1.4716223226085974,0.7706540040510427,1.5038251814549641,1.1529613154197913,0.5122700651056533,-0.1512658394249448,1.039225709648359,-0.08323070458078084,0.11968247958628132,1.4713861718118006,-1.790075504390217,-1.4672894601510194,1.3340582929767641,0.03886841759302096,-1.4661617547502144,1.1673062107732977,-0.8292500000976677,-1.6467725360851675,-1.556261348070879,-1.035030496632895,0.8235409036907331,0.07627531098536179,2.083665645816339,-1.30255289033666,0.07529680107471373,0.9863426572325481,-0.7920164665818501,-0.9931762539009561,-0.9657393236098855,-0.7038076442686555,1.246708456060184,-1.1164265875197716,-1.6020677768911489,-0.5517272562360653,0.9022689946384577,0.5301956266979312,1.4567719134617951,-1.3650661012247252,0.32835663848528296,-0.01586184976143927,0.8870049720872082,1.590213375485653,-1.6296341933937146,0.021516548187119268,0.7418862368782432,-1.270628801674332,0.03594263018535699,1.145633288363568,-1.0315310606023749,1.3338742571970001,-1.0981520653494758,-0.699105019453258,-1.716340311676582,0.8657188097478933,0.49789220669925743,-1.4169317574927114,-0.2004582860786112,1.541376988388872,0.641288493233393,1.182262764278779,0.06461327121084445,0.526916873073586,-0.09408676493594126,1.8838034336782015,-0.4054887628985267,-0.08208374033824928,1.70570159208701,-0.466188666212061,-1.20802590155652,1.6000151920291292,-1.0086895148358077,0.779543509281466,1.29728909313578,0.615332933589386,1.7525193028021102,1.1392912483361184,-0.2481863580302188,0.7706540040510427,1.6794657552004701,1.312983407485951,-0.289924325082242,-0.8473798065911703,0.632795586324852,-1.7938878368193354,0.39677831623085763,-1.603332830482009,0.8416471999469107,-1.7460580877088685,-0.7497789750527177,0.6236515400513665,0.5213003544877911,1.7425685299878346,0.7251854394949453,-0.7647817273461627,1.4246030266226677,0.268915824543573,0.7806575028871894,-1.4548298446006072,-0.9698277189006159,-0.9596478500620758,0.20472230057997334,1.1096891437681466,-0.7571835603797462,0.79812026455134,-1.582607308956389,-0.25627868177272406,-1.4661617547502144,-0.2004582860786112,0.5246445614378987,-1.8527096037576893,1.4185428510947695,1.7617581615347997,-0.22930937095626855,0.6236515400513665,-1.6264414689051043,-0.29351825045826024,1.3358084471559517,-1.8282558551111354,-0.9675998294827018,0.5140446036793275,1.2048055355232936,-1.008870872579558,1.6933206351616361,-0.15825148892728105,-1.0925431783497266,-1.7802481848386333,1.185315236333308,1.2618052508477373,-1.3538256229962238,-0.06501854359488185,1.824349085299882,0.779543509281466,-0.8147861040456749,-1.2121393357051637,0.9592603757365343,0.025717560434230343,-0.7058952716863516,-1.479601470303484,0.5216233278352925,1.6933206351616361,-0.32092495647203895,-1.4335691488357927,0.7923905951356986,-1.6436139791926976,1.686991902992528,1.8403134482330556,-0.9721760006495221,-0.8030173318792231,-0.46836233590744636,-1.0537155235014726,0.632795586324852,0.25517656798527877,-0.990726326942768,-0.30774986560229717,0.6868230746163172,-0.8160937967855252,1.7855793517600396,-0.3246777920318111,-0.026669383576246895,0.9022689946384577,-0.7053335943772773,-0.4565777694789586,0.17723264162897423,1.7422707902953254,-1.6844413192630965,0.9105098602790679,-0.8172592858497949,0.18881805236853125,1.9961287545734259,-0.6336985125766209,-1.3628023241444063,2.083665645816339,1.286939309214226,-1.6707644465641653,0.1367090038378251,-1.0576351048309152,0.8182444781950213,-0.4526187933592773,0.49369914058877684,-0.3588937069991657,-1.401002496909656,-1.3238354162908605,-0.6990349297310159,-1.4661617547502144,-1.7331977329346573,-0.8919018625680705,1.511710329749117,1.29728909313578,0.5216233278352925,-0.9245831042151756,1.3758252821353776,-0.09408676493594126,-1.4226782337553399,-1.1503727215949247,1.848394778800246,0.05217651790570325,-1.3490664533229753,-0.09546004331192123,1.3002361848082546,1.0674994964348925,-0.4452935508308552,-0.6002469709942951,-0.2640936387992249,-0.9084027853944239,1.2438579193703538,-0.1537024424339134,1.372557036309991,-1.8527096037576893,1.4323945588787828,-1.4261851746210872,1.6007816281123477,0.7405298733132076,0.06125103457282047,-0.4267512104668497,-1.2237386635886471,1.644805330334719,0.5893219305410883,0.7071281004718939,-1.9651709828814743,1.9630373762654159,-0.1512658394249448,1.423396997006084,0.6217670759121161,-0.763799949526491,-1.3899461658983874,-1.0817591358844056,-1.7924304838064375,-0.7051868398722749,-0.8980388225551313,0.07529680107471373,-0.5896038775061497,1.8509223007956839,1.3503226529984307,-1.5742780877510048,-0.5806163929360224,-0.8703165095895743,-0.9903343172965582,-0.8703165095895743,1.2721044125130836,0.30602409808847186,1.4567719134617951,1.9477755582151375,0.05033372929762135,-1.4505860583965562,1.7617581615347997,-1.6958564660342246,0.62460450347746,1.185315236333308,0.5136374002853002,1.7402910479875857,-1.0430152834376354,0.7706540040510427,-0.07351314524186434,0.5666294483144889,-0.6694729943782624,1.275913575158499,1.2618052508477373,1.6047698590339365,-0.5806163929360224,-0.5496542497758545,1.189664433845722,0.3989046908664239,0.3166895025682249,-1.0035014185768776,-1.3373250067461238,0.6236515400513665,-1.4145796836546647,1.1607211218245197,-1.4505860583965562,-0.6737112161674292,0.7805058588101724,1.0145215274399,-1.5216650289505649,-0.7282544626361898,0.26946749226319905,-1.6381361025563603,1.7422707902953254,-1.0690568627073074,1.7689926434919447,0.11065363022904237,1.5927849281904976,1.2938371538988742,-1.0035014185768776,0.917683401645527,-0.8566720720025988,0.14026150681586647,0.3511678590382593,0.283912198836002,-1.138543308923517,-0.006709607327679147,-1.1164265875197716,-0.27484394578476523,-1.2878908333281105,1.1927358903393561,-0.3244428725213598,-0.4866317304499681,-0.4803451566130631,-0.8607343096189904,0.9863426572325481,1.6236250044082043,-0.6244449967003809,-0.8030173318792231,0.8033970213245332,1.155229012384767,0.20615793458250917,1.6436652693731242,1.417988195019465,-0.5905585385318215,-1.4397095627068799,-1.0637465887003354,-0.07781184566669924,-1.7436957196964187,-0.3889020453532098,0.9044750657294446,0.6054963476252401,-1.2310362166901223,-1.9651709828814743,0.3087314498505057,-0.2912762484603273,-1.4307782106626359,-0.7773292190098514,0.3524881565604223,-0.552779695162555,-0.18370745610689662,0.9864346987989957,1.523265925730652,-1.713463136500474,-0.2640936387992249,1.1180377575463922,-1.8817517988991725,0.6169555868217315,-0.4796535054867462,-1.2831572070196455,-1.0849388954576769,-1.4541337557697245,-0.8151474557417413,0.5090698482588428,1.8711534542517907,1.1474766855720293,0.9465454822840481,-1.4723732784413524,0.5004465967837571,1.6164162780009321,0.9105098602790679,-1.3986355348089752,0.9863426572325481,-0.47414079826250494,2.055649126806474,0.16692468802876662,-1.565867182237686,-0.5259448220326288,0.5242034691202614,-1.644225168896493,1.6794657552004701,-0.7310960553382653,-0.14860532663363515,0.5020758164292219,1.1243342045735727,-0.635561746520479,1.9221608501948237,-0.6729587956901022,1.492405497011869,1.6583772485844304,-1.4707446790308345,-1.7956366468652278,-0.5704417747564906,1.9083056698508951,1.7422707902953254,0.9339280237041488,0.9474356092463604,-0.1250733668392714,-0.7827295832255271,-0.07171206402331848,1.015113226344614,1.182262764278779,-0.1562518839834403,0.3481853120876227,1.5490471577880656,1.5444132087363012,1.062866146709284,1.0993203089213401,-1.2622032428659178,-0.36504272254238596,-1.1479872101292101,-0.6907258039167363,0.5301956266979312,-1.1923104377288163,-0.04214496223897204,-0.4176070339587038,0.3481853120876227,0.8875537026906996,0.4161576002378755,1.1607211218245197,1.4888985282770217,0.49760798160773323,0.45041278909365823,-1.2587796350052773,1.6047698590339365,0.1845541551398333,1.9985652596374408,-1.30255289033666,-1.5993556733913634,-1.5712870555867935,-0.138282154680047,0.7814191774041672,-0.7003333731738106,-0.8938717924891498,-1.758378597600791,-0.8566720720025988,0.0004070512778479715,-0.27765044261241506,-0.8147861040456749,1.1112679312452645,-1.1971950440742318,0.4722654062356518,-0.3102959219326899,0.2537147491582714,1.5329787213583974,0.283912198836002,-1.3368330105311148,-1.1836292312162409,-1.3156488677746812,1.0850054416047958,-1.6844413192630965,0.1793723707039484,-1.6765991546173211,-0.31305533865492824,-0.990726326942768,-0.8625927093498305,-1.3201907908216253,-1.565867182237686,1.9067309226135352,-0.7114886286135178,0.8981803817621884,-0.43586678698452175,-0.5055664724658414,-1.0318045527583706,2.0615512514498233,0.19632953424069471,-1.035030496632895,0.7365040136866172,0.13504465990183825,0.38126621828552254,1.2590557614892823,0.632795586324852,0.5421454421951116,-1.3238354162908605,0.6851224794577057,-0.8151474557417413,-0.8161158727623647,1.460241695009458,0.1708457609097042,0.9285817456592845,-0.01746200510427992,-0.21612004411304178,-0.8919018625680705,-0.4749674113704673,-1.0993646079326131,1.5938805880337321,-1.1309305234321427,0.8282080201483754,1.8759090128335278,1.3033266330392552,-1.8519846678276493,0.3029177824340207,0.8258520454004404,0.6057328973178165,-1.1869354984280998,0.07197397128642763,1.1948540112856054,0.4161576002378755,-1.6436139791926976,0.12766114894557054,-0.36654212875608655,-0.5377806972769017,1.1185628383090238,0.8870049720872082,0.8342024751151357,1.9087137959089437,1.1174698031581998,1.417988195019465,1.8737247102304913,-1.3386985785292136,0.1284167668011867,-1.0817591358844056,-0.025452094747776058,0.06553363693887856,1.56043290334798,0.39677831623085763,-0.874669408015667,0.14268435307699157,-0.9253474159964917,0.9302812414447608,-1.3263523459007864,1.7410424646638585,-0.2912428957190356,2.047381526275913,-0.014886089435706015,-0.17795387198815488,-1.6645377068682579,1.7290429771329825,0.49760798160773323,-1.4145796836546647,-1.2587796350052773,-1.0430152834376354,1.1164902361586222,0.917683401645527,-1.6469723387039406,-1.4169317574927114,-1.6639057852285042,-1.6997574581056214,1.56043290334798,0.31542218765919755,-1.7877349291786013,0.5827443672895939,-1.276370965240946,-0.18136903738002513,1.015113226344614,1.4423342261146714,1.170618455799497,-1.488132566395161,-1.6104313840517688],\"z\":[-1.3700657957540756,-1.3912850295662054,-1.3676978133485438,-0.8555465037967261,-1.5007687627854485,-1.1980505783103959,-0.99766747325126,-1.479856879458239,-0.8016362377050964,-1.1986665140648893,-1.0050822429866406,-1.149161437780332,-0.8280224416608838,-1.1491561938080324,-1.006841642685052,-1.0228805212482057,-0.88167308055323,-1.6062719717063707,-1.1375491473766184,-1.323843532310092,-1.3836177179148328,-0.8280224416608838,-1.369392934104424,-0.6755871098736053,-0.8445391680878022,-1.7247315235858158,-1.3955611167570714,-1.212515463733528,-0.757476657057547,-1.443653346332701,-1.2063254214332557,-1.2672527478603846,-1.2948298990924718,-1.4419152558997301,-1.172232818331294,-1.553918876913775,-1.4611230902264938,-1.3535581791518412,-1.0784152806064928,-1.7483104112831296,-1.3895382233807871,-1.272294817218602,-1.302510549000974,-1.6479139365247852,-1.7705140201055358,-0.5327076752414365,-1.680166900948432,-1.6992070075063794,-1.4008829466427444,-1.23981177772765,-1.7153598800047785,-0.620513426273636,-1.151575615239509,-1.5259422373540565,-1.043108259755366,-1.6838026194973346,-0.9516859837429398,-1.1332093776397174,-1.2992811693781603,-0.8103190051818987,-1.7752713383156415,-1.7392988618684078,-1.0896278323427548,-1.3133772037199207,-1.2821307899892564,-0.9636845182878142,-1.2654180987471175,-1.2746078352899641,-0.8808288938981205,-1.0416990542149296,-0.9280852328434772,-1.2966931173712695,-0.9692503772395558,-1.3548575086161432,-1.3445425041957584,-0.9664835016726576,-0.9843104533775102,-1.2432705815937928,-1.5303273700964033,-1.3023501832660187,-1.5787532145022747,-1.520436179069629,-0.7023640604681637,-1.147710922728133,-1.5082311225380445,-0.8470229764769165,-1.5873026225600388,-1.2103617012552168,-0.584101300353738,-0.7171108443146346,-0.7034128765171543,-1.7756774867495124,-1.0367900753823216,-0.8908651539403185,-1.1411235711766938,-1.748176977448668,-1.060064481727225,-1.340119833076729,-1.021342002849365,-1.3380904607663553,-1.1620264133102132,-0.5797852868431923,-1.104968640573871,-0.8367699212813499,-0.9440203509360543,-1.301345637537998,-1.300540769328919,-1.7237784248161103,-1.3533250829859038,-0.7831661631797895,-1.949599011941052,-1.8951920203284318,-1.252867252014287,-1.0306800622127514,-0.7198444855640149,-1.4482107265537048,-0.9011248131040176,-1.1692446145582525,-1.3133772037199207,-0.8511265480913931,-1.2315118035773347,-1.0896278323427548,-1.5444225371401725,-1.282748312157841,-1.1267879232025866,-1.7115325120446558,-0.8855125671311032,-0.7257883269951095,-1.0890655569781702,-0.6215272883106239,-1.151957934246892,-0.9735939439100708,-0.8470229764769165,-1.2028510522037958,-1.2845056174696083,-0.7831661631797895,-0.8081669350527394,-0.6297870817457082,-1.4926719006325022,-1.4837004482862706,-1.2695000200981452,-1.1650616629967656,-1.1114695468153353,-1.3045712447656757,-0.7236460106128668,-0.6717758632049584,-1.2169575812805733,-1.4539061709606167,-0.6977082153717973,-0.9063986138576628,-1.3916843864289536,-1.387498633406411,-0.8261524874183345,-0.5518213453922383,-1.2522974793691284,-1.2036509682779577,-1.3535581791518412,-1.0613316743282877,-1.0935764852937262,-1.5255221255738811,-1.7526005072862765,-0.860901687268402,-1.0410930874962143,-0.8706949627249703,-1.2870429519101687,-1.3722514186312258,-1.0890655569781702,-1.1705164823704248,-1.1539488238190145,-1.4166456527467375,-1.4784082708832194,-1.5322205787531187,-1.634879747943052,-1.7526005072862765,-0.7683402092410914,-1.6118050037533462,-1.0493810380327298,-1.277499897376182,-1.1051112520209208,-1.497483321656208,-1.0957433805160195,-0.9569059351268251,-1.1333150685489115,-1.7237784248161103,-1.5087031052596713,-1.0409261445848512,-1.7672106780333439,-1.0924248143089292,-1.1549431603057747,-0.6865732814280257,-0.8831995577056837,-0.9638961280764639,-1.6838026194973346,-0.606329071973611,-0.9011248131040176,-0.9933372748960794,-1.7067809583433156,-0.6717758632049584,-1.249152007047838,-1.8058767788021621,-1.138098347171644,-1.2682367135200336,-0.9187186274678336,-0.7937732530610349,-1.4606100212271789,-1.6417064707907105,-1.5702756006906733,-1.1657990928045787,-1.4837004482862706,-1.5308605343428683,-1.6670875545514294,-1.4218330943408455,-1.184845411871294,-1.3611285607116774,-1.0965918200109648,-1.0487864924693364,-1.006841642685052,-0.6351604429137525,-0.6341683210447808,-1.3238564171860217,-1.4482107265537048,-0.6072774021082498,-1.2066805850597981,-1.121946693637648,-1.0832321768322906,-1.1031522290552969,-1.0144457533421811,-1.249152007047838,-0.9292371481937846,-1.4309910412517302,-1.2895509258790143,-1.266031820362073,-1.4156493243535875,-1.5322205787531187,-1.6263818593476587,-1.8461283922154927,-1.5593854475427105,-1.5052531594260579,-1.280541134193423,-0.7049094912873042,-1.3916843864289536,-0.8195689977406972,-0.9809975626120767,-1.5891172215600173,-1.0080825679542476,-1.2948298990924718,-1.394805617613852,-0.9187186274678336,-1.7524039688926534,-1.7392988618684078,-1.0732490552140292,-1.0713123712803345,-0.6124599975398967,-1.4341588179988465,-1.5063467482925104,-0.6039814792381415,-0.7198444855640149,-1.2815879796453877,-0.8624871171510936,-0.8808091274583862,-0.5518213453922383,-0.7273900365480502,-1.0526458469126203,-1.3955611167570714,-0.7106355795161636,-1.1643120217755323,-1.6140265420482032,-1.601639910136481,-1.2937060705915981,-1.4026952478878483,-0.9632460252539685,-0.8594387991142575,-0.7959600851806039,-1.1492090465587517,-1.6708665371254465,-1.2695000200981452,-1.3832683242454007,-1.3533250829859038,-1.3496308849699215,-1.1585554762011356,-1.0867816373900825,-1.1832106273777276,-0.8581362707113165,-1.1609590997056458,-1.2682367135200336,-1.7163831388731763,-0.894873921707748,-0.7471921680382767,-0.5336196275688994,-1.4926719006325022,-1.0346855724123258,-0.623946463888737,-0.9368862526604494,-1.5042001681889137,-1.0416584946288445,-1.6781768483758515,-1.5546744794616094,-1.2522974793691284,-1.2727448176864988,-1.3007602332009212,-1.5944968561907344,-1.2036793457850878,-0.8908651539403185,-0.5628067087310185,-1.7201844519068061,-1.469733378673851,-1.6208814992409186,-0.9632460252539685,-1.0472550182226286,-1.7626666284045645,-1.3823443653002547,-0.7471921680382767,-0.606329071973611,-0.6761704250999706,-1.1404051122958387,-0.8514559987300127,-1.0416584946288445,-1.2140107355515515,-1.1773585249181755,-0.8511265480913931,-1.707942047426461,-1.5087031052596713,-1.6654892689011334,-0.6761704250999706,-1.1531046416260826,-1.5052531594260579,-1.2672527478603846,-1.1832106273777276,-0.6509889590130853,-1.6768032980715764,-1.4920290304924748,-1.468173182326325,-1.3168850537738817,-1.149213403542495,-1.1051112520209208,-1.4002456504077685,-1.4730555783266128,-1.1819522038745132,-1.052914727631315,-0.7170326609616942,-1.2891301690666865,-1.3003985126239737,-1.483514577339741,-0.8284668010677871,-1.043108259755366,-1.1795907460333526,-0.8974282831750914,-0.988613367490047,-1.2701425372321797,-1.1901258177040357,-1.5063467482925104,-1.6768032980715764,-0.7515887802172714,-0.929615122521207,-1.6470983957197303,-1.207767864489503,-1.353054319277797,-1.1977621799745697,-0.66231343157254,-0.9826327930601898,-0.99766747325126,-0.8302462596602903,-1.1701932700943964,-1.3233506045507901,-0.5058120708307797,-1.006841642685052,-1.579775850194327,-1.3233506045507901,-1.439067327422176,-1.4539061709606167,-1.271038054933585,-0.6693026937511246,-1.2948687880472518,-1.4926719006325022,-1.2701425372321797,-0.7889873023871606,-1.4610952355707363,-1.3361105594043126,-1.3611285607116774,-1.7445484744843103,-1.1549431603057747,-1.5203523847592548,-1.7473803193415547,-1.401078919636553,-1.4041844613560102,-0.9781144647842182,-1.4730555783266128,-0.837745260022035,-1.3380904607663553,-1.699237187193349,-1.1223567535661005,-0.932183647880842,-1.4387904892584231,-1.5666189593051496,-1.2661349137790898,-1.0342879840898127,-1.5676175540980992,-1.1031522290552969,-1.313155500901399,-0.9843104533775102,-0.7034128765171543,-1.4606100212271789,-0.6403770475779766,-1.3864373086793644,-1.1079843772179008,-1.2346966620947937,-1.2061495247167378,-0.8160158835222169,-1.2845056174696083,-1.718238990336365,-0.7921528228718648,-1.3130749650070976,-1.037588500053388,-1.1286718876904658,-0.7060228430324821,-1.2727448176864988,-1.22777706638183,-0.5797852868431923,-1.2265526471894546,-0.6195784557804267,-1.5393145422200902,-1.0004092974423187,-1.0361615696089475,-1.4306744951766603,-1.1063602931515033,-1.2472506892769772,-1.5408333889228485,-0.763515919094348,-1.7669149384954204,-0.7990585666693605,-1.5926503253643376,-0.7959600851806039,-0.8295441036066546,-1.0342879840898127,-1.200775424371679,-1.339196222407509,-0.837745260022035,-1.7297193935537343,-0.8280224416608838,-0.9881251406448398,-1.27954530859461,-0.9843104533775102,-1.3526611290176989,-0.8376383940018293,-1.4751083343401248,-1.6132421098144791,-1.5702756006906733,-1.149433370594437,-0.8673947282166584,-0.632228712222462,-1.7582652356505266,-1.3026891237837925,-1.1525078019819386,-0.8528384398916334,-1.5358977359745511,-1.5457741121730386,-1.3586543525928056,-0.7257883269951095,-1.6352664708870253,-1.5593854475427105,-1.172222476884594,-0.7130170531541778,-0.7684229889815657,-0.932183647880842,-1.1645777331223603,-0.5442938316480896,-1.656207095895197,-1.729556348225861,-1.4156493243535875,-1.718238990336365,-0.7558873141495078,-1.1618274664344144,-1.3722514186312258,-1.5959020814369023,-1.0026456234152192,-1.8461283922154927,-1.7506652072799296,-0.633723933165711,-1.2937060705915981,-1.7642237256240856,-1.5512817678523863,-0.9632460252539685,-0.9826327930601898,-1.2897599758687415,-1.0418792942950799,-1.4985330136855906,-1.4211760879084285,-1.339196222407509,-1.2996570860212582,-0.9755983380496733,-1.3836177179148328,-1.6756587510084504,-0.9797927283999398,-1.109281324173185,-1.3533250829859038,-1.8049422676431313,-1.5346513274734175,-1.6356182189594957,-1.2061211919697803,-1.2041981587943285,-1.3428570015290135,-0.6699881767814717,-1.4008829466427444,-1.1525078019819386,-1.1889174840009453,-1.1404051122958387,-1.1130180191079024,-0.5331767891440107,-1.6269247268012514,-0.567707671690473,-1.7454991344396311,-1.45786945596071,-0.8081669350527394,-1.6492074286729328,-1.1230285733393535,-1.0992780727480251,-1.6696135338857592,-1.1034808460573728,-0.9497770442620279,-0.8842511668119826,-1.0689640873285953,-1.5091090201797104,-1.4014146150986344,-1.0520062439285671,-1.659544943715963,-1.70971568733109,-1.411477320341799,-0.958201416985804,-1.6485635187829624,-1.4108541683079943,-1.5200986163208985,-1.6621909090853328,-1.13546581229452,-1.008418709092914,-1.061242457045044,-1.3520899806872846,-1.729556348225861,-1.5666189593051496,-1.4720183870784906,-1.2921343168274833,-1.240232484995908,-1.7163831388731763,-1.8058767788021621,-1.7820725806918867,-1.462864341693316,-0.9757307919061038,-0.9547416847439948,-0.9435084095412204,-1.4418828442487555,-1.804599890947608,-0.6215272883106239,-1.1629691097438057,-1.5087031052596713,-1.2036509682779577,-0.9493859564645302,-1.1901258177040357,-1.3591463950232,-1.5259422373540565,-1.0898561166253258,-1.4712472210855867,-0.7660626242015096,-1.1463686341908235,-1.0266761926422834,-1.3045712447656757,-1.3445425041957584,-1.3899770732703667,-1.2618731018430787,-0.7336589509139657,-1.5538798498122381,-1.0409261445848512,-1.7041779479117345,-1.7672106780333439,-1.4003683255221562,-1.3960311861026218,-1.172232818331294,-1.2937060705915981,-1.8418235651513233,-1.5712940707527892,-0.8302462596602903,-1.1525078019819386,-1.3130749650070976,-1.3106531161992059,-1.1114695468153353,-1.5568476962051485,-0.88167308055323,-1.238463992851717,-1.6992070075063794,-1.2253072820164506,-1.0741550539631122,-1.3722514186312258,-0.9436698833437887,-1.0551915007802697,-1.1539317010684778,-1.468173182326325,-1.1640522875892354,-1.4693562899099901,-1.1851680200908246,-1.502715586440997,-0.9839769261025532,-1.5195595317199098,-1.3955611167570714,-0.7486580610645804,-1.0058786628738097,-1.184845411871294,-1.0867816373900825,-1.0600987051274966,-1.1538580992781349,-1.3763201364857487,-1.6696135338857592,-1.0898561166253258,-0.672878963700078,-1.1477858820573699,-1.2551959004194273,-1.7661563530426116,-1.7093517077352318,-1.0551915007802697,-1.0993190812971436,-1.2648666787995098,-1.1977621799745697,-0.8292046241130481,-1.3342899868920042,-1.1379247851003134,-1.661849106787862,-1.414836797860967,-1.5702756006906733,-1.632197222647808,-0.6673668270007947,-1.6001154199588556,-1.4655683208555996,-1.2395859630447734,-1.3821784656323173,-0.9117262353934849,-1.2782630519381206,-1.3960311861026218,-1.6523709790238288,-1.1643120217755323,-0.9514745742095778,-0.9461275184212501,-0.9187186274678336,-1.1136040211355414,-1.1701932700943964,-1.5702756006906733,-1.4211760879084285,-1.5390501709348563,-1.1103600212273743,-1.4316125546451555,-1.6895602999919002,-1.298774842399694,-1.6781768483758515,-1.212515463733528,-1.4237016609135427,-1.677049433301169,-0.88167308055323,-1.6983893030822212,-1.6375067284165967,-1.6110531253582931,-1.149433370594437,-1.5959020814369023,-1.203926275208074,-1.4211314589813575,-1.2028510522037958,-1.729556348225861,-1.6638262807241129,-1.206779725842693,-0.9636845182878142,-1.6525002332125034,-1.4438249568532686,-1.505947098762902,-1.0890655569781702,-0.8286175020987886,-1.4985171274892344,-0.5603707211858004,-1.4808590116097182,-1.659544943715963,-1.2996570860212582,-1.104968640573871,-1.200252794519463,-1.5255221255738811,-0.8742435040869595,-1.7642237256240856,-1.2821307899892564,-1.0228805212482057,-0.7684229889815657,-0.7062691580094083,-1.6547260745068202,-1.6696135338857592,-1.1704173669405897,-0.9664835016726576,-1.266031820362073,-1.172232818331294,-1.1701932700943964,-1.3213139867543633,-1.109281324173185,-1.3445425041957584,-0.8293347089493351,-0.6403770475779766,-1.2045420921007803,-0.6840656486161794,-0.728473698881849,-0.911408446108412,-1.497483321656208,-1.3495896084712826,-0.5323007386121296,-1.016300435909278,-0.5058120708307797,-1.58830273992629,-1.27954530859461,-1.3133772037199207,-1.5226016044102935,-1.1477858820573699,-1.6208814992409186,-0.9502940100938847,-1.3026891237837925,-1.3186290526499038,-0.584101300353738,-1.0784152806064928,-0.6711422808247165,-1.2393844758164154,-1.0554403407365651,-0.866983441048727,-1.4730555783266128,-1.5566073822603401,-0.5331767891440107,-1.3036619344006593,-1.1831957648573173,-0.6717758632049584,-0.8039787120168135,-1.3158139071513562,-1.0367900753823216,-1.0004092974423187,-0.9785720273537536,-1.411477320341799,-0.620513426273636,-1.2587148152465475,-1.1646729415776675,-0.8238887522159062,-1.0674515833647928,-0.5628067087310185,-1.7582652356505266,-0.5628067087310185,-1.6472428918352724,-0.929615122521207,-1.4720183870784906,-1.2992811693781603,-0.7362491042971051,-1.2868486580469567,-1.7661563530426116,-1.0029812163906995,-0.884298328768727,-1.4655683208555996,-0.6739820787919861,-1.249152007047838,-1.680166900948432,-1.1525078019819386,-1.1546470922160672,-1.0200977593064406,-1.5768906220033205,-1.505307912995435,-1.2395859630447734,-1.7524039688926534,-1.0674515833647928,-1.100259659693057,-1.4205055503322916,-0.6511834510511963,-1.019549379849039,-0.7409219760095148,-1.1063602931515033,-1.0551915007802697,-1.6470983957197303,-1.097678255801583,-1.2868486580469567,-1.125743242337884,-1.824156834753618,-1.819407325044264,-0.8831995577056837,-0.932183647880842,-1.0360644935378924,-1.6838026194973346,-1.6525002332125034,-1.5274660637298116,-1.618721156099853,-1.5379715349585064,-1.7218821378710303,-1.6675644603203217,-0.7409219760095148,-1.3559232009526756,-1.0773996981136518,-0.633723933165711,-1.6319682232716661,-1.0946376989529953,-1.553918876913775,-0.6900049249100803,-1.008418709092914,-0.98032495385259,-1.771640731699452,-1.1079843772179008,-1.5209212990092549,-0.892374463918456,-1.6313396727614806,-1.735389577564238,-0.958201416985804,-1.182266942071439,-1.4610952355707363,-1.212515463733528,-1.5549602955234114,-1.8015656991162838,-0.6701947770575094,-1.7540855303647311,-1.5408333889228485,-0.9532253811884545,-1.4488573012335957,-1.5488248742246078,-0.5178081729533108,-1.010374785800486,-1.0849949323322388,-1.4149608753029113,-1.0100175396273812,-0.7889873023871606,-1.4730555783266128,-0.723748492853529,-1.114670060422402,-1.149161437780332,-0.5619471958160063,-1.387498633406411,-1.4257617952536723,-0.985775817674524,-1.6165743124571865,-1.5462450487513488,-1.2037019089633418,-0.5058120708307797,-1.0973890294735118,-1.4114557534581893,-1.1980505783103959,-1.5546744794616094,-0.7023640604681637,-1.519038545568943,-0.9690179030273817,-0.5562571707872029,-1.2036793457850878,-1.6657941451642357,-1.2836257674033282,-1.7356978565420615,-0.8928263979001636,-1.2948298990924718,-1.1933018362761647,-1.505947098762902,-1.268910195216626,-0.958201416985804,-1.5144794408808875,-1.4325073956026737,-1.0457526871325669,-0.8295441036066546,-1.172222476884594,-1.2331783816873685,-0.9967134855500105,-1.3130749650070976,-0.7237929771764995,-0.8673947282166584,-1.207767864489503,-1.7702317908251648,-1.2101087694222663,-1.4149360140802278,-1.2437874048202966,-1.5596142453644175,-1.2948687880472518,-1.0659774777090323,-0.8745834724870813,-1.0786903317243621,-1.8605516482044784,-1.6525002332125034,-1.2630475260259513,-1.5855008250315619,-0.9632460252539685,-0.5485582421552395,-1.2141995433224744,-1.2704773524776647,-1.1463686341908235,-0.7788989445197966,-0.7106355795161636,-1.444360379713935,-1.3626783204072344,-1.3423939860517031,-1.8446840725922133,-1.5839326553501092,-1.0809621737980022,-1.713196411620617,-0.6822215644818308,-1.5666189593051496,-1.3477309131444812,-0.5998917073227001,-0.9440203509360543,-0.7106355795161636,-1.6132421098144791,-1.2177274256231012,-1.097678255801583,-1.5036217090193247,-1.1491561938080324,-0.6923526820529913,-1.353054319277797,-1.7524039688926534,-1.043108259755366,-1.6756587510084504,-1.70971568733109,-1.3996698081219732,-0.815041321668395,-1.4268535731356897,-1.0825812366741505,-1.2945160774368467,-0.7767153501540092,-0.879644274467813,-1.0773996981136518,-0.6011631481443795,-1.4389551073338633,-1.6523709790238288,-1.5891172215600173,-0.6802520850565754,-0.6808657761820445,-0.9722564463086772,-0.8853723256862633,-1.6654892689011334,-1.0946376989529953,-0.9590298589202942,-1.6118050037533462,-0.6955794161784398,-1.439067327422176,-1.4438249568532686,-1.266067822644988,-1.3823443653002547,-1.1486622613123119,-1.6375067284165967,-1.006841642685052,-1.4720575547667323,-0.8295441036066546,-1.775784171595286,-1.3836177179148328,-0.9244399437803689,-1.2758373608348619,-1.0706086039614797,-1.5521948368213365,-1.4236384928070949,-0.991787382597387,-1.5091090201797104,-1.0348644644115061,-1.0424660252065134,-1.1407762105638555,-1.673523833273155,-0.88167308055323,-1.0144457533421811,-0.7062691580094083,-1.2149152449209135,-0.5562571707872029,-1.224368158703688,-1.7322735367785607,-0.917338901729807,-1.1028453515033527,-1.1050985514338036,-1.5422699398533437,-0.9664835016726576,-0.9919850796869091,-0.8194358489592332,-1.245943703906929,-1.1526381470856273,-1.2407711048204213,-1.4359812075607932,-1.1793921408185932,-1.426806068297689,-1.0682386809271998,-1.3238564171860217,-1.6835896488325026,-0.682644435846029,-1.6761757742314711,-1.0993475825450816,-1.2177274256231012,-1.4316125546451555,-1.0033038652280943,-0.941146716722538,-1.6410313830000827,-1.110741428569677,-1.8058767788021621,-0.9638961280764639,-1.4392555593031882,-1.151957934246892,-1.5408333889228485,-1.5525524411043057,-0.8846587744835358,-1.0181140186648083,-1.3158139071513562,-0.9881251406448398,-0.7346327942561077,-1.781534837685295,-1.6992070075063794,-1.5062765530576796,-1.252867252014287,-1.6417064707907105,-1.6987008004263404,-1.7067809583433156,-1.748176977448668,-0.5699949979942974,-1.5317372960908644,-0.6341441106016895,-1.2192918444101866,-0.9427149823764099,-1.4505378134140499,-1.1491561938080324,-1.6470983957197303,-1.353054319277797,-1.680166900948432,-1.8461444500343414,-1.3559232009526756,-1.0896278323427548,-1.5259422373540565,-0.8068287111625312,-1.5723037150705965,-1.781534837685295,-0.5997159925458263,-1.40283881333841,-1.0404691321579747,-0.8932803743105574,-1.182810671011699,-1.2704773524776647,-1.1733142615335073,-1.3582587179244656,-1.504334701255206,-0.8319148272253986],\"type\":\"scatter3d\",\"marker\":{\"line\":{\"color\":\"DarkSlateGrey\",\"width\":2},\"size\":2}}],                        {\"updatemenus\":[{\"buttons\":[{\"args\":[null,{\"frame\":{\"duration\":50,\"redraw\":true},\"transition\":{\"duration\":0},\"fromcurrent\":true,\"mode\":\"immediate\"}],\"label\":\"Play\",\"method\":\"animate\"}],\"pad\":{\"r\":10,\"t\":45},\"showactive\":false,\"type\":\"buttons\",\"x\":0.8,\"xanchor\":\"left\",\"y\":1,\"yanchor\":\"bottom\"}],\"template\":{\"data\":{\"histogram2dcontour\":[{\"type\":\"histogram2dcontour\",\"colorbar\":{\"outlinewidth\":0,\"ticks\":\"\"},\"colorscale\":[[0.0,\"#0d0887\"],[0.1111111111111111,\"#46039f\"],[0.2222222222222222,\"#7201a8\"],[0.3333333333333333,\"#9c179e\"],[0.4444444444444444,\"#bd3786\"],[0.5555555555555556,\"#d8576b\"],[0.6666666666666666,\"#ed7953\"],[0.7777777777777778,\"#fb9f3a\"],[0.8888888888888888,\"#fdca26\"],[1.0,\"#f0f921\"]]}],\"choropleth\":[{\"type\":\"choropleth\",\"colorbar\":{\"outlinewidth\":0,\"ticks\":\"\"}}],\"histogram2d\":[{\"type\":\"histogram2d\",\"colorbar\":{\"outlinewidth\":0,\"ticks\":\"\"},\"colorscale\":[[0.0,\"#0d0887\"],[0.1111111111111111,\"#46039f\"],[0.2222222222222222,\"#7201a8\"],[0.3333333333333333,\"#9c179e\"],[0.4444444444444444,\"#bd3786\"],[0.5555555555555556,\"#d8576b\"],[0.6666666666666666,\"#ed7953\"],[0.7777777777777778,\"#fb9f3a\"],[0.8888888888888888,\"#fdca26\"],[1.0,\"#f0f921\"]]}],\"heatmap\":[{\"type\":\"heatmap\",\"colorbar\":{\"outlinewidth\":0,\"ticks\":\"\"},\"colorscale\":[[0.0,\"#0d0887\"],[0.1111111111111111,\"#46039f\"],[0.2222222222222222,\"#7201a8\"],[0.3333333333333333,\"#9c179e\"],[0.4444444444444444,\"#bd3786\"],[0.5555555555555556,\"#d8576b\"],[0.6666666666666666,\"#ed7953\"],[0.7777777777777778,\"#fb9f3a\"],[0.8888888888888888,\"#fdca26\"],[1.0,\"#f0f921\"]]}],\"heatmapgl\":[{\"type\":\"heatmapgl\",\"colorbar\":{\"outlinewidth\":0,\"ticks\":\"\"},\"colorscale\":[[0.0,\"#0d0887\"],[0.1111111111111111,\"#46039f\"],[0.2222222222222222,\"#7201a8\"],[0.3333333333333333,\"#9c179e\"],[0.4444444444444444,\"#bd3786\"],[0.5555555555555556,\"#d8576b\"],[0.6666666666666666,\"#ed7953\"],[0.7777777777777778,\"#fb9f3a\"],[0.8888888888888888,\"#fdca26\"],[1.0,\"#f0f921\"]]}],\"contourcarpet\":[{\"type\":\"contourcarpet\",\"colorbar\":{\"outlinewidth\":0,\"ticks\":\"\"}}],\"contour\":[{\"type\":\"contour\",\"colorbar\":{\"outlinewidth\":0,\"ticks\":\"\"},\"colorscale\":[[0.0,\"#0d0887\"],[0.1111111111111111,\"#46039f\"],[0.2222222222222222,\"#7201a8\"],[0.3333333333333333,\"#9c179e\"],[0.4444444444444444,\"#bd3786\"],[0.5555555555555556,\"#d8576b\"],[0.6666666666666666,\"#ed7953\"],[0.7777777777777778,\"#fb9f3a\"],[0.8888888888888888,\"#fdca26\"],[1.0,\"#f0f921\"]]}],\"surface\":[{\"type\":\"surface\",\"colorbar\":{\"outlinewidth\":0,\"ticks\":\"\"},\"colorscale\":[[0.0,\"#0d0887\"],[0.1111111111111111,\"#46039f\"],[0.2222222222222222,\"#7201a8\"],[0.3333333333333333,\"#9c179e\"],[0.4444444444444444,\"#bd3786\"],[0.5555555555555556,\"#d8576b\"],[0.6666666666666666,\"#ed7953\"],[0.7777777777777778,\"#fb9f3a\"],[0.8888888888888888,\"#fdca26\"],[1.0,\"#f0f921\"]]}],\"mesh3d\":[{\"type\":\"mesh3d\",\"colorbar\":{\"outlinewidth\":0,\"ticks\":\"\"}}],\"scatter\":[{\"fillpattern\":{\"fillmode\":\"overlay\",\"size\":10,\"solidity\":0.2},\"type\":\"scatter\"}],\"parcoords\":[{\"type\":\"parcoords\",\"line\":{\"colorbar\":{\"outlinewidth\":0,\"ticks\":\"\"}}}],\"scatterpolargl\":[{\"type\":\"scatterpolargl\",\"marker\":{\"colorbar\":{\"outlinewidth\":0,\"ticks\":\"\"}}}],\"bar\":[{\"error_x\":{\"color\":\"#2a3f5f\"},\"error_y\":{\"color\":\"#2a3f5f\"},\"marker\":{\"line\":{\"color\":\"#E5ECF6\",\"width\":0.5},\"pattern\":{\"fillmode\":\"overlay\",\"size\":10,\"solidity\":0.2}},\"type\":\"bar\"}],\"scattergeo\":[{\"type\":\"scattergeo\",\"marker\":{\"colorbar\":{\"outlinewidth\":0,\"ticks\":\"\"}}}],\"scatterpolar\":[{\"type\":\"scatterpolar\",\"marker\":{\"colorbar\":{\"outlinewidth\":0,\"ticks\":\"\"}}}],\"histogram\":[{\"marker\":{\"pattern\":{\"fillmode\":\"overlay\",\"size\":10,\"solidity\":0.2}},\"type\":\"histogram\"}],\"scattergl\":[{\"type\":\"scattergl\",\"marker\":{\"colorbar\":{\"outlinewidth\":0,\"ticks\":\"\"}}}],\"scatter3d\":[{\"type\":\"scatter3d\",\"line\":{\"colorbar\":{\"outlinewidth\":0,\"ticks\":\"\"}},\"marker\":{\"colorbar\":{\"outlinewidth\":0,\"ticks\":\"\"}}}],\"scattermapbox\":[{\"type\":\"scattermapbox\",\"marker\":{\"colorbar\":{\"outlinewidth\":0,\"ticks\":\"\"}}}],\"scatterternary\":[{\"type\":\"scatterternary\",\"marker\":{\"colorbar\":{\"outlinewidth\":0,\"ticks\":\"\"}}}],\"scattercarpet\":[{\"type\":\"scattercarpet\",\"marker\":{\"colorbar\":{\"outlinewidth\":0,\"ticks\":\"\"}}}],\"carpet\":[{\"aaxis\":{\"endlinecolor\":\"#2a3f5f\",\"gridcolor\":\"white\",\"linecolor\":\"white\",\"minorgridcolor\":\"white\",\"startlinecolor\":\"#2a3f5f\"},\"baxis\":{\"endlinecolor\":\"#2a3f5f\",\"gridcolor\":\"white\",\"linecolor\":\"white\",\"minorgridcolor\":\"white\",\"startlinecolor\":\"#2a3f5f\"},\"type\":\"carpet\"}],\"table\":[{\"cells\":{\"fill\":{\"color\":\"#EBF0F8\"},\"line\":{\"color\":\"white\"}},\"header\":{\"fill\":{\"color\":\"#C8D4E3\"},\"line\":{\"color\":\"white\"}},\"type\":\"table\"}],\"barpolar\":[{\"marker\":{\"line\":{\"color\":\"#E5ECF6\",\"width\":0.5},\"pattern\":{\"fillmode\":\"overlay\",\"size\":10,\"solidity\":0.2}},\"type\":\"barpolar\"}],\"pie\":[{\"automargin\":true,\"type\":\"pie\"}]},\"layout\":{\"autotypenumbers\":\"strict\",\"colorway\":[\"#636efa\",\"#EF553B\",\"#00cc96\",\"#ab63fa\",\"#FFA15A\",\"#19d3f3\",\"#FF6692\",\"#B6E880\",\"#FF97FF\",\"#FECB52\"],\"font\":{\"color\":\"#2a3f5f\"},\"hovermode\":\"closest\",\"hoverlabel\":{\"align\":\"left\"},\"paper_bgcolor\":\"white\",\"plot_bgcolor\":\"#E5ECF6\",\"polar\":{\"bgcolor\":\"#E5ECF6\",\"angularaxis\":{\"gridcolor\":\"white\",\"linecolor\":\"white\",\"ticks\":\"\"},\"radialaxis\":{\"gridcolor\":\"white\",\"linecolor\":\"white\",\"ticks\":\"\"}},\"ternary\":{\"bgcolor\":\"#E5ECF6\",\"aaxis\":{\"gridcolor\":\"white\",\"linecolor\":\"white\",\"ticks\":\"\"},\"baxis\":{\"gridcolor\":\"white\",\"linecolor\":\"white\",\"ticks\":\"\"},\"caxis\":{\"gridcolor\":\"white\",\"linecolor\":\"white\",\"ticks\":\"\"}},\"coloraxis\":{\"colorbar\":{\"outlinewidth\":0,\"ticks\":\"\"}},\"colorscale\":{\"sequential\":[[0.0,\"#0d0887\"],[0.1111111111111111,\"#46039f\"],[0.2222222222222222,\"#7201a8\"],[0.3333333333333333,\"#9c179e\"],[0.4444444444444444,\"#bd3786\"],[0.5555555555555556,\"#d8576b\"],[0.6666666666666666,\"#ed7953\"],[0.7777777777777778,\"#fb9f3a\"],[0.8888888888888888,\"#fdca26\"],[1.0,\"#f0f921\"]],\"sequentialminus\":[[0.0,\"#0d0887\"],[0.1111111111111111,\"#46039f\"],[0.2222222222222222,\"#7201a8\"],[0.3333333333333333,\"#9c179e\"],[0.4444444444444444,\"#bd3786\"],[0.5555555555555556,\"#d8576b\"],[0.6666666666666666,\"#ed7953\"],[0.7777777777777778,\"#fb9f3a\"],[0.8888888888888888,\"#fdca26\"],[1.0,\"#f0f921\"]],\"diverging\":[[0,\"#8e0152\"],[0.1,\"#c51b7d\"],[0.2,\"#de77ae\"],[0.3,\"#f1b6da\"],[0.4,\"#fde0ef\"],[0.5,\"#f7f7f7\"],[0.6,\"#e6f5d0\"],[0.7,\"#b8e186\"],[0.8,\"#7fbc41\"],[0.9,\"#4d9221\"],[1,\"#276419\"]]},\"xaxis\":{\"gridcolor\":\"white\",\"linecolor\":\"white\",\"ticks\":\"\",\"title\":{\"standoff\":15},\"zerolinecolor\":\"white\",\"automargin\":true,\"zerolinewidth\":2},\"yaxis\":{\"gridcolor\":\"white\",\"linecolor\":\"white\",\"ticks\":\"\",\"title\":{\"standoff\":15},\"zerolinecolor\":\"white\",\"automargin\":true,\"zerolinewidth\":2},\"scene\":{\"xaxis\":{\"backgroundcolor\":\"#E5ECF6\",\"gridcolor\":\"white\",\"linecolor\":\"white\",\"showbackground\":true,\"ticks\":\"\",\"zerolinecolor\":\"white\",\"gridwidth\":2},\"yaxis\":{\"backgroundcolor\":\"#E5ECF6\",\"gridcolor\":\"white\",\"linecolor\":\"white\",\"showbackground\":true,\"ticks\":\"\",\"zerolinecolor\":\"white\",\"gridwidth\":2},\"zaxis\":{\"backgroundcolor\":\"#E5ECF6\",\"gridcolor\":\"white\",\"linecolor\":\"white\",\"showbackground\":true,\"ticks\":\"\",\"zerolinecolor\":\"white\",\"gridwidth\":2}},\"shapedefaults\":{\"line\":{\"color\":\"#2a3f5f\"}},\"annotationdefaults\":{\"arrowcolor\":\"#2a3f5f\",\"arrowhead\":0,\"arrowwidth\":1},\"geo\":{\"bgcolor\":\"white\",\"landcolor\":\"#E5ECF6\",\"subunitcolor\":\"white\",\"showland\":true,\"showlakes\":true,\"lakecolor\":\"white\"},\"title\":{\"x\":0.05},\"mapbox\":{\"style\":\"light\"}}}},                        {\"responsive\": true}                    ).then(function(){\n",
       "                            Plotly.addFrames('7a6a77e2-d447-444b-a27f-7b6d5711b935', [{\"layout\":{\"scene\":{\"camera\":{\"eye\":{\"x\":1.25,\"y\":1.25,\"z\":0.8}}}}},{\"layout\":{\"scene\":{\"camera\":{\"eye\":{\"x\":1.3685469774060675,\"y\":1.1189634357889973,\"z\":0.8}}}}},{\"layout\":{\"scene\":{\"camera\":{\"eye\":{\"x\":1.4734198857953784,\"y\":0.9767465588077254,\"z\":0.8}}}}},{\"layout\":{\"scene\":{\"camera\":{\"eye\":{\"x\":1.5635708697336819,\"y\":0.824770353080333,\"z\":0.8}}}}},{\"layout\":{\"scene\":{\"camera\":{\"eye\":{\"x\":1.6380991703894194,\"y\":0.6645533146177932,\"z\":0.8}}}}},{\"layout\":{\"scene\":{\"camera\":{\"eye\":{\"x\":1.6962601256182197,\"y\":0.4976962791077122,\"z\":0.8}}}}},{\"layout\":{\"scene\":{\"camera\":{\"eye\":{\"x\":1.737472610380892,\"y\":0.32586642689330336,\"z\":0.8}}}}},{\"layout\":{\"scene\":{\"camera\":{\"eye\":{\"x\":1.7613248431527242,\"y\":0.15078062505849654,\"z\":0.8}}}}},{\"layout\":{\"scene\":{\"camera\":{\"eye\":{\"x\":1.7675785003083602,\"y\":-0.025811726940446755,\"z\":0.8}}}}},{\"layout\":{\"scene\":{\"camera\":{\"eye\":{\"x\":1.7561710973726847,\"y\":-0.20214617669602375,\"z\":0.8}}}}},{\"layout\":{\"scene\":{\"camera\":{\"eye\":{\"x\":1.7272166133450453,\"y\":-0.376460848674696,\"z\":0.8}}}}},{\"layout\":{\"scene\":{\"camera\":{\"eye\":{\"x\":1.6810043518587658,\"y\":-0.5470140482948226,\"z\":0.8}}}}},{\"layout\":{\"scene\":{\"camera\":{\"eye\":{\"x\":1.6179960505548747,\"y\":-0.7121016643631912,\"z\":0.8}}}}},{\"layout\":{\"scene\":{\"camera\":{\"eye\":{\"x\":1.5388212675522255,\"y\":-0.870074195990757,\"z\":0.8}}}}},{\"layout\":{\"scene\":{\"camera\":{\"eye\":{\"x\":1.4442710911108763,\"y\":-1.0193532338602744,\"z\":0.8}}}}},{\"layout\":{\"scene\":{\"camera\":{\"eye\":{\"x\":1.3352902353396967,\"y\":-1.1584472311704395,\"z\":0.8}}}}},{\"layout\":{\"scene\":{\"camera\":{\"eye\":{\"x\":1.2129676009252703,\"y\":-1.2859664066784924,\"z\":0.8}}}}},{\"layout\":{\"scene\":{\"camera\":{\"eye\":{\"x\":1.0785253951961797,\"y\":-1.4006366309349918,\"z\":0.8}}}}},{\"layout\":{\"scene\":{\"camera\":{\"eye\":{\"x\":0.9333069202313851,\"y\":-1.5013121569641028,\"z\":0.8}}}}},{\"layout\":{\"scene\":{\"camera\":{\"eye\":{\"x\":0.7787631510298885,\"y\":-1.5869870681886475,\"z\":0.8}}}}},{\"layout\":{\"scene\":{\"camera\":{\"eye\":{\"x\":0.6164382378481742,\"y\":-1.6568053292160303,\"z\":0.8}}}}},{\"layout\":{\"scene\":{\"camera\":{\"eye\":{\"x\":0.44795407756127026,\"y\":-1.710069339060914,\"z\":0.8}}}}},{\"layout\":{\"scene\":{\"camera\":{\"eye\":{\"x\":0.27499410820530534,\"y\":-1.7462469013436699,\"z\":0.8}}}}},{\"layout\":{\"scene\":{\"camera\":{\"eye\":{\"x\":0.09928648862111944,\"y\":-1.7649765418206806,\"z\":0.8}}}}},{\"layout\":{\"scene\":{\"camera\":{\"eye\":{\"x\":-0.07741316873761894,\"y\":-1.7660711201154955,\"z\":0.8}}}}},{\"layout\":{\"scene\":{\"camera\":{\"eye\":{\"x\":-0.25333933930372143,\"y\":-1.7495196995636126,\"z\":0.8}}}}},{\"layout\":{\"scene\":{\"camera\":{\"eye\":{\"x\":-0.4267342269343539,\"y\":-1.7154876564880144,\"z\":0.8}}}}},{\"layout\":{\"scene\":{\"camera\":{\"eye\":{\"x\":-0.5958653272290393,\"y\":-1.6643150278136138,\"z\":0.8}}}}},{\"layout\":{\"scene\":{\"camera\":{\"eye\":{\"x\":-0.7590427381409421,\"y\":-1.5965131135307038,\"z\":0.8}}}}},{\"layout\":{\"scene\":{\"camera\":{\"eye\":{\"x\":-0.9146360449195108,\"y\":-1.5127593679544658,\"z\":0.8}}}}},{\"layout\":{\"scene\":{\"camera\":{\"eye\":{\"x\":-1.0610906106757227,\"y\":-1.4138906308253907,\"z\":0.8}}}}},{\"layout\":{\"scene\":{\"camera\":{\"eye\":{\"x\":-1.196943109799986,\"y\":-1.3008947658832124,\"z\":0.8}}}}},{\"layout\":{\"scene\":{\"camera\":{\"eye\":{\"x\":-1.3208361490279166,\"y\":-1.1749007904589663,\"z\":0.8}}}}},{\"layout\":{\"scene\":{\"camera\":{\"eye\":{\"x\":-1.431531830065142,\"y\":-1.0371675947070202,\"z\":0.8}}}}},{\"layout\":{\"scene\":{\"camera\":{\"eye\":{\"x\":-1.5279241182578656,\"y\":-0.8890713631907865,\"z\":0.8}}}}},{\"layout\":{\"scene\":{\"camera\":{\"eye\":{\"x\":-1.6090498937255202,\"y\":-0.7320918245014705,\"z\":0.8}}}}},{\"layout\":{\"scene\":{\"camera\":{\"eye\":{\"x\":-1.6740985745362496,\"y\":-0.5677974662991182,\"z\":0.8}}}}},{\"layout\":{\"scene\":{\"camera\":{\"eye\":{\"x\":-1.7224202157736266,\"y\":-0.39782986350239324,\"z\":0.8}}}}},{\"layout\":{\"scene\":{\"camera\":{\"eye\":{\"x\":-1.7535320035714197,\"y\":-0.22388727621462157,\"z\":0.8}}}}},{\"layout\":{\"scene\":{\"camera\":{\"eye\":{\"x\":-1.7671230792301427,\"y\":-0.04770768127020719,\"z\":0.8}}}}},{\"layout\":{\"scene\":{\"camera\":{\"eye\":{\"x\":-1.7630576452144253,\"y\":0.1289485930553954,\"z\":0.8}}}}},{\"layout\":{\"scene\":{\"camera\":{\"eye\":{\"x\":-1.741376321997099,\"y\":0.30431645566392784,\"z\":0.8}}}}},{\"layout\":{\"scene\":{\"camera\":{\"eye\":{\"x\":-1.7022957421928595,\"y\":0.47664368884111097,\"z\":0.8}}}}},{\"layout\":{\"scene\":{\"camera\":{\"eye\":{\"x\":-1.646206386036788,\"y\":0.6442084558368493,\"z\":0.8}}}}},{\"layout\":{\"scene\":{\"camera\":{\"eye\":{\"x\":-1.573668679834919,\"y\":0.8053365048888708,\"z\":0.8}}}}},{\"layout\":{\"scene\":{\"camera\":{\"eye\":{\"x\":-1.4854073963698458,\"y\":0.9584178977928967,\"z\":0.8}}}}},{\"layout\":{\"scene\":{\"camera\":{\"eye\":{\"x\":-1.3823044132106481,\"y\":1.101923095873013,\"z\":0.8}}}}},{\"layout\":{\"scene\":{\"camera\":{\"eye\":{\"x\":-1.2653899012837393,\"y\":1.2344182426265127,\"z\":0.8}}}}},{\"layout\":{\"scene\":{\"camera\":{\"eye\":{\"x\":-1.1358320317454915,\"y\":1.3545794903441097,\"z\":0.8}}}}},{\"layout\":{\"scene\":{\"camera\":{\"eye\":{\"x\":-0.9949253040021958,\"y\":1.4612062275586353,\"z\":0.8}}}}},{\"layout\":{\"scene\":{\"camera\":{\"eye\":{\"x\":-0.8440776114998902,\"y\":1.553233075157956,\"z\":0.8}}}}},{\"layout\":{\"scene\":{\"camera\":{\"eye\":{\"x\":-0.6847961745184389,\"y\":1.6297405313008917,\"z\":0.8}}}}},{\"layout\":{\"scene\":{\"camera\":{\"eye\":{\"x\":-0.5186724805247199,\"y\":1.6899641587756626,\"z\":0.8}}}}},{\"layout\":{\"scene\":{\"camera\":{\"eye\":{\"x\":-0.347366382555924,\"y\":1.733302223003828,\"z\":0.8}}}}},{\"layout\":{\"scene\":{\"camera\":{\"eye\":{\"x\":-0.17258951451669058,\"y\":1.7593217043732774,\"z\":0.8}}}}},{\"layout\":{\"scene\":{\"camera\":{\"eye\":{\"x\":0.0039118109010850555,\"y\":1.767762624827065,\"z\":0.8}}}}},{\"layout\":{\"scene\":{\"camera\":{\"eye\":{\"x\":0.18037405079741164,\"y\":1.7585406454782138,\"z\":0.8}}}}},{\"layout\":{\"scene\":{\"camera\":{\"eye\":{\"x\":0.3550340528019027,\"y\":1.7317479092959966,\"z\":0.8}}}}},{\"layout\":{\"scene\":{\"camera\":{\"eye\":{\"x\":0.5261466719094534,\"y\":1.6876521204438448,\"z\":0.8}}}}},{\"layout\":{\"scene\":{\"camera\":{\"eye\":{\"x\":0.6920022073922499,\"y\":1.62669386946784,\"z\":0.8}}}}},{\"layout\":{\"scene\":{\"camera\":{\"eye\":{\"x\":0.8509434855643001,\"y\":1.5494822310616148,\"z\":0.8}}}}},{\"layout\":{\"scene\":{\"camera\":{\"eye\":{\"x\":1.001382417713112,\"y\":1.4567886783933495,\"z\":0.8}}}}},{\"layout\":{\"scene\":{\"camera\":{\"eye\":{\"x\":1.1418158677571515,\"y\":1.3495393748008924,\"z\":0.8}}}}},{\"layout\":{\"scene\":{\"camera\":{\"eye\":{\"x\":1.270840671084707,\"y\":1.2288059198738308,\"z\":0.8}}}}},{\"layout\":{\"scene\":{\"camera\":{\"eye\":{\"x\":1.3871676545108578,\"y\":1.0957946423846239,\"z\":0.8}}}}},{\"layout\":{\"scene\":{\"camera\":{\"eye\":{\"x\":1.4896345172697987,\"y\":0.9518345470502599,\"z\":0.8}}}}},{\"layout\":{\"scene\":{\"camera\":{\"eye\":{\"x\":1.577217444339885,\"y\":0.7983640355564382,\"z\":0.8}}}}},{\"layout\":{\"scene\":{\"camera\":{\"eye\":{\"x\":1.6490413360648972,\"y\":0.6369165345234014,\"z\":0.8}}}}},{\"layout\":{\"scene\":{\"camera\":{\"eye\":{\"x\":1.7043885518605422,\"y\":0.46910517401401974,\"z\":0.8}}}}},{\"layout\":{\"scene\":{\"camera\":{\"eye\":{\"x\":1.742706080641946,\"y\":0.2966066696714459,\"z\":0.8}}}}},{\"layout\":{\"scene\":{\"camera\":{\"eye\":{\"x\":1.7636110663276172,\"y\":0.12114456953064445,\"z\":0.8}}}}},{\"layout\":{\"scene\":{\"camera\":{\"eye\":{\"x\":1.766894633210853,\"y\":-0.05552796710383823,\"z\":0.8}}}}},{\"layout\":{\"scene\":{\"camera\":{\"eye\":{\"x\":1.7525239729767597,\"y\":-0.23164568664612328,\"z\":0.8}}}}},{\"layout\":{\"scene\":{\"camera\":{\"eye\":{\"x\":1.7206426725120867,\"y\":-0.4054488790593255,\"z\":0.8}}}}},{\"layout\":{\"scene\":{\"camera\":{\"eye\":{\"x\":1.6715692792325216,\"y\":-0.5752009602965458,\"z\":0.8}}}}},{\"layout\":{\"scene\":{\"camera\":{\"eye\":{\"x\":1.605794118262206,\"y\":-0.7392058236746413,\"z\":0.8}}}}},{\"layout\":{\"scene\":{\"camera\":{\"eye\":{\"x\":1.5239743932671765,\"y\":-0.8958247868115395,\"z\":0.8}}}}},{\"layout\":{\"scene\":{\"camera\":{\"eye\":{\"x\":1.426927619893581,\"y\":-1.04349296479892,\"z\":0.8}}}}},{\"layout\":{\"scene\":{\"camera\":{\"eye\":{\"x\":1.3156234574215673,\"y\":-1.180734906014945,\"z\":0.8}}}}},{\"layout\":{\"scene\":{\"camera\":{\"eye\":{\"x\":1.1911740202502938,\"y\":-1.3061793343491364,\"z\":0.8}}}}},{\"layout\":{\"scene\":{\"camera\":{\"eye\":{\"x\":1.0548227660184604,\"y\":-1.4185728505399942,\"z\":0.8}}}}},{\"layout\":{\"scene\":{\"camera\":{\"eye\":{\"x\":0.9079320713866189,\"y\":-1.5167924557260966,\"z\":0.8}}}}},{\"layout\":{\"scene\":{\"camera\":{\"eye\":{\"x\":0.7519696196199205,\"y\":-1.599856772079511,\"z\":0.8}}}}},{\"layout\":{\"scene\":{\"camera\":{\"eye\":{\"x\":0.5884937359820905,\"y\":-1.6669358484086425,\"z\":0.8}}}}},{\"layout\":{\"scene\":{\"camera\":{\"eye\":{\"x\":0.41913781746449363,\"y\":-1.7173594527562077,\"z\":0.8}}}}},{\"layout\":{\"scene\":{\"camera\":{\"eye\":{\"x\":0.24559401242333323,\"y\":-1.7506237691353923,\"z\":0.8}}}}},{\"layout\":{\"scene\":{\"camera\":{\"eye\":{\"x\":0.06959631319262605,\"y\":-1.7663964314926572,\"z\":0.8}}}}},{\"layout\":{\"scene\":{\"camera\":{\"eye\":{\"x\":-0.10709676939402235,\"y\":-1.7645198445994774,\"z\":0.8}}}}},{\"layout\":{\"scene\":{\"camera\":{\"eye\":{\"x\":-0.2827197764623679,\"y\":-1.745012758691772,\"z\":0.8}}}}},{\"layout\":{\"scene\":{\"camera\":{\"eye\":{\"x\":-0.45551794097903464,\"y\":-1.7080700821237462,\"z\":0.8}}}}},{\"layout\":{\"scene\":{\"camera\":{\"eye\":{\"x\":-0.6237647208036504,\"y\":-1.6540609339080419,\"z\":0.8}}}}},{\"layout\":{\"scene\":{\"camera\":{\"eye\":{\"x\":-0.7857790497271997,\"y\":-1.58352495560058,\"z\":0.8}}}}},{\"layout\":{\"scene\":{\"camera\":{\"eye\":{\"x\":-0.9399421341298975,\"y\":-1.4971669193805124,\"z\":0.8}}}}},{\"layout\":{\"scene\":{\"camera\":{\"eye\":{\"x\":-1.0847136274319271,\"y\":-1.3958496861995813,\"z\":0.8}}}}},{\"layout\":{\"scene\":{\"camera\":{\"eye\":{\"x\":-1.218647020727311,\"y\":-1.2805855843607052,\"z\":0.8}}}}},{\"layout\":{\"scene\":{\"camera\":{\"eye\":{\"x\":-1.3404040958227346,\"y\":-1.1525262946682115,\"z\":0.8}}}}},{\"layout\":{\"scene\":{\"camera\":{\"eye\":{\"x\":-1.448768296271385,\"y\":-1.0129513432139317,\"z\":0.8}}}}},{\"layout\":{\"scene\":{\"camera\":{\"eye\":{\"x\":-1.5426568828028173,\"y\":-0.8632553167754569,\"z\":0.8}}}}},{\"layout\":{\"scene\":{\"camera\":{\"eye\":{\"x\":-1.6211317516958519,\"y\":-0.7049339285660311,\"z\":0.8}}}}},{\"layout\":{\"scene\":{\"camera\":{\"eye\":{\"x\":-1.6834088080008527,\"y\":-0.5395690735625494,\"z\":0.8}}}}},{\"layout\":{\"scene\":{\"camera\":{\"eye\":{\"x\":-1.7288657999572776,\"y\":-0.3688130227338533,\"z\":0.8}}}}},{\"layout\":{\"scene\":{\"camera\":{\"eye\":{\"x\":-1.7570485363275825,\"y\":-0.1943719140953739,\"z\":0.8}}}}},{\"layout\":{\"scene\":{\"camera\":{\"eye\":{\"x\":-1.7676754245259283,\"y\":-0.017988705542069106,\"z\":0.8}}}}}]);\n",
       "                        }).then(function(){\n",
       "                            \n",
       "var gd = document.getElementById('7a6a77e2-d447-444b-a27f-7b6d5711b935');\n",
       "var x = new MutationObserver(function (mutations, observer) {{\n",
       "        var display = window.getComputedStyle(gd).display;\n",
       "        if (!display || display === 'none') {{\n",
       "            console.log([gd, 'removed!']);\n",
       "            Plotly.purge(gd);\n",
       "            observer.disconnect();\n",
       "        }}\n",
       "}});\n",
       "\n",
       "// Listen for the removal of the full notebook cells\n",
       "var notebookContainer = gd.closest('#notebook-container');\n",
       "if (notebookContainer) {{\n",
       "    x.observe(notebookContainer, {childList: true});\n",
       "}}\n",
       "\n",
       "// Listen for the clearing of the current output cell\n",
       "var outputEl = gd.closest('.output');\n",
       "if (outputEl) {{\n",
       "    x.observe(outputEl, {childList: true});\n",
       "}}\n",
       "\n",
       "                        })                };                });            </script>        </div>"
      ]
     },
     "metadata": {},
     "output_type": "display_data"
    }
   ],
   "source": [
    "#Show the pcd_1\n",
    "pcshow(*sample_pointcloud_1.T)"
   ]
  },
  {
   "cell_type": "code",
   "execution_count": 137,
   "id": "98b3f662",
   "metadata": {},
   "outputs": [],
   "source": [
    "import torch\n",
    "import torch.nn as nn\n",
    "import numpy as np\n",
    "import torch.nn.functional as F\n",
    "\n",
    "class Tnet(nn.Module):\n",
    "    def __init__(self, k=3):\n",
    "        super().__init__()\n",
    "        self.k=k\n",
    "        self.conv1 = nn.Conv1d(k,64,1)\n",
    "        self.conv2 = nn.Conv1d(64,128,1)\n",
    "        self.conv3 = nn.Conv1d(128,1024,1)\n",
    "        self.fc1 = nn.Linear(1024,512)\n",
    "        self.fc2 = nn.Linear(512,256)\n",
    "        self.fc3 = nn.Linear(256,k*k)\n",
    "\n",
    "        self.bn1 = nn.BatchNorm1d(64)\n",
    "        self.bn2 = nn.BatchNorm1d(128)\n",
    "        self.bn3 = nn.BatchNorm1d(1024)\n",
    "        self.bn4 = nn.BatchNorm1d(512)\n",
    "        self.bn5 = nn.BatchNorm1d(256)\n",
    "\n",
    "\n",
    "    def forward(self, input):\n",
    "        # input.shape == (bs,n,3)\n",
    "        bs = input.size(0)\n",
    "        xb = F.relu(self.bn1(self.conv1(input)))\n",
    "        xb = F.relu(self.bn2(self.conv2(xb)))\n",
    "        xb = F.relu(self.bn3(self.conv3(xb)))\n",
    "        pool = nn.MaxPool1d(xb.size(-1))(xb)\n",
    "        flat = nn.Flatten(1)(pool)\n",
    "        xb = F.relu(self.bn4(self.fc1(flat)))\n",
    "        xb = F.relu(self.bn5(self.fc2(xb)))\n",
    "\n",
    "        #initialize as identity\n",
    "        init = torch.eye(self.k, requires_grad=True).repeat(bs,1,1)\n",
    "        if xb.is_cuda:\n",
    "            init=init.cuda()\n",
    "        matrix = self.fc3(xb).view(-1,self.k,self.k) + init\n",
    "        return matrix\n",
    "\n",
    "\n",
    "class Transform(nn.Module):\n",
    "    def __init__(self):\n",
    "        super().__init__()\n",
    "        self.input_transform = Tnet(k=3)\n",
    "        self.feature_transform = Tnet(k=64)\n",
    "        self.conv1 = nn.Conv1d(3,64,1)\n",
    "\n",
    "        self.conv2 = nn.Conv1d(64,128,1)\n",
    "        self.conv3 = nn.Conv1d(128,1024,1)\n",
    "\n",
    "\n",
    "        self.bn1 = nn.BatchNorm1d(64)\n",
    "        self.bn2 = nn.BatchNorm1d(128)\n",
    "        self.bn3 = nn.BatchNorm1d(1024)\n",
    "\n",
    "    def forward(self, input):\n",
    "        matrix3x3 = self.input_transform(input)\n",
    "        # batch matrix multiplication\n",
    "        xb = torch.bmm(torch.transpose(input,1,2), matrix3x3).transpose(1,2)\n",
    "\n",
    "        xb = F.relu(self.bn1(self.conv1(xb)))\n",
    "\n",
    "        matrix64x64 = self.feature_transform(xb)\n",
    "        xb = torch.bmm(torch.transpose(xb,1,2), matrix64x64).transpose(1,2)\n",
    "\n",
    "        xb = F.relu(self.bn2(self.conv2(xb)))\n",
    "        xb = self.bn3(self.conv3(xb))\n",
    "        xb = nn.MaxPool1d(xb.size(-1))(xb)\n",
    "        output = nn.Flatten(1)(xb)\n",
    "        return output, matrix3x3, matrix64x64\n",
    "\n",
    "class PointNet(nn.Module):\n",
    "    def __init__(self, classes = 10):\n",
    "        super().__init__()\n",
    "        self.transform = Transform()\n",
    "        self.fc1 = nn.Linear(1024, 512)\n",
    "        self.fc2 = nn.Linear(512, 256)\n",
    "        self.fc3 = nn.Linear(256, classes)\n",
    "        \n",
    "\n",
    "        self.bn1 = nn.BatchNorm1d(512)\n",
    "        self.bn2 = nn.BatchNorm1d(256)\n",
    "        self.dropout = nn.Dropout(p=0.3)\n",
    "        self.logsoftmax = nn.LogSoftmax(dim=1)\n",
    "\n",
    "    def forward(self, input):\n",
    "        xb, matrix3x3, matrix64x64 = self.transform(input)\n",
    "        xb = F.relu(self.bn1(self.fc1(xb)))\n",
    "        xb = F.relu(self.bn2(self.dropout(self.fc2(xb))))\n",
    "        output = self.fc3(xb)\n",
    "        return self.logsoftmax(output), matrix3x3, matrix64x64"
   ]
  },
  {
   "cell_type": "code",
   "execution_count": 138,
   "id": "83fcfff0",
   "metadata": {},
   "outputs": [
    {
     "name": "stdout",
     "output_type": "stream",
     "text": [
      "torch.Size([1024, 3])\n"
     ]
    }
   ],
   "source": [
    "pcd_array_0=np.asarray(pcd_obj_0.points)\n",
    "pcd_array_1=np.asarray(pcd_obj_1.points)\n",
    "pcd_array_2=np.asarray(pcd_obj_2.points)\n",
    "p0 = PointSampler(output_size=1024)(pcd_array_0)\n",
    "p1 = PointSampler(output_size=1024)(pcd_array_1)\n",
    "p2 = PointSampler(output_size=1024)(pcd_array_2)\n",
    "norm_p0 = Normalize()(p0)\n",
    "norm_p1 = Normalize()(p1)\n",
    "norm_p2 = Normalize()(p2)\n",
    "tensor_0 = ToTensor()(norm_p0)\n",
    "tensor_1 = ToTensor()(norm_p1)\n",
    "tensor_2 = ToTensor()(norm_p2)\n",
    "print(tensor_2.shape)"
   ]
  },
  {
   "cell_type": "code",
   "execution_count": 139,
   "id": "5fbcca1f",
   "metadata": {},
   "outputs": [
    {
     "name": "stdout",
     "output_type": "stream",
     "text": [
      "tensor([[[-0.2653, -0.1263, -0.0523],\n",
      "         [ 0.4501, -0.0384,  0.1943],\n",
      "         [-0.0451,  0.0634,  0.2188],\n",
      "         ...,\n",
      "         [-0.1298, -0.0601,  0.0918],\n",
      "         [-0.2916, -0.0378,  0.1933],\n",
      "         [ 0.8738,  0.0920,  0.1762]],\n",
      "\n",
      "        [[-0.5414, -0.2614, -0.1318],\n",
      "         [-0.5414, -0.2614, -0.1318],\n",
      "         [-0.0995, -0.1045,  0.1390],\n",
      "         ...,\n",
      "         [-0.1022,  0.2412,  0.1304],\n",
      "         [-0.1559, -0.1213,  0.1342],\n",
      "         [ 0.3286, -0.0490, -0.0388]],\n",
      "\n",
      "        [[ 0.1415, -0.0580,  0.0191],\n",
      "         [ 0.1862,  0.2343,  0.2509],\n",
      "         [-0.6227, -0.0612, -0.1501],\n",
      "         ...,\n",
      "         [-0.3297, -0.0847, -0.1898],\n",
      "         [ 0.4170, -0.0469,  0.0225],\n",
      "         [-0.6554, -0.0900, -0.1479]]])\n",
      "torch.Size([3, 1024, 3])\n"
     ]
    }
   ],
   "source": [
    "outputs =[]\n",
    "outputs.append(tensor_0)\n",
    "outputs.append(tensor_1)\n",
    "outputs.append(tensor_2)\n",
    "result = torch.stack(outputs, dim=0)\n",
    "result = result.float()\n",
    "print(result.float())\n",
    "print(result.shape)"
   ]
  },
  {
   "cell_type": "code",
   "execution_count": 140,
   "id": "fa1f7686",
   "metadata": {
    "scrolled": true
   },
   "outputs": [
    {
     "name": "stdout",
     "output_type": "stream",
     "text": [
      "tensor([1, 2, 2])\n"
     ]
    }
   ],
   "source": [
    "#Classification\n",
    "# {'2wd': 0,\n",
    "# 'bus_truck': 1,\n",
    "#  'car': 2,\n",
    "# 'pedestrian': 3,\n",
    "# 'pole': 4,\n",
    "# 'traffic_indicator': 5}\n",
    "\n",
    "pointnet = PointNet()\n",
    "pointnet.load_state_dict(torch.load('save.pth'))\n",
    "pointnet.eval();\n",
    "outputs, __, __ = pointnet(result.transpose(1,2))\n",
    "_, preds = torch.max(outputs.data, 1)\n",
    "print(preds)"
   ]
  },
  {
   "cell_type": "markdown",
   "id": "febd98b2",
   "metadata": {},
   "source": [
    "## Bouding box "
   ]
  },
  {
   "cell_type": "code",
   "execution_count": 143,
   "id": "4b4f1082",
   "metadata": {},
   "outputs": [
    {
     "name": "stdout",
     "output_type": "stream",
     "text": [
      "[ 1.80909386  2.92510188 -0.94232119]\n",
      "OrientedBoundingBox: center: (1.64719, 5.47614, -0.448715), extent: 59.4501, 23.1148, 3.39835)\n"
     ]
    }
   ],
   "source": [
    "aabb=outlier_cloud.get_axis_aligned_bounding_box()\n",
    "aabb.color = (1, 0, 0)\n",
    "center = outlier_cloud.get_center()\n",
    "print(center)\n",
    "ori_box=outlier_cloud.get_oriented_bounding_box()\n",
    "print(ori_box)\n",
    "ori_box.color = (0, 1, 0)\n",
    "o3d.visualization.draw_geometries([outlier_cloud, aabb, ori_box],\n",
    "                                  zoom=0.7,\n",
    "                                  front=[0.5439, -0.2333, -0.8060],\n",
    "                                  lookat=[2.4615, 2.1331, 1.338],\n",
    "                                  up=[-0.1781, -0.9708, 0.1608])\n"
   ]
  },
  {
   "cell_type": "markdown",
   "id": "86412322",
   "metadata": {},
   "source": [
    "## KDTree\n",
    "http://www.open3d.org/docs/0.10.0/tutorial/Basic/kdtree.html\n",
    "\n",
    "http://www.open3d.org/docs/release/python_api/open3d.geometry.KDTreeFlann.html\n",
    "\n",
    "KD Tree FLann for nearest neigbor search"
   ]
  },
  {
   "cell_type": "code",
   "execution_count": 17,
   "id": "ed7478aa",
   "metadata": {},
   "outputs": [
    {
     "name": "stdout",
     "output_type": "stream",
     "text": [
      "Testing the KD-Tree in open3D\n"
     ]
    }
   ],
   "source": [
    "#KDTree\n",
    "#Filtering\n",
    "#outlier_cloud is the point cloud input\n",
    "print(\"Testing the KD-Tree in open3D\")\n",
    "outlier_cloud.paint_uniform_color([0.5, 0.5, 0.5])\n",
    "pcd_tree =o3d.geometry.KDTreeFlann(outlier_cloud)\n",
    "# Find the neighboring points\n",
    "# We pick 500-th points as the anchor point and paint it red\n",
    "outlier_cloud.colors[500] = [1, 0, 0]\n",
    "\n",
    "#Using the search knn_vector_3d, Find its 500 nearest neighbors, paint blue.\n",
    "[k, idx, _] = pcd_tree.search_knn_vector_3d(outlier_cloud.points[500], 500)\n",
    "np.asarray(outlier_cloud.colors)[idx[1:], :]=[0,0,1]\n",
    "#using search radius vector 3d in 0.2m\n",
    "[k, idx, _] = pcd_tree.search_radius_vector_3d(outlier_cloud.points[500], 0.2)\n",
    "np.asarray(outlier_cloud.colors)[idx[1:], :] = [0, 1, 0]\n",
    "\n",
    "o3d.visualization.draw_geometries([outlier_cloud],\n",
    "                                  zoom=0.3412,\n",
    "                                  front=[0.4257, -0.2125, -0.8795],\n",
    "                                  lookat=[2.6172, 2.0475, 1.532],\n",
    "                                  up=[-0.0694, -0.9768, 0.2024])"
   ]
  },
  {
   "cell_type": "code",
   "execution_count": null,
   "id": "dc175b4a",
   "metadata": {},
   "outputs": [],
   "source": []
  }
 ],
 "metadata": {
  "kernelspec": {
   "display_name": "open3d-env",
   "language": "python",
   "name": "open3d-env"
  },
  "language_info": {
   "codemirror_mode": {
    "name": "ipython",
    "version": 3
   },
   "file_extension": ".py",
   "mimetype": "text/x-python",
   "name": "python",
   "nbconvert_exporter": "python",
   "pygments_lexer": "ipython3",
   "version": "3.8.13"
  }
 },
 "nbformat": 4,
 "nbformat_minor": 5
}
